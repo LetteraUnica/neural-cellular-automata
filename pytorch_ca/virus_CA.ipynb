{
 "cells": [
  {
   "cell_type": "code",
   "execution_count": 9,
   "metadata": {},
   "outputs": [],
   "source": [
    "import torch\n",
    "from torchvision.io import read_image, ImageReadMode, write_video\n",
    "import torchvision.transforms as T\n",
    "from random import randint\n",
    "from IPython.display import clear_output\n",
    "import numpy as np\n",
    "import pylab as pl\n",
    "import wandb\n",
    "\n",
    "from src import *"
   ]
  },
  {
   "cell_type": "code",
   "execution_count": 10,
   "metadata": {},
   "outputs": [],
   "source": [
    "N_CHANNELS = 15        # Number of CA state channels\n",
    "TARGET_PADDING = 8    # Number of pixels used to pad the target image border\n",
    "TARGET_SIZE = 40       # Size of the target emoji\n",
    "IMAGE_SIZE = TARGET_PADDING+TARGET_SIZE\n",
    "BATCH_SIZE = 4\n",
    "N_ITERS = 45           # Iterations before applying the loss\n",
    "POOL_SIZE = 512\n",
    "CELL_FIRE_RATE = 0.5\n",
    "VIRUS_PROPORTION = 0.1"
   ]
  },
  {
   "cell_type": "code",
   "execution_count": 11,
   "metadata": {},
   "outputs": [],
   "source": [
    "device = torch.device(\"cuda\" if torch.cuda.is_available() else \"cpu\")"
   ]
  },
  {
   "cell_type": "code",
   "execution_count": 12,
   "metadata": {},
   "outputs": [
    {
     "name": "stdout",
     "output_type": "stream",
     "text": [
      "Successfully loaded model!\n"
     ]
    }
   ],
   "source": [
    "# Load the growing CA part\n",
    "old_CA = NeuralCA(device=device)\n",
    "old_CA.load(\"Pretrained_models/firework_growing.pt\")\n",
    "\n",
    "for param in old_CA.parameters():\n",
    "   param.requires_grad = False"
   ]
  },
  {
   "cell_type": "code",
   "execution_count": 13,
   "metadata": {},
   "outputs": [
    {
     "name": "stderr",
     "output_type": "stream",
     "text": [
      "Clipping input data to the valid range for imshow with RGB data ([0..1] for floats or [0..255] for integers).\n"
     ]
    },
    {
     "data": {
      "image/png": "[encoded data removed]",
      "text/plain": [
       "<Figure size 432x288 with 1 Axes>"
      ]
     },
     "metadata": {
      "needs_background": "light"
     },
     "output_type": "display_data"
    },
    {
     "data": {
      "text/plain": [
       "<matplotlib.image.AxesImage at 0x7fed796b3f40>"
      ]
     },
     "execution_count": 13,
     "metadata": {},
     "output_type": "execute_result"
    }
   ],
   "source": [
    "# Starting state\n",
    "def generator(n, device):\n",
    "    return make_seed(n, N_CHANNELS-1, IMAGE_SIZE, alpha_channel=3, device=device)\n",
    "\n",
    "generator = VirusGenerator(N_CHANNELS, IMAGE_SIZE, 1, old_CA, iter_func=ExponentialSampler(max=50))\n",
    "pool = SamplePool(POOL_SIZE, generator)\n",
    "imshow(pool[0])"
   ]
  },
  {
   "cell_type": "code",
   "execution_count": 14,
   "metadata": {
    "tags": []
   },
   "outputs": [
    {
     "data": {
      "image/png": "[encoded data removed]",
      "text/plain": [
       "<Figure size 432x288 with 1 Axes>"
      ]
     },
     "metadata": {
      "needs_background": "light"
     },
     "output_type": "display_data"
    },
    {
     "data": {
      "text/plain": [
       "<matplotlib.image.AxesImage at 0x7fed85157ee0>"
      ]
     },
     "execution_count": 14,
     "metadata": {},
     "output_type": "execute_result"
    }
   ],
   "source": [
    "# Imports the target emoji\n",
    "target = read_image(\"images/firework.png\", ImageReadMode.RGB_ALPHA).float()\n",
    "target = T.Resize((TARGET_SIZE, TARGET_SIZE))(target)\n",
    "target = RGBAtoFloat(target)\n",
    "\n",
    "imshow(target)"
   ]
  },
  {
   "cell_type": "code",
   "execution_count": 15,
   "metadata": {},
   "outputs": [],
   "source": [
    "# Send target to device\n",
    "target = target.to(device)"
   ]
  },
  {
   "cell_type": "code",
   "execution_count": 16,
   "metadata": {},
   "outputs": [
    {
     "name": "stdout",
     "output_type": "stream",
     "text": [
      "Successfully loaded model!\n"
     ]
    }
   ],
   "source": [
    "# Load the virus CA part\n",
    "new_CA = NeuralCA(device=device)\n",
    "new_CA.load(\"Pretrained_models/mask/mask 90.0% persist.pt\")\n",
    "model = VirusCA(old_CA, new_CA, mutation_probability=0.95)\n",
    "model.initialized = False"
   ]
  },
  {
   "cell_type": "code",
   "execution_count": null,
   "metadata": {},
   "outputs": [],
   "source": [
    "for i in range(19, 7, -1):\n",
    "    mask_percentage = i / 20\n",
    "    wandb.init()\n",
    "\n",
    "    # Model setup\n",
    "    model.mutation_probability = mask_percentage\n",
    "    \n",
    "    # Pool setup\n",
    "    generator = VirusGenerator(N_CHANNELS, IMAGE_SIZE, 1, old_CA, iter_func=ExponentialSampler(max=50))\n",
    "    pool = SamplePool(POOL_SIZE, generator)\n",
    "    imshow(pool[0])\n",
    "\n",
    "    # Train loop\n",
    "    wandb.watch(model, log_freq=64)\n",
    "    optimizer = torch.optim.Adam(model.new_CA.parameters(), lr=1e-3)\n",
    "    criterion = NCALoss(pad(target, TARGET_PADDING))\n",
    "    scheduler = torch.optim.lr_scheduler.MultiStepLR(optimizer, milestones=[20,40], gamma=0.3)\n",
    "    model.train_CA(optimizer, criterion, pool, n_epochs=50, scheduler=scheduler, kind=\"persist\", batch_size=4, skip_update=2, skip_damage=2)\n",
    "\n",
    "    # Save the model and upload it to wandb\n",
    "    model.new_CA.save(f\"Pretrained_models/mask/mask {mask_percentage*100:0.1f}% persist.pt\")\n",
    "    wandb.log({\"state_dict\": model.new_CA.state_dict()})\n",
    "    wandb.save(f\"Pretrained_models/mask/mask {mask_percentage*100:0.1f}% persist.pt\")\n",
    "\n",
    "    wandb.finish()"
   ]
  },
  {
   "cell_type": "code",
   "execution_count": 55,
   "id": "64e51902",
   "metadata": {},
   "outputs": [
    {
     "name": "stdout",
     "output_type": "stream",
     "text": [
      "Successfully loaded model!\n"
     ]
    },
    {
     "name": "stderr",
     "output_type": "stream",
     "text": [
      "/home/lettera/anaconda3/lib/python3.8/site-packages/torch/nn/modules/loss.py:528: UserWarning: Using a target size (torch.Size([4, 48, 48])) that is different to the input size (torch.Size([32, 4, 48, 48])). This will likely lead to incorrect results due to broadcasting. Please ensure they have the same size.\n",
      "  return F.mse_loss(input, target, reduction=self.reduction)\n"
     ]
    },
    {
     "name": "stdout",
     "output_type": "stream",
     "text": [
      "Successfully loaded model!\n",
      "Successfully loaded model!\n",
      "Successfully loaded model!\n",
      "Successfully loaded model!\n",
      "Successfully loaded model!\n",
      "Successfully loaded model!\n",
      "Successfully loaded model!\n",
      "Successfully loaded model!\n"
     ]
    }
   ],
   "source": [
    "eval_results = {}\n",
    "\n",
    "for i in range(19, 10, -1):\n",
    "    mask_percentage = i / 20\n",
    "\n",
    "    new_CA = NeuralCA(device=device)\n",
    "    new_CA.load(f\"Pretrained_models/mask/mask {mask_percentage*100:.1f}% persist.pt\")\n",
    "    model = VirusCA(old_CA, new_CA, mutation_probability=mask_percentage)\n",
    "    model.initialized = False\n",
    "\n",
    "    criterion = NCALoss(pad(target, TARGET_PADDING))\n",
    "    eval_results[mask_percentage] = model.test_CA(criterion, pool.sample(64)[0], evolution_iters=3000)"
   ]
  },
  {
   "cell_type": "code",
   "execution_count": 62,
   "id": "67730857",
   "metadata": {},
   "outputs": [],
   "source": [
    "from collections import OrderedDict\n",
    "import pickle\n",
    "\n",
    "results = pickle.load(open(\"eval_results.pkl\", \"rb\"))\n",
    "results = OrderedDict(sorted(results.items(), key=lambda t: t[0]))"
   ]
  },
  {
   "cell_type": "code",
   "execution_count": 96,
   "id": "8c8a1d84",
   "metadata": {},
   "outputs": [
    {
     "name": "stdout",
     "output_type": "stream",
     "text": [
      "Successfully loaded model!\n"
     ]
    },
    {
     "name": "stderr",
     "output_type": "stream",
     "text": [
      "/home/lettera/anaconda3/lib/python3.8/site-packages/torch/nn/modules/loss.py:528: UserWarning: Using a target size (torch.Size([4, 48, 48])) that is different to the input size (torch.Size([32, 4, 48, 48])). This will likely lead to incorrect results due to broadcasting. Please ensure they have the same size.\n",
      "  return F.mse_loss(input, target, reduction=self.reduction)\n"
     ]
    }
   ],
   "source": [
    "mask_percentage = 0.\n",
    "\n",
    "new_CA = NeuralCA(device=device)\n",
    "new_CA.load(f\"Pretrained_models/mask/mask 95.0% persist.pt\")\n",
    "model = VirusCA(old_CA, new_CA, mutation_probability=mask_percentage)\n",
    "model.initialized = False\n",
    "\n",
    "criterion = NCALoss(pad(target, TARGET_PADDING))\n",
    "results[mask_percentage] = model.test_CA(criterion, make_seed(64, 15, 48, alpha_channel=3), evolution_iters=3000)"
   ]
  },
  {
   "cell_type": "code",
   "execution_count": 97,
   "id": "bf769c7c",
   "metadata": {},
   "outputs": [
    {
     "data": {
      "image/png": "[encoded data removed]",
      "text/plain": [
       "<Figure size 432x288 with 1 Axes>"
      ]
     },
     "metadata": {},
     "output_type": "display_data"
    }
   ],
   "source": [
    "fig, ax = plt.subplots()\n",
    "\n",
    "ax.loglog(results[0.], label=\"Growing\", color=\"orange\")\n",
    "\n",
    "for k, v in results.items():\n",
    "    if k < 0.6: continue\n",
    "    colormap = pl.cm.get_cmap(\"viridis\")\n",
    "    ax.loglog(v, label=f\"{k*100:.1f}%\", color=colormap(2*(1-k)))\n",
    "\n",
    "pl.xlabel(\"Iterations\")\n",
    "pl.ylabel(\"Loss\")\n",
    "pl.legend(frameon=False)\n",
    "ax.spines['top'].set_visible(False)\n",
    "ax.spines['right'].set_visible(False)\n",
    "\n",
    "pl.savefig(\"Presentation_images/mask_by_percentage.svg\", dpi=300)\n",
    "pl.show()"
   ]
  },
  {
   "cell_type": "code",
   "execution_count": 220,
   "id": "ec871594",
   "metadata": {},
   "outputs": [
    {
     "name": "stderr",
     "output_type": "stream",
     "text": [
      "Clipping input data to the valid range for imshow with RGB data ([0..1] for floats or [0..255] for integers).\n"
     ]
    },
    {
     "data": {
      "image/png": "[encoded data removed]",
      "text/plain": [
       "<Figure size 432x288 with 1 Axes>"
      ]
     },
     "metadata": {},
     "output_type": "display_data"
    },
    {
     "data": {
      "text/plain": [
       "<matplotlib.image.AxesImage at 0x7fed5ca057c0>"
      ]
     },
     "execution_count": 220,
     "metadata": {},
     "output_type": "execute_result"
    }
   ],
   "source": [
    "imshow(best_image[0], fname=\"loss_5e-3.png\")"
   ]
  },
  {
   "cell_type": "code",
   "execution_count": 219,
   "id": "2ea0113c",
   "metadata": {},
   "outputs": [
    {
     "name": "stdout",
     "output_type": "stream",
     "text": [
      "Successfully loaded model!\n",
      "tensor(0.0040, device='cuda:0') 100\n",
      "tensor(0.0040, device='cuda:0') tensor(0.0040, device='cuda:0')\n",
      "tensor(0.0041, device='cuda:0') tensor(0.0040, device='cuda:0')\n",
      "tensor(0.0042, device='cuda:0') tensor(0.0041, device='cuda:0')\n",
      "tensor(0.0043, device='cuda:0') tensor(0.0042, device='cuda:0')\n",
      "tensor(0.0044, device='cuda:0') tensor(0.0043, device='cuda:0')\n",
      "tensor(0.0044, device='cuda:0') tensor(0.0044, device='cuda:0')\n",
      "tensor(0.0044, device='cuda:0') tensor(0.0044, device='cuda:0')\n",
      "tensor(0.0045, device='cuda:0') tensor(0.0044, device='cuda:0')\n",
      "tensor(0.0045, device='cuda:0') tensor(0.0045, device='cuda:0')\n",
      "tensor(0.0046, device='cuda:0') tensor(0.0045, device='cuda:0')\n",
      "tensor(0.0046, device='cuda:0') tensor(0.0046, device='cuda:0')\n",
      "tensor(0.0047, device='cuda:0') tensor(0.0046, device='cuda:0')\n",
      "tensor(0.0048, device='cuda:0') tensor(0.0047, device='cuda:0')\n",
      "tensor(0.0048, device='cuda:0') tensor(0.0048, device='cuda:0')\n",
      "tensor(0.0049, device='cuda:0') tensor(0.0048, device='cuda:0')\n"
     ]
    }
   ],
   "source": [
    "with torch.no_grad():\n",
    "    best_loss = 100\n",
    "    mask_percentage = 0.9\n",
    "    new_CA = NeuralCA(device=device)\n",
    "    new_CA.load(f\"Pretrained_models/mask/mask {mask_percentage*100:.1f}% persist.pt\")\n",
    "    model = VirusCA(old_CA, new_CA, mutation_probability=mask_percentage)\n",
    "    model.initialized = False\n",
    "\n",
    "    criterion = NCALoss(pad(target, TARGET_PADDING))\n",
    "\n",
    "    x = pool.sample(1)[0].to(device)\n",
    "    x = model.evolve(x, 100)\n",
    "    for i in range(1000):\n",
    "        x = model(x)\n",
    "        loss, _ = criterion(x)\n",
    "        \n",
    "        if loss < 5e-3 and loss > 4e-3:\n",
    "            print(loss, best_loss)\n",
    "            best_loss = loss\n",
    "            best_image = x.clone()\n",
    "            best_iter = i\n",
    "\n"
   ]
  },
  {
   "cell_type": "code",
   "execution_count": 21,
   "metadata": {},
   "outputs": [
    {
     "name": "stderr",
     "output_type": "stream",
     "text": [
      "Clipping input data to the valid range for imshow with RGB data ([0..1] for floats or [0..255] for integers).\n"
     ]
    },
    {
     "data": {
      "image/png": "[encoded data removed]",
      "text/plain": [
       "<Figure size 432x288 with 1 Axes>"
      ]
     },
     "metadata": {
      "needs_background": "light"
     },
     "output_type": "display_data"
    },
    {
     "data": {
      "text/plain": [
       "<matplotlib.image.AxesImage at 0x7f4dc8f80130>"
      ]
     },
     "execution_count": 21,
     "metadata": {},
     "output_type": "execute_result"
    }
   ],
   "source": [
    "# Starting state\n",
    "def generator(n, device):\n",
    "    return make_seed(n, N_CHANNELS-1, IMAGE_SIZE, alpha_channel=3, device=device)\n",
    "\n",
    "generator = VirusGenerator(N_CHANNELS, IMAGE_SIZE, 1, old_CA, iter_func=ExponentialSampler(max=50))\n",
    "pool = SamplePool(POOL_SIZE, generator)\n",
    "imshow(pool[0])"
   ]
  },
  {
   "cell_type": "code",
   "execution_count": 22,
   "metadata": {},
   "outputs": [
    {
     "name": "stderr",
     "output_type": "stream",
     "text": [
      "wandb: ERROR Dropped streaming file chunk (see wandb/debug-internal.log)\n",
      "ERROR:root:dropped chunk 404 Client Error: Not Found for url: https://api.wandb.ai/files/lettera/neural_cellular_automata-pytorch_ca/uyabvw7h/file_stream\n",
      "NoneType: None\n",
      "wandb: ERROR Dropped streaming file chunk (see wandb/debug-internal.log)\n",
      "ERROR:root:dropped chunk 404 Client Error: Not Found for url: https://api.wandb.ai/files/lettera/neural_cellular_automata-pytorch_ca/uyabvw7h/file_stream\n",
      "NoneType: None\n"
     ]
    },
    {
     "name": "stdout",
     "output_type": "stream",
     "text": [
      "epoch: 50\n",
      "avg loss: 0.0005991007901684497\n"
     ]
    }
   ],
   "source": [
    "# Train the model\n",
    "wandb.watch(model, log_freq=64)\n",
    "\n",
    "optimizer = torch.optim.Adam(model.new_CA.parameters(), lr=1e-3)\n",
    "criterion = NCALoss(pad(target, TARGET_PADDING))\n",
    "scheduler = torch.optim.lr_scheduler.MultiStepLR(optimizer, milestones=[20,40], gamma=0.3)\n",
    "model.train_CA(optimizer, criterion, pool, n_epochs=50, scheduler=scheduler, kind=\"persist\", batch_size=4, skip_update=2, skip_damage=2)"
   ]
  },
  {
   "cell_type": "code",
   "execution_count": 25,
   "metadata": {},
   "outputs": [
    {
     "name": "stderr",
     "output_type": "stream",
     "text": [
      "wandb: ERROR Dropped streaming file chunk (see wandb/debug-internal.log)\n",
      "ERROR:root:dropped chunk 404 Client Error: Not Found for url: https://api.wandb.ai/files/lettera/neural_cellular_automata-pytorch_ca/uyabvw7h/file_stream\n",
      "NoneType: None\n"
     ]
    }
   ],
   "source": [
    "wandb.finish()"
   ]
  },
  {
   "cell_type": "code",
   "execution_count": 98,
   "metadata": {},
   "outputs": [
    {
     "data": {
      "text/plain": [
       "<matplotlib.image.AxesImage at 0x7f3abc684430>"
      ]
     },
     "execution_count": 98,
     "metadata": {},
     "output_type": "execute_result"
    },
    {
     "data": {
      "image/png": "[encoded data removed]",
      "text/plain": [
       "<Figure size 288x288 with 1 Axes>"
      ]
     },
     "metadata": {
      "needs_background": "light"
     },
     "output_type": "display_data"
    }
   ],
   "source": [
    "img = T.Resize(48*8, T.InterpolationMode.NEAREST)(model.new_cells).cpu()\n",
    "pl.matshow(img[0, 0])\n",
    "#save_image(GrayscaletoCmap(img[0, 0]), \"mask new 2.png\")\n",
    "#pl.axis('off')\n",
    "#pl.savefig(\"mask 90%.png\")"
   ]
  },
  {
   "cell_type": "code",
   "execution_count": 18,
   "metadata": {},
   "outputs": [],
   "source": [
    "new_mask = model.new_cells.clone()\n",
    "new_mask[:, :, :, 24:] = 1.\n",
    "model.set_cell_mask(new_mask)"
   ]
  },
  {
   "cell_type": "code",
   "execution_count": null,
   "metadata": {},
   "outputs": [],
   "source": [
    "# Show losses\n",
    "model.plot_losses()"
   ]
  },
  {
   "cell_type": "code",
   "execution_count": null,
   "metadata": {},
   "outputs": [],
   "source": [
    "# Show a sample from the pool images\n",
    "imshow(pool.sample(1)[0][0])"
   ]
  },
  {
   "cell_type": "code",
   "execution_count": 13,
   "metadata": {},
   "outputs": [
    {
     "name": "stdout",
     "output_type": "stream",
     "text": [
      "Successfully saved model!\n"
     ]
    },
    {
     "data": {
      "text/plain": [
       "['/home/lettera/Desktop/neural_cellular_automata/pytorch_ca/wandb/run-20211026_171534-30ewk9yt/files/Pretrained_models/mask/mask 95.0% persist.pt']"
      ]
     },
     "execution_count": 13,
     "metadata": {},
     "output_type": "execute_result"
    }
   ],
   "source": [
    "# Save the model and upload it to wandb\n",
    "model.new_CA.save(f\"Pretrained_models/mask/mask {mask_percentage*100}% persist.pt\")\n",
    "\n",
    "wandb.log({\"state_dict\": model.new_CA.state_dict()})\n",
    "wandb.save(f\"Pretrained_models/mask/mask {mask_percentage*100}% persist.pt\")"
   ]
  },
  {
   "cell_type": "code",
   "execution_count": null,
   "metadata": {},
   "outputs": [],
   "source": [
    "# Upload pool images to wandb\n",
    "imgs = []\n",
    "\n",
    "for i in range(12):\n",
    "    img = np.asarray(pool.sample(1)[0][0].cpu().permute(1, 2, 0)[:, :, :4])\n",
    "    img = wandb.Image(img)\n",
    "    imgs.append(img)\n",
    "\n",
    "wandb.log({\"pool samples\": imgs})"
   ]
  },
  {
   "cell_type": "code",
   "execution_count": null,
   "metadata": {},
   "outputs": [],
   "source": [
    "# Show the virus cell mask\n",
    "pl.matshow(model.new_cells.cpu()[0,0])"
   ]
  },
  {
   "cell_type": "code",
   "execution_count": null,
   "metadata": {},
   "outputs": [],
   "source": [
    "# Upload mask to wandb\n",
    "wandb.log({\"mask\": wandb.Image(model.new_cells.cpu()[0,0])})"
   ]
  },
  {
   "cell_type": "code",
   "execution_count": 21,
   "metadata": {},
   "outputs": [],
   "source": [
    "# Make a switch video\n",
    "_ , _ = switch_video(old_CA, model, fname=\"mask 70%.mp4\")"
   ]
  },
  {
   "cell_type": "code",
   "execution_count": 20,
   "metadata": {},
   "outputs": [
    {
     "ename": "FileNotFoundError",
     "evalue": "[Errno 2] No such file or directory: 'prova.mp4'",
     "output_type": "error",
     "traceback": [
      "\u001b[0;31m---------------------------------------------------------------------------\u001b[0m",
      "\u001b[0;31mFileNotFoundError\u001b[0m                         Traceback (most recent call last)",
      "\u001b[0;32m/tmp/ipykernel_8521/230962637.py\u001b[0m in \u001b[0;36m<module>\u001b[0;34m\u001b[0m\n\u001b[1;32m      1\u001b[0m \u001b[0;31m# Upload the evolution video to wandb\u001b[0m\u001b[0;34m\u001b[0m\u001b[0;34m\u001b[0m\u001b[0;34m\u001b[0m\u001b[0m\n\u001b[0;32m----> 2\u001b[0;31m \u001b[0mwandb\u001b[0m\u001b[0;34m.\u001b[0m\u001b[0mlog\u001b[0m\u001b[0;34m(\u001b[0m\u001b[0;34m{\u001b[0m\u001b[0;34m\"video\"\u001b[0m\u001b[0;34m:\u001b[0m \u001b[0mwandb\u001b[0m\u001b[0;34m.\u001b[0m\u001b[0mVideo\u001b[0m\u001b[0;34m(\u001b[0m\u001b[0;34m\"prova.mp4\"\u001b[0m\u001b[0;34m,\u001b[0m \u001b[0;34m\"video\"\u001b[0m\u001b[0;34m,\u001b[0m \u001b[0mfps\u001b[0m\u001b[0;34m=\u001b[0m\u001b[0;36m10\u001b[0m\u001b[0;34m,\u001b[0m \u001b[0mformat\u001b[0m\u001b[0;34m=\u001b[0m\u001b[0;34m\"mp4\"\u001b[0m\u001b[0;34m)\u001b[0m\u001b[0;34m}\u001b[0m\u001b[0;34m)\u001b[0m\u001b[0;34m\u001b[0m\u001b[0;34m\u001b[0m\u001b[0m\n\u001b[0m",
      "\u001b[0;32m~/anaconda3/lib/python3.8/site-packages/wandb/sdk/data_types.py\u001b[0m in \u001b[0;36m__init__\u001b[0;34m(self, data_or_path, caption, fps, format)\u001b[0m\n\u001b[1;32m   1094\u001b[0m                     \u001b[0;34m\"wandb.Video accepts %s formats\"\u001b[0m \u001b[0;34m%\u001b[0m \u001b[0;34m\", \"\u001b[0m\u001b[0;34m.\u001b[0m\u001b[0mjoin\u001b[0m\u001b[0;34m(\u001b[0m\u001b[0mVideo\u001b[0m\u001b[0;34m.\u001b[0m\u001b[0mEXTS\u001b[0m\u001b[0;34m)\u001b[0m\u001b[0;34m\u001b[0m\u001b[0;34m\u001b[0m\u001b[0m\n\u001b[1;32m   1095\u001b[0m                 )\n\u001b[0;32m-> 1096\u001b[0;31m             \u001b[0mself\u001b[0m\u001b[0;34m.\u001b[0m\u001b[0m_set_file\u001b[0m\u001b[0;34m(\u001b[0m\u001b[0mdata_or_path\u001b[0m\u001b[0;34m,\u001b[0m \u001b[0mis_tmp\u001b[0m\u001b[0;34m=\u001b[0m\u001b[0;32mFalse\u001b[0m\u001b[0;34m)\u001b[0m\u001b[0;34m\u001b[0m\u001b[0;34m\u001b[0m\u001b[0m\n\u001b[0m\u001b[1;32m   1097\u001b[0m             \u001b[0;31m# ffprobe -v error -select_streams v:0 -show_entries stream=width,height -of csv=p=0 data_or_path\u001b[0m\u001b[0;34m\u001b[0m\u001b[0;34m\u001b[0m\u001b[0;34m\u001b[0m\u001b[0m\n\u001b[1;32m   1098\u001b[0m         \u001b[0;32melse\u001b[0m\u001b[0;34m:\u001b[0m\u001b[0;34m\u001b[0m\u001b[0;34m\u001b[0m\u001b[0m\n",
      "\u001b[0;32m~/anaconda3/lib/python3.8/site-packages/wandb/sdk/data_types.py\u001b[0m in \u001b[0;36m_set_file\u001b[0;34m(self, path, is_tmp, extension)\u001b[0m\n\u001b[1;32m    450\u001b[0m             )\n\u001b[1;32m    451\u001b[0m \u001b[0;34m\u001b[0m\u001b[0m\n\u001b[0;32m--> 452\u001b[0;31m         \u001b[0;32mwith\u001b[0m \u001b[0mopen\u001b[0m\u001b[0;34m(\u001b[0m\u001b[0mself\u001b[0m\u001b[0;34m.\u001b[0m\u001b[0m_path\u001b[0m\u001b[0;34m,\u001b[0m \u001b[0;34m\"rb\"\u001b[0m\u001b[0;34m)\u001b[0m \u001b[0;32mas\u001b[0m \u001b[0mf\u001b[0m\u001b[0;34m:\u001b[0m\u001b[0;34m\u001b[0m\u001b[0;34m\u001b[0m\u001b[0m\n\u001b[0m\u001b[1;32m    453\u001b[0m             \u001b[0mself\u001b[0m\u001b[0;34m.\u001b[0m\u001b[0m_sha256\u001b[0m \u001b[0;34m=\u001b[0m \u001b[0mhashlib\u001b[0m\u001b[0;34m.\u001b[0m\u001b[0msha256\u001b[0m\u001b[0;34m(\u001b[0m\u001b[0mf\u001b[0m\u001b[0;34m.\u001b[0m\u001b[0mread\u001b[0m\u001b[0;34m(\u001b[0m\u001b[0;34m)\u001b[0m\u001b[0;34m)\u001b[0m\u001b[0;34m.\u001b[0m\u001b[0mhexdigest\u001b[0m\u001b[0;34m(\u001b[0m\u001b[0;34m)\u001b[0m\u001b[0;34m\u001b[0m\u001b[0;34m\u001b[0m\u001b[0m\n\u001b[1;32m    454\u001b[0m         \u001b[0mself\u001b[0m\u001b[0;34m.\u001b[0m\u001b[0m_size\u001b[0m \u001b[0;34m=\u001b[0m \u001b[0mos\u001b[0m\u001b[0;34m.\u001b[0m\u001b[0mpath\u001b[0m\u001b[0;34m.\u001b[0m\u001b[0mgetsize\u001b[0m\u001b[0;34m(\u001b[0m\u001b[0mself\u001b[0m\u001b[0;34m.\u001b[0m\u001b[0m_path\u001b[0m\u001b[0;34m)\u001b[0m\u001b[0;34m\u001b[0m\u001b[0;34m\u001b[0m\u001b[0m\n",
      "\u001b[0;31mFileNotFoundError\u001b[0m: [Errno 2] No such file or directory: 'prova.mp4'"
     ]
    }
   ],
   "source": [
    "# Upload the evolution video to wandb\n",
    "wandb.log({\"video\": wandb.Video(\"prova.mp4\", \"video\", fps=10, format=\"mp4\")})"
   ]
  },
  {
   "cell_type": "code",
   "execution_count": 92,
   "metadata": {},
   "outputs": [
    {
     "name": "stderr",
     "output_type": "stream",
     "text": [
      "Clipping input data to the valid range for imshow with RGB data ([0..1] for floats or [0..255] for integers).\n"
     ]
    },
    {
     "data": {
      "image/png": "[encoded data removed]",
      "text/plain": [
       "<Figure size 432x288 with 1 Axes>"
      ]
     },
     "metadata": {},
     "output_type": "display_data"
    },
    {
     "name": "stderr",
     "output_type": "stream",
     "text": [
      "Clipping input data to the valid range for imshow with RGB data ([0..1] for floats or [0..255] for integers).\n"
     ]
    },
    {
     "data": {
      "image/png": "[encoded data removed]",
      "text/plain": [
       "<Figure size 432x288 with 1 Axes>"
      ]
     },
     "metadata": {},
     "output_type": "display_data"
    }
   ],
   "source": [
    "# Evolve the CA for 200 iters and plot it\n",
    "x, _ = pool.sample(1)\n",
    "imshow(x[0])\n",
    "x = x.to(device)\n",
    "model.update_cell_mask(x)\n",
    "\n",
    "with torch.no_grad():\n",
    "    x = model.evolve(x, 30)\n",
    "\n",
    "imshow(x[0].cpu())\n",
    "\n",
    "img = T.Resize(48*8, T.InterpolationMode.NEAREST)(x[0:1]).cpu()\n",
    "save_image(RGBAtoRGB(img[:, :4])/255, \"mask new 2.png\")"
   ]
  },
  {
   "cell_type": "code",
   "execution_count": null,
   "metadata": {},
   "outputs": [],
   "source": [
    "# Plots the true emoji\n",
    "imshow(TraintoFloat(pad(target, 10, -1)))"
   ]
  },
  {
   "cell_type": "code",
   "execution_count": null,
   "metadata": {},
   "outputs": [],
   "source": [
    "wandb.finish()"
   ]
  }
 ],
 "metadata": {
  "interpreter": {
   "hash": "f38bca3c9600444284abf86780be38c386e032d708dbe2e8970d98e9b2d0aa36"
  },
  "kernelspec": {
   "display_name": "Python 3.8.11 64-bit ('base': conda)",
   "name": "python3"
  },
  "language_info": {
   "codemirror_mode": {
    "name": "ipython",
    "version": 3
   },
   "file_extension": ".py",
   "mimetype": "text/x-python",
   "name": "python",
   "nbconvert_exporter": "python",
   "pygments_lexer": "ipython3",
   "version": "3.8.11"
  }
 },
 "nbformat": 4,
 "nbformat_minor": 5
}
