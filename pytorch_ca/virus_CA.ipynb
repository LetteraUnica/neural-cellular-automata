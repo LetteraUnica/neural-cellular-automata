{
 "cells": [
  {
   "cell_type": "code",
   "execution_count": 1,
   "id": "cc3ff556",
   "metadata": {},
   "outputs": [],
   "source": [
    "import torch\n",
    "from torchvision.io import read_image, ImageReadMode\n",
    "import torchvision.transforms as T\n",
    "from IPython.display import clear_output\n",
    "import wandb\n",
    "\n",
    "import numpy as np\n",
    "import pylab as pl\n",
    "\n",
    "from src import *\n",
    "\n",
    "import sys\n",
    "sys.setrecursionlimit(2000)"
   ]
  },
  {
   "cell_type": "code",
   "execution_count": 2,
   "id": "2e8b68f3",
   "metadata": {},
   "outputs": [],
   "source": [
    "config = {\n",
    "    'image':'firework.png',\n",
    "    'growing_file':'Pretrained_models/bug/bug_persist.pt',\n",
    "    'virus_file':'Pretrained_models/bug/Virus/bug_to_butterfly_google_8.pt',\n",
    "\n",
    "    'target_size':40,\n",
    "    'target_padding':8,\n",
    "    'n_channels':15,\n",
    "    'original_channel':-2,\n",
    "    'virus_channel':-1,\n",
    "\n",
    "    'pool_size': 32,\n",
    "    'generator_iters_min':64,\n",
    "    'generator_iters_max':96,\n",
    "    'virus_rate':0.02,\n",
    "    'square_side':3,\n",
    "\n",
    "    'start_appling_loss':64,\n",
    "    'start_appling_kill_loss':64,\n",
    "    'kill_multiplier':1e-3,\n",
    "    'perturbation_multiplier':1e-6,\n",
    "\n",
    "    'lr':2e-3,\n",
    "    'batch_size':6,\n",
    "    'n_epochs':40,\n",
    "    'n_max_loss_ratio':8,\n",
    "    'evolution_iters':80,\n",
    "    'kind':'persist',\n",
    "    'skip_update':1,\n",
    "    'skip_damage':1,\n",
    "    'reset_prob':0,\n",
    "\n",
    "    'step_size':20,\n",
    "    'gamma':0.1,\n",
    "\n",
    "    'trained_model_name': 'bug_to_butterfly'\n",
    "    }\n",
    "\n",
    "config[\"n_max_losses\"] = max(1, config[\"batch_size\"] // config[\"n_max_loss_ratio\"])\n",
    "config[\"image_size\"] = config[\"target_size\"] + config[\"target_padding\"]"
   ]
  },
  {
   "cell_type": "code",
   "execution_count": 3,
   "id": "e9d28db0",
   "metadata": {},
   "outputs": [
    {
     "data": {
      "text/plain": []
     },
     "execution_count": 3,
     "metadata": {},
     "output_type": "execute_result"
    }
   ],
   "source": [
    "wandb.init(mode=\"disabled\")\n",
    "#wandb.init(project=\"Virus color\", entity=\"neural_ca\", config=config)"
   ]
  },
  {
   "cell_type": "code",
   "execution_count": 4,
   "id": "d9209b53",
   "metadata": {},
   "outputs": [],
   "source": [
    "torch.backends.cudnn.benchmark = True # Speeds up things"
   ]
  },
  {
   "cell_type": "code",
   "execution_count": 5,
   "id": "0e8c59f8",
   "metadata": {
    "tags": []
   },
   "outputs": [
    {
     "data": {
      "image/png": "[encoded data removed]",
      "text/plain": [
       "<Figure size 432x288 with 1 Axes>"
      ]
     },
     "metadata": {
      "needs_background": "light"
     },
     "output_type": "display_data"
    },
    {
     "data": {
      "text/plain": [
       "<matplotlib.image.AxesImage at 0x7f25288acb50>"
      ]
     },
     "execution_count": 5,
     "metadata": {},
     "output_type": "execute_result"
    }
   ],
   "source": [
    "# Imports the target emoji\n",
    "target = read_image(\"images/\" + config[\"image\"], ImageReadMode.RGB_ALPHA).float()\n",
    "target = RGBAtoFloat(target)\n",
    "target = T.ToPILImage()(target)\n",
    "target = T.Resize((config[\"target_size\"], config[\"target_size\"]), interpolation=T.InterpolationMode.BILINEAR)(target)\n",
    "target = T.ToTensor()(target)\n",
    "\n",
    "imshow(target)"
   ]
  },
  {
   "cell_type": "code",
   "execution_count": 6,
   "id": "3578a69d",
   "metadata": {},
   "outputs": [],
   "source": [
    "# Define the model\n",
    "device = torch.device(\"cuda\" if torch.cuda.is_available() else \"cpu\")\n",
    "target = target.to(device)\n",
    "\n",
    "model = MultipleCA(config[\"n_channels\"], n_CAs=2, device=device)"
   ]
  },
  {
   "cell_type": "code",
   "execution_count": 166,
   "id": "660013f6",
   "metadata": {},
   "outputs": [
    {
     "name": "stdout",
     "output_type": "stream",
     "text": [
      "Successfully loaded model!\n",
      "Successfully loaded model!\n"
     ]
    }
   ],
   "source": [
    "model.CAs[0].load(config[\"growing_file\"])\n",
    "model.CAs[1].load(config[\"virus_file\"])"
   ]
  },
  {
   "cell_type": "code",
   "execution_count": 8,
   "id": "f618730d",
   "metadata": {},
   "outputs": [],
   "source": [
    "for param in model.CAs[0].parameters():\n",
    "    param.requires_grad = False\n",
    "\n",
    "generator = VirusGenerator(config[\"n_channels\"], config[\"original_channel\"], config[\"virus_channel\"], config[\"image_size\"], 2, model,\n",
    "                           iter_func=ExponentialSampler(min=config[\"generator_iters_min\"], max=config[\"generator_iters_max\"]),\n",
    "                           virus_func=RandomVirus(config[\"virus_rate\"]))\n",
    "pool = SamplePool(config[\"pool_size\"], generator)"
   ]
  },
  {
   "cell_type": "code",
   "execution_count": 9,
   "id": "bd69a6aa",
   "metadata": {},
   "outputs": [],
   "source": [
    "losses = [NCALoss(pad(target, config[\"target_padding\"]), alpha_channels=[-1, -2]),\n",
    "          OldCellLoss()]\n",
    "weights = [ConstantWeight(config[\"start_appling_loss\"]),\n",
    "           ConstantWeight(config[\"start_appling_kill_loss\"], constant=config[\"kill_multiplier\"])]\n",
    "\n",
    "criterion = CombinedLoss(losses, weights)\n",
    "\n",
    "#model.end_step_loss = NCADistance(model.CAs[1], starting_weights, config[\"perturbation_multiplier\"])"
   ]
  },
  {
   "cell_type": "code",
   "execution_count": null,
   "id": "65d26c82",
   "metadata": {},
   "outputs": [],
   "source": [
    "params = model.CAs[1].parameters()\n",
    "\n",
    "optimizer = torch.optim.Adam(params, lr=config[\"lr\"])\n",
    "scheduler = torch.optim.lr_scheduler.StepLR(optimizer, config[\"step_size\"], config[\"gamma\"])\n",
    "\n",
    "model.train_CA(optimizer, criterion, pool, scheduler=scheduler, **config)"
   ]
  },
  {
   "cell_type": "code",
   "execution_count": 26,
   "id": "fc94ee6b",
   "metadata": {},
   "outputs": [
    {
     "data": {
      "text/plain": [
       "[<matplotlib.lines.Line2D at 0x7fdd09058670>]"
      ]
     },
     "execution_count": 26,
     "metadata": {},
     "output_type": "execute_result"
    },
    {
     "data": {
      "image/png": "[encoded data removed]",
      "text/plain": [
       "<Figure size 432x288 with 1 Axes>"
      ]
     },
     "metadata": {
      "needs_background": "light"
     },
     "output_type": "display_data"
    }
   ],
   "source": [
    "pl.plot(model.losses)"
   ]
  },
  {
   "cell_type": "code",
   "execution_count": 12,
   "id": "8abed4ba",
   "metadata": {},
   "outputs": [
    {
     "data": {
      "text/plain": [
       "(tensor(0.6596, device='cuda:0'), tensor(0.1713, device='cuda:0'))"
      ]
     },
     "execution_count": 12,
     "metadata": {},
     "output_type": "execute_result"
    }
   ],
   "source": [
    "ruler.cosine_similarity(*model.CAs), ruler.distance(*model.CAs)"
   ]
  },
  {
   "cell_type": "code",
   "execution_count": 29,
   "id": "697a2313",
   "metadata": {},
   "outputs": [
    {
     "name": "stdout",
     "output_type": "stream",
     "text": [
      "Successfully saved model!\n"
     ]
    },
    {
     "data": {
      "text/plain": [
       "['/home/lettera/Desktop/neural_cellular_automata/pytorch_ca/wandb/run-20220131_114914-m9sqh0n4/files/bug_to_butterfly.pt']"
      ]
     },
     "execution_count": 29,
     "metadata": {},
     "output_type": "execute_result"
    }
   ],
   "source": [
    "model.CAs[1].save(config[\"trained_model_name\"] + \".pt\", overwrite=True)\n",
    "\n",
    "wandb.save(config[\"trained_model_name\"] + \".pt\")"
   ]
  },
  {
   "cell_type": "code",
   "execution_count": 11,
   "id": "29b19453",
   "metadata": {},
   "outputs": [
    {
     "data": {
      "text/plain": [
       "<matplotlib.image.AxesImage at 0x7f404ee56580>"
      ]
     },
     "execution_count": 11,
     "metadata": {},
     "output_type": "execute_result"
    },
    {
     "data": {
      "image/png": "[encoded data removed]",
      "text/plain": [
       "<Figure size 288x288 with 1 Axes>"
      ]
     },
     "metadata": {
      "needs_background": "light"
     },
     "output_type": "display_data"
    },
    {
     "data": {
      "image/png": "[encoded data removed]",
      "text/plain": [
       "<Figure size 288x288 with 1 Axes>"
      ]
     },
     "metadata": {
      "needs_background": "light"
     },
     "output_type": "display_data"
    }
   ],
   "source": [
    "pl.matshow(image[0, -1].cpu()>0.1)\n",
    "pl.matshow(image[0, -2].cpu()>0.1)"
   ]
  },
  {
   "cell_type": "code",
   "execution_count": 10,
   "id": "85dd8925",
   "metadata": {},
   "outputs": [
    {
     "name": "stderr",
     "output_type": "stream",
     "text": [
      "Clipping input data to the valid range for imshow with RGB data ([0..1] for floats or [0..255] for integers).\n"
     ]
    },
    {
     "data": {
      "image/png": "[encoded data removed]",
      "text/plain": [
       "<Figure size 432x288 with 1 Axes>"
      ]
     },
     "metadata": {
      "needs_background": "light"
     },
     "output_type": "display_data"
    },
    {
     "data": {
      "text/plain": [
       "<matplotlib.image.AxesImage at 0x7f404ef24af0>"
      ]
     },
     "execution_count": 10,
     "metadata": {},
     "output_type": "execute_result"
    }
   ],
   "source": [
    "image = pool.sample(1)[0].detach().cuda()\n",
    "\n",
    "imshow(state_to_image(image, [-1, -2])[0])"
   ]
  },
  {
   "cell_type": "code",
   "execution_count": 19,
   "id": "83d73a62",
   "metadata": {},
   "outputs": [
    {
     "name": "stderr",
     "output_type": "stream",
     "text": [
      "Clipping input data to the valid range for imshow with RGB data ([0..1] for floats or [0..255] for integers).\n"
     ]
    },
    {
     "data": {
      "image/png": "[encoded data removed]",
      "text/plain": [
       "<Figure size 432x288 with 1 Axes>"
      ]
     },
     "metadata": {
      "needs_background": "light"
     },
     "output_type": "display_data"
    },
    {
     "data": {
      "text/plain": [
       "<matplotlib.image.AxesImage at 0x7f404c37c850>"
      ]
     },
     "execution_count": 19,
     "metadata": {},
     "output_type": "execute_result"
    }
   ],
   "source": [
    "image = model.evolve(image, 20)\n",
    "\n",
    "imshow(state_to_image(image, [-1, -2])[0])"
   ]
  },
  {
   "cell_type": "code",
   "execution_count": 38,
   "id": "0a022c5b",
   "metadata": {},
   "outputs": [],
   "source": [
    "# Log pool samples\n",
    "imgs = []\n",
    "\n",
    "for i in range(16):\n",
    "    img = pool.sample(1)[0].detach().cpu()\n",
    "    img = state_to_image(img, [-1, -2])[0]\n",
    "    img = np.asarray(img.permute(1, 2, 0)[:, :, :4])\n",
    "    img = wandb.Image(img)\n",
    "    imgs.append(img)\n",
    "\n",
    "wandb.log({\"pool samples\": imgs})"
   ]
  },
  {
   "cell_type": "code",
   "execution_count": 110,
   "id": "6834f101",
   "metadata": {},
   "outputs": [
    {
     "name": "stdout",
     "output_type": "stream",
     "text": [
      "Successfully loaded model!\n",
      "Successfully loaded model!\n"
     ]
    }
   ],
   "source": [
    "# Lizard grow to persist\n",
    "model.CAs[0].load(\"Pretrained_models/lizard/Virus/lizard_growing_until_160.pt\")\n",
    "model.CAs[1].load(\"Pretrained_models/lizard/Virus/lizard_grow_to_persist_squareside_4.pt\")"
   ]
  },
  {
   "cell_type": "code",
   "execution_count": 106,
   "id": "a770893b",
   "metadata": {},
   "outputs": [
    {
     "name": "stdout",
     "output_type": "stream",
     "text": [
      "Successfully loaded model!\n",
      "Successfully loaded model!\n"
     ]
    }
   ],
   "source": [
    "# Buttefly grow to persist\n",
    "model.CAs[0].load(\"Pretrained_models/butterfly/dying_butterfly.pt\")\n",
    "model.CAs[1].load(\"Pretrained_models/butterfly/Virus/growing_to_persist.pt\")"
   ]
  },
  {
   "cell_type": "code",
   "execution_count": 84,
   "id": "4bcd729a",
   "metadata": {},
   "outputs": [
    {
     "name": "stdout",
     "output_type": "stream",
     "text": [
      "Successfully loaded model!\n",
      "Successfully loaded model!\n"
     ]
    }
   ],
   "source": [
    "# Firework grow to persist\n",
    "model.CAs[0].load(\"Pretrained_models/firework/Virus/firework_growing_64_96.pt\")\n",
    "model.CAs[1].load(\"Pretrained_models/firework/Virus/firework_virus_ckp_50%.pt\")"
   ]
  },
  {
   "cell_type": "code",
   "execution_count": 62,
   "id": "c48ddf8d",
   "metadata": {},
   "outputs": [
    {
     "name": "stdout",
     "output_type": "stream",
     "text": [
      "Successfully loaded model!\n",
      "Successfully loaded model!\n"
     ]
    }
   ],
   "source": [
    "# Lizard green red\n",
    "model.CAs[0].load(\"Pretrained_models/lizard/lizard_persist.pt\")\n",
    "model.CAs[1].load(\"Pretrained_models/lizard/Virus/lizard_persist_green_to_red_squareside_3.pt\")"
   ]
  },
  {
   "cell_type": "code",
   "execution_count": 88,
   "id": "36c07ae5",
   "metadata": {},
   "outputs": [
    {
     "name": "stdout",
     "output_type": "stream",
     "text": [
      "Successfully loaded model!\n",
      "Successfully loaded model!\n"
     ]
    }
   ],
   "source": [
    "# Lizard no tail\n",
    "model.CAs[0].load(\"Pretrained_models/lizard/lizard_persist.pt\")\n",
    "model.CAs[1].load(\"Pretrained_models/lizard/Virus/lizard_persist_to_no_tail.pt\")"
   ]
  },
  {
   "cell_type": "code",
   "execution_count": 96,
   "id": "cab38129",
   "metadata": {},
   "outputs": [
    {
     "name": "stdout",
     "output_type": "stream",
     "text": [
      "Successfully loaded model!\n",
      "Successfully loaded model!\n"
     ]
    }
   ],
   "source": [
    "# Bug to butterfly\n",
    "model.CAs[0].load(\"Pretrained_models/bug/bug_persist.pt\")\n",
    "model.CAs[1].load(\"Pretrained_models/bug/Virus/bug_to_butterfly_google_12.pt\")"
   ]
  },
  {
   "cell_type": "code",
   "execution_count": 111,
   "id": "1b9fe73f",
   "metadata": {},
   "outputs": [],
   "source": [
    "add_virus = RandomVirus(0.01).add_virus"
   ]
  },
  {
   "cell_type": "code",
   "execution_count": 115,
   "id": "51640173",
   "metadata": {},
   "outputs": [],
   "source": [
    "converter=[tensor_to_RGB(function=\"RGBA\",CA=model),\n",
    "           tensor_to_RGB(function=[-2,-1],CA=model)]\n",
    "\n",
    "seed=make_seed(1,config[\"n_channels\"],config[\"image_size\"],n_CAs=2,alpha_channel=config[\"original_channel\"],device=device)\n",
    "video,init_state=make_video(model,60,seed,converter=converter)\n",
    "init_state=add_virus(init_state,-2,-1)\n",
    "out, _=make_video(model,500,init_state,initial_video=video,converter=converter, regenerating=False)"
   ]
  },
  {
   "cell_type": "code",
   "execution_count": 116,
   "id": "d795b4a1",
   "metadata": {},
   "outputs": [
    {
     "data": {
      "image/png": "[encoded data removed]",
      "text/plain": [
       "<Figure size 432x288 with 1 Axes>"
      ]
     },
     "metadata": {
      "needs_background": "light"
     },
     "output_type": "display_data"
    }
   ],
   "source": [
    "name = \"lizard_grow_to_persist_1percent\"\n",
    "write_video(name+\".mp4\", torch.cat(out, dim=3).permute(0, 2, 3, 1), fps=15)\n",
    "\n",
    "def plot_evolution(evolution, time_steps, fname):\n",
    "    images = evolution.permute(0,2,3,1)[time_steps]/255\n",
    "\n",
    "    images = rearrange(images, 'b h w c -> h (b w) c')\n",
    "\n",
    "    pl.imshow(images)\n",
    "    save_image(images.permute(2, 0, 1), fname)\n",
    "\n",
    "slice = [60, 100, 150, 200, 500]\n",
    "plot_evolution(out[1], slice, name + \"_alpha.png\")\n",
    "plot_evolution(out[0], slice, name + \".png\")"
   ]
  },
  {
   "cell_type": "code",
   "execution_count": 41,
   "id": "7b901f59",
   "metadata": {},
   "outputs": [],
   "source": [
    "for name in [\"virus_alpha.mp4\", \"virus.mp4\"]:\n",
    "    wandb.log({name: wandb.Video(name, fps=10)})"
   ]
  }
 ],
 "metadata": {
  "interpreter": {
   "hash": "826ac774da20863171be87f505c983a23ca5099031a67b4f2c0e4fe6baa8958e"
  },
  "kernelspec": {
   "display_name": "Python 3.8.11 64-bit ('base': conda)",
   "name": "python3"
  },
  "language_info": {
   "codemirror_mode": {
    "name": "ipython",
    "version": 3
   },
   "file_extension": ".py",
   "mimetype": "text/x-python",
   "name": "python",
   "nbconvert_exporter": "python",
   "pygments_lexer": "ipython3",
   "version": "3.9.7"
  }
 },
 "nbformat": 4,
 "nbformat_minor": 5
}
