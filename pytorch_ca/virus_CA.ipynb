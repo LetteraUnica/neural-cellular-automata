{
 "cells": [
  {
   "cell_type": "code",
   "execution_count": 1,
   "id": "cc3ff556",
   "metadata": {},
   "outputs": [],
   "source": [
    "import torch\n",
    "from torchvision.io import read_image, ImageReadMode\n",
    "import torchvision.transforms as T\n",
    "from IPython.display import clear_output\n",
    "import wandb\n",
    "\n",
    "import numpy as np\n",
    "import pylab as pl\n",
    "\n",
    "from src import *\n",
    "\n",
    "import sys\n",
    "sys.setrecursionlimit(2000)"
   ]
  },
  {
   "cell_type": "code",
   "execution_count": 10,
   "id": "2e8b68f3",
   "metadata": {},
   "outputs": [],
   "source": [
    "config = {\n",
    "    'image':'adversarial_images/lizard_red.png',\n",
    "    'growing_file':'Pretrained_models/lizard/Virus/lizard_persist.pt',\n",
    "    'virus_file':'Pretrained_models/lizard/Virus/lizard_persist_green_to_red_5%_perturbation.pt',\n",
    "\n",
    "    'target_size':40,\n",
    "    'target_padding':8,\n",
    "    'n_channels':15,\n",
    "    'original_channel':-2,\n",
    "    'virus_channel':-1,\n",
    "\n",
    "    'pool_size': 512,\n",
    "    'generator_iters_min':64,\n",
    "    'generator_iters_max':96,\n",
    "    'virus_rate':0.05,\n",
    "    'square_side':3,\n",
    "\n",
    "    'start_appling_loss':64,\n",
    "    'start_appling_kill_loss':84,\n",
    "    'kill_multiplier':1e-3,\n",
    "    'perturbation_multiplier':1e-3,\n",
    "\n",
    "    'lr':1e-3,\n",
    "    'batch_size':5,\n",
    "    'n_epochs':15,\n",
    "    'n_max_loss_ratio':8,\n",
    "    'evolution_iters':96,\n",
    "    'kind':'persist',\n",
    "    'skip_update':2,\n",
    "    'skip_damage':1,\n",
    "    'reset_prob':0,\n",
    "\n",
    "    'step_size':10,\n",
    "    'gamma':0.3,\n",
    "\n",
    "    'trained_model_name': 'lizard_persist_green_to_red_squareside_2'\n",
    "    }\n",
    "\n",
    "config[\"n_max_losses\"] = max(1, config[\"batch_size\"] // config[\"n_max_loss_ratio\"])\n",
    "config[\"image_size\"] = config[\"target_size\"] + config[\"target_padding\"]"
   ]
  },
  {
   "cell_type": "code",
   "execution_count": 3,
   "id": "e9d28db0",
   "metadata": {},
   "outputs": [
    {
     "data": {
      "text/plain": []
     },
     "execution_count": 3,
     "metadata": {},
     "output_type": "execute_result"
    }
   ],
   "source": [
    "wandb.init(mode=\"disabled\")\n",
    "#wandb.init(project=\"Virus color\", entity=\"neural_ca\", config=config)"
   ]
  },
  {
   "cell_type": "code",
   "execution_count": 4,
   "id": "d9209b53",
   "metadata": {},
   "outputs": [],
   "source": [
    "torch.backends.cudnn.benchmark = True # Speeds up things"
   ]
  },
  {
   "cell_type": "code",
   "execution_count": 5,
   "id": "0e8c59f8",
   "metadata": {
    "tags": []
   },
   "outputs": [
    {
     "data": {
      "image/png": "[encoded data removed]",
      "text/plain": [
       "<Figure size 432x288 with 1 Axes>"
      ]
     },
     "metadata": {
      "needs_background": "light"
     },
     "output_type": "display_data"
    },
    {
     "data": {
      "text/plain": [
       "<matplotlib.image.AxesImage at 0x7f7de35f22b0>"
      ]
     },
     "execution_count": 5,
     "metadata": {},
     "output_type": "execute_result"
    }
   ],
   "source": [
    "# Imports the target emoji\n",
    "target = read_image(\"images/\" + config[\"image\"], ImageReadMode.RGB_ALPHA).float()\n",
    "target = T.Resize((config[\"target_size\"], config[\"target_size\"]))(target)\n",
    "target = RGBAtoFloat(target)\n",
    "\n",
    "imshow(target)"
   ]
  },
  {
   "cell_type": "code",
   "execution_count": 6,
   "id": "3578a69d",
   "metadata": {},
   "outputs": [],
   "source": [
    "# Define the model\n",
    "device = torch.device(\"cuda\" if torch.cuda.is_available() else \"cpu\")\n",
    "target = target.to(device)\n",
    "\n",
    "model = MultipleCA(config[\"n_channels\"], n_CAs=2, device=device)"
   ]
  },
  {
   "cell_type": "code",
   "execution_count": 7,
   "id": "660013f6",
   "metadata": {},
   "outputs": [
    {
     "name": "stdout",
     "output_type": "stream",
     "text": [
      "Successfully loaded model!\n",
      "Successfully loaded model!\n"
     ]
    }
   ],
   "source": [
    "model.CAs[0].load(config[\"growing_file\"])\n",
    "model.CAs[1].load(config[\"virus_file\"])"
   ]
  },
  {
   "cell_type": "code",
   "execution_count": 8,
   "id": "f618730d",
   "metadata": {},
   "outputs": [],
   "source": [
    "for param in model.CAs[0].parameters():\n",
    "    param.requires_grad = False\n",
    "\n",
    "generator = VirusGenerator(config[\"n_channels\"], config[\"original_channel\"], config[\"virus_channel\"], config[\"image_size\"], 2, model,\n",
    "                           iter_func=ExponentialSampler(min=config[\"generator_iters_min\"], max=config[\"generator_iters_max\"]),\n",
    "                           virus_func=SquareVirus(config[\"square_side\"]))\n",
    "pool = SamplePool(config[\"pool_size\"], generator)"
   ]
  },
  {
   "cell_type": "code",
   "execution_count": 11,
   "id": "bd69a6aa",
   "metadata": {},
   "outputs": [],
   "source": [
    "losses = [NCALoss(pad(target, config[\"target_padding\"]), alpha_channels=[-1, -2]),\n",
    "          OldCellLoss()]\n",
    "weights = [ConstantWeight(config[\"start_appling_loss\"]),\n",
    "           ConstantWeight(config[\"start_appling_kill_loss\"], config[\"kill_multiplier\"])]\n",
    "\n",
    "criterion = CombinedLoss(losses, weights)\n",
    "\n",
    "model.end_step_loss = NCADistance(*model.CAs, config[\"perturbation_multiplier\"])"
   ]
  },
  {
   "cell_type": "code",
   "execution_count": 12,
   "id": "65d26c82",
   "metadata": {},
   "outputs": [
    {
     "name": "stdout",
     "output_type": "stream",
     "text": [
      "epoch: 15\n",
      "avg loss: 0.031040852944202283\n"
     ]
    }
   ],
   "source": [
    "params = model.CAs[1].parameters()\n",
    "\n",
    "optimizer = torch.optim.Adam(params, lr=config[\"lr\"])\n",
    "scheduler = torch.optim.lr_scheduler.StepLR(optimizer, config[\"step_size\"], config[\"gamma\"])\n",
    "\n",
    "model.train_CA(optimizer, criterion, pool, scheduler=scheduler, **config)"
   ]
  },
  {
   "cell_type": "code",
   "execution_count": 13,
   "id": "fc94ee6b",
   "metadata": {},
   "outputs": [
    {
     "data": {
      "text/plain": [
       "[<matplotlib.lines.Line2D at 0x7f7de004b1c0>]"
      ]
     },
     "execution_count": 13,
     "metadata": {},
     "output_type": "execute_result"
    },
    {
     "data": {
      "image/png": "[encoded data removed]",
      "text/plain": [
       "<Figure size 432x288 with 1 Axes>"
      ]
     },
     "metadata": {
      "needs_background": "light"
     },
     "output_type": "display_data"
    }
   ],
   "source": [
    "pl.plot(model.losses)"
   ]
  },
  {
   "cell_type": "code",
   "execution_count": 9,
   "id": "8abed4ba",
   "metadata": {},
   "outputs": [
    {
     "data": {
      "text/plain": [
       "(tensor(0.8256, device='cuda:0'), tensor(0.1143, device='cuda:0'))"
      ]
     },
     "execution_count": 9,
     "metadata": {},
     "output_type": "execute_result"
    }
   ],
   "source": [
    "ruler.cosine_similarity(*model.CAs), ruler.distance(*model.CAs)"
   ]
  },
  {
   "cell_type": "code",
   "execution_count": 42,
   "id": "697a2313",
   "metadata": {},
   "outputs": [
    {
     "data": {
      "text/plain": [
       "['/home/lettera/Desktop/neural_cellular_automata/pytorch_ca/wandb/run-20220122_211622-18p10pzt/files/lizard_persist_green_to_red_squareside_3.pt']"
      ]
     },
     "execution_count": 42,
     "metadata": {},
     "output_type": "execute_result"
    }
   ],
   "source": [
    "model.CAs[1].save(config[\"trained_model_name\"] + \".pt\")\n",
    "\n",
    "wandb.save(config[\"trained_model_name\"] + \".pt\")"
   ]
  },
  {
   "cell_type": "code",
   "execution_count": 12,
   "id": "29b19453",
   "metadata": {},
   "outputs": [
    {
     "data": {
      "text/plain": [
       "<matplotlib.image.AxesImage at 0x7f7130021670>"
      ]
     },
     "execution_count": 12,
     "metadata": {},
     "output_type": "execute_result"
    },
    {
     "data": {
      "image/png": "[encoded data removed]",
      "text/plain": [
       "<Figure size 288x288 with 1 Axes>"
      ]
     },
     "metadata": {
      "needs_background": "light"
     },
     "output_type": "display_data"
    },
    {
     "data": {
      "image/png": "[encoded data removed]",
      "text/plain": [
       "<Figure size 288x288 with 1 Axes>"
      ]
     },
     "metadata": {
      "needs_background": "light"
     },
     "output_type": "display_data"
    }
   ],
   "source": [
    "pl.matshow(image[0, -1].cpu()>0.1)\n",
    "pl.matshow(image[0, -2].cpu()>0.1)"
   ]
  },
  {
   "cell_type": "code",
   "execution_count": 37,
   "id": "85dd8925",
   "metadata": {},
   "outputs": [
    {
     "name": "stderr",
     "output_type": "stream",
     "text": [
      "Clipping input data to the valid range for imshow with RGB data ([0..1] for floats or [0..255] for integers).\n"
     ]
    },
    {
     "data": {
      "image/png": "[encoded data removed]",
      "text/plain": [
       "<Figure size 432x288 with 1 Axes>"
      ]
     },
     "metadata": {
      "needs_background": "light"
     },
     "output_type": "display_data"
    },
    {
     "data": {
      "text/plain": [
       "<matplotlib.image.AxesImage at 0x7f7108fa3ac0>"
      ]
     },
     "execution_count": 37,
     "metadata": {},
     "output_type": "execute_result"
    }
   ],
   "source": [
    "image = pool.sample(1)[0].detach().cuda()\n",
    "\n",
    "imshow(state_to_image(image, [-1, -2])[0])"
   ]
  },
  {
   "cell_type": "code",
   "execution_count": 45,
   "id": "83d73a62",
   "metadata": {},
   "outputs": [
    {
     "name": "stderr",
     "output_type": "stream",
     "text": [
      "Clipping input data to the valid range for imshow with RGB data ([0..1] for floats or [0..255] for integers).\n"
     ]
    },
    {
     "data": {
      "image/png": "[encoded data removed]",
      "text/plain": [
       "<Figure size 432x288 with 1 Axes>"
      ]
     },
     "metadata": {
      "needs_background": "light"
     },
     "output_type": "display_data"
    },
    {
     "data": {
      "text/plain": [
       "<matplotlib.image.AxesImage at 0x7f71082e8310>"
      ]
     },
     "execution_count": 45,
     "metadata": {},
     "output_type": "execute_result"
    }
   ],
   "source": [
    "image = model.evolve(image, 20)\n",
    "\n",
    "imshow(state_to_image(image, [-1, -2])[0])"
   ]
  },
  {
   "cell_type": "code",
   "execution_count": 43,
   "id": "0a022c5b",
   "metadata": {},
   "outputs": [],
   "source": [
    "# Log pool samples\n",
    "imgs = []\n",
    "\n",
    "for i in range(16):\n",
    "    img = pool.sample(1)[0].detach().cpu()\n",
    "    img = state_to_image(img, [-1, -2])[0]\n",
    "    img = np.asarray(img.permute(1, 2, 0)[:, :, :4])\n",
    "    img = wandb.Image(img)\n",
    "    imgs.append(img)\n",
    "\n",
    "wandb.log({\"pool samples\": imgs})"
   ]
  },
  {
   "cell_type": "code",
   "execution_count": 37,
   "id": "1b9fe73f",
   "metadata": {},
   "outputs": [],
   "source": [
    "add_virus = SquareVirus().add_virus"
   ]
  },
  {
   "cell_type": "code",
   "execution_count": 39,
   "id": "51640173",
   "metadata": {},
   "outputs": [],
   "source": [
    "converter=[tensor_to_RGB(function=\"RGBA\",CA=model),\n",
    "           tensor_to_RGB(function=[-2,-1],CA=model)]\n",
    "\n",
    "seed=make_seed(1,config[\"n_channels\"],config[\"image_size\"],n_CAs=2,alpha_channel=-2,device=device)\n",
    "fname=[\"virus.mp4\",\"virus_alpha.mp4\"]\n",
    "video,init_state=make_video(model,60,seed,converter=converter)\n",
    "init_state=add_virus(init_state,-2,-1)\n",
    "_=make_video(model,300,init_state,fname=fname,initial_video=video,converter=converter, regenerating=False)"
   ]
  },
  {
   "cell_type": "code",
   "execution_count": 44,
   "id": "7b901f59",
   "metadata": {},
   "outputs": [],
   "source": [
    "for name in [\"virus_alpha.mp4\", \"virus.mp4\"]:\n",
    "    wandb.log({name: wandb.Video(name, fps=10)})"
   ]
  }
 ],
 "metadata": {
  "interpreter": {
   "hash": "826ac774da20863171be87f505c983a23ca5099031a67b4f2c0e4fe6baa8958e"
  },
  "kernelspec": {
   "display_name": "Python 3.8.11 64-bit ('base': conda)",
   "name": "python3"
  },
  "language_info": {
   "codemirror_mode": {
    "name": "ipython",
    "version": 3
   },
   "file_extension": ".py",
   "mimetype": "text/x-python",
   "name": "python",
   "nbconvert_exporter": "python",
   "pygments_lexer": "ipython3",
   "version": "3.9.7"
  }
 },
 "nbformat": 4,
 "nbformat_minor": 5
}
