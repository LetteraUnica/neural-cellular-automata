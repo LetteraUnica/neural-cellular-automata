{
 "cells": [
  {
   "cell_type": "code",
   "execution_count": 8,
   "id": "cc3ff556",
   "metadata": {},
   "outputs": [],
   "source": [
    "import torch\n",
    "from torchvision.io import read_image, ImageReadMode\n",
    "import torchvision.transforms as T\n",
    "from random import randint\n",
    "from IPython.display import clear_output\n",
    "\n",
    "import numpy as np\n",
    "import pylab as pl\n",
    "\n",
    "from src import *\n"
   ]
  },
  {
   "cell_type": "code",
   "execution_count": 9,
   "id": "d9209b53",
   "metadata": {},
   "outputs": [],
   "source": [
    "N_CHANNELS = 15        # Number of CA state channels\n",
    "TARGET_PADDING = 8     # Number of pixels used to pad the target image border\n",
    "TARGET_SIZE = 40       # Size of the target emoji\n",
    "IMAGE_SIZE = TARGET_PADDING+TARGET_SIZE\n",
    "BATCH_SIZE = 4\n",
    "POOL_SIZE = 512\n",
    "CELL_FIRE_RATE = 0.5\n",
    "\n",
    "torch.backends.cudnn.benchmark = True # Speeds up things"
   ]
  },
  {
   "cell_type": "code",
   "execution_count": 10,
   "id": "0e8c59f8",
   "metadata": {
    "tags": []
   },
   "outputs": [
    {
     "data": {
      "image/png": "[encoded data removed]",
      "text/plain": [
       "<Figure size 432x288 with 1 Axes>"
      ]
     },
     "metadata": {
      "needs_background": "light"
     },
     "output_type": "display_data"
    },
    {
     "data": {
      "text/plain": [
       "<matplotlib.image.AxesImage at 0x7f0596080580>"
      ]
     },
     "execution_count": 10,
     "metadata": {},
     "output_type": "execute_result"
    }
   ],
   "source": [
    "# Imports the target emoji\n",
    "target = read_image(\"images/firework.png\", ImageReadMode.RGB_ALPHA).float()\n",
    "target = T.Resize((TARGET_SIZE, TARGET_SIZE))(target)\n",
    "target = RGBAtoFloat(target)\n",
    "\n",
    "imshow(target)"
   ]
  },
  {
   "cell_type": "code",
   "execution_count": 11,
   "id": "3578a69d",
   "metadata": {},
   "outputs": [],
   "source": [
    "# Define the model\n",
    "device = torch.device(\"cuda\" if torch.cuda.is_available() else \"cpu\")\n",
    "target = target.to(device)\n",
    "\n",
    "model = MultipleCA(N_CHANNELS, n_CAs=2, device=device)"
   ]
  },
  {
   "cell_type": "code",
   "execution_count": 13,
   "id": "660013f6",
   "metadata": {},
   "outputs": [
    {
     "name": "stdout",
     "output_type": "stream",
     "text": [
      "Successfully loaded model!\n",
      "Successfully loaded model!\n"
     ]
    }
   ],
   "source": [
    "folder = \"Pretrained_models/Virus/Virus lorenzo/\"\n",
    "model.CAs[0].load(folder + \"firework_growing_64_96.pt\")\n",
    "model.CAs[1].load(folder + \"firework_virus_ckp_2.pt\")"
   ]
  },
  {
   "cell_type": "code",
   "execution_count": 14,
   "id": "f618730d",
   "metadata": {},
   "outputs": [],
   "source": [
    "for param in model.CAs[0].parameters():\n",
    "    param.requires_grad = False\n",
    "\n",
    "generator = VirusGenerator(N_CHANNELS, IMAGE_SIZE, 2, model, virus_rate=0.8, iter_func=ExponentialSampler(min=48, max=64))\n",
    "pool = SamplePool(POOL_SIZE, generator)"
   ]
  },
  {
   "cell_type": "code",
   "execution_count": 8,
   "id": "cba4156b",
   "metadata": {},
   "outputs": [
    {
     "name": "stderr",
     "output_type": "stream",
     "text": [
      "\u001b[34m\u001b[1mwandb\u001b[0m: Currently logged in as: \u001b[33mlettera\u001b[0m (use `wandb login --relogin` to force relogin)\n"
     ]
    },
    {
     "data": {
      "text/html": [
       "\n",
       "                    Syncing run <strong><a href=\"https://wandb.ai/neural_ca/quick_virus/runs/2u5h9mw3\" target=\"_blank\">legendary-frog-67</a></strong> to <a href=\"https://wandb.ai/neural_ca/quick_virus\" target=\"_blank\">Weights & Biases</a> (<a href=\"https://docs.wandb.com/integrations/jupyter.html\" target=\"_blank\">docs</a>).<br/>\n",
       "\n",
       "                "
      ],
      "text/plain": [
       "<IPython.core.display.HTML object>"
      ]
     },
     "metadata": {},
     "output_type": "display_data"
    },
    {
     "data": {
      "text/html": [
       "<button onClick=\"this.nextSibling.style.display='block';this.style.display='none';\">Display W&B run</button><iframe src=\"https://wandb.ai/neural_ca/quick_virus/runs/2u5h9mw3?jupyter=true\" style=\"border:none;width:100%;height:420px;display:none;\"></iframe>"
      ],
      "text/plain": [
       "<wandb.sdk.wandb_run.Run at 0x7f24f418be20>"
      ]
     },
     "execution_count": 8,
     "metadata": {},
     "output_type": "execute_result"
    }
   ],
   "source": [
    "wandb.init(project=\"quick_virus\", entity=\"neural_ca\")"
   ]
  },
  {
   "cell_type": "code",
   "execution_count": 16,
   "id": "bd69a6aa",
   "metadata": {},
   "outputs": [],
   "source": [
    "L_target = NCALoss(pad(target, TARGET_PADDING), alpha_channels=[15, 16])\n",
    "L_old_cells = OldCellLoss()\n",
    "\n",
    "loss_function = CombinedLoss([L_target, L_old_cells], [ConstantWeight(64), ConstantWeight(64, constant=1e-3)])"
   ]
  },
  {
   "cell_type": "code",
   "execution_count": 17,
   "id": "c186bf42",
   "metadata": {},
   "outputs": [
    {
     "data": {
      "text/plain": []
     },
     "execution_count": 17,
     "metadata": {},
     "output_type": "execute_result"
    }
   ],
   "source": [
    "wandb.init(mode=\"disabled\")"
   ]
  },
  {
   "cell_type": "code",
   "execution_count": 18,
   "id": "65d26c82",
   "metadata": {},
   "outputs": [
    {
     "name": "stderr",
     "output_type": "stream",
     "text": [
      "/home/lettera/anaconda3/lib/python3.9/site-packages/torch/nn/modules/loss.py:529: UserWarning: Using a target size (torch.Size([4, 48, 48])) that is different to the input size (torch.Size([3, 4, 48, 48])). This will likely lead to incorrect results due to broadcasting. Please ensure they have the same size.\n",
      "  return F.mse_loss(input, target, reduction=self.reduction)\n"
     ]
    },
    {
     "name": "stdout",
     "output_type": "stream",
     "text": [
      "epoch: 1\n",
      "avg loss: 0.04227556397261865\n"
     ]
    }
   ],
   "source": [
    "params = model.CAs[1].parameters()\n",
    "\n",
    "optimizer = torch.optim.Adam(params, lr=2e-3)\n",
    "criterion = loss_function\n",
    "scheduler = torch.optim.lr_scheduler.MultiStepLR(optimizer, milestones=[40,80], gamma=0.3)\n",
    "\n",
    "model.train_CA(optimizer, criterion, pool, n_epochs=1, skip_update=2, batch_size=3,\n",
    "               scheduler=scheduler, kind=\"persistent\", skip_damage=1, n_max_losses=1,\n",
    "               evolution_iters=96)"
   ]
  },
  {
   "cell_type": "code",
   "execution_count": 7,
   "id": "32ff24b0",
   "metadata": {},
   "outputs": [
    {
     "data": {
      "image/png": "[encoded data removed]",
      "text/plain": [
       "<Figure size 432x288 with 1 Axes>"
      ]
     },
     "metadata": {
      "needs_background": "light"
     },
     "output_type": "display_data"
    }
   ],
   "source": [
    "pl.plot(model.losses)\n",
    "pl.xlabel(\"Epoch\")\n",
    "pl.ylabel(\"Loss\")\n",
    "pl.yscale(\"log\")\n",
    "pl.show()\n",
    "# pl.savefig(fname=\"perturbation_regeneration_l=1_side=20_losses.png\", dpi=200)"
   ]
  },
  {
   "cell_type": "code",
   "execution_count": 21,
   "id": "29b19453",
   "metadata": {},
   "outputs": [
    {
     "data": {
      "text/plain": [
       "<matplotlib.image.AxesImage at 0x7f0577ca4400>"
      ]
     },
     "execution_count": 21,
     "metadata": {},
     "output_type": "execute_result"
    },
    {
     "data": {
      "image/png": "[encoded data removed]",
      "text/plain": [
       "<Figure size 288x288 with 1 Axes>"
      ]
     },
     "metadata": {
      "needs_background": "light"
     },
     "output_type": "display_data"
    },
    {
     "data": {
      "image/png": "[encoded data removed]",
      "text/plain": [
       "<Figure size 288x288 with 1 Axes>"
      ]
     },
     "metadata": {
      "needs_background": "light"
     },
     "output_type": "display_data"
    }
   ],
   "source": [
    "pl.matshow(inputs[0, -1].cpu()>0.1)\n",
    "pl.matshow(inputs[0, -2].cpu()>0.1)"
   ]
  },
  {
   "cell_type": "code",
   "execution_count": 20,
   "id": "83d73a62",
   "metadata": {},
   "outputs": [
    {
     "name": "stderr",
     "output_type": "stream",
     "text": [
      "Clipping input data to the valid range for imshow with RGB data ([0..1] for floats or [0..255] for integers).\n"
     ]
    },
    {
     "data": {
      "image/png": "[encoded data removed]",
      "text/plain": [
       "<Figure size 432x288 with 1 Axes>"
      ]
     },
     "metadata": {
      "needs_background": "light"
     },
     "output_type": "display_data"
    },
    {
     "data": {
      "text/plain": [
       "<matplotlib.image.AxesImage at 0x7f0577d7da60>"
      ]
     },
     "execution_count": 20,
     "metadata": {},
     "output_type": "execute_result"
    }
   ],
   "source": [
    "inputs = pool.sample(1)[0].detach().cuda()\n",
    "\n",
    "inputs = model.evolve(inputs, 80)\n",
    "\n",
    "\n",
    "imshow(state_to_image(inputs, [-1, -2])[0])"
   ]
  }
 ],
 "metadata": {
  "interpreter": {
   "hash": "826ac774da20863171be87f505c983a23ca5099031a67b4f2c0e4fe6baa8958e"
  },
  "kernelspec": {
   "display_name": "Python 3.8.11 64-bit ('base': conda)",
   "name": "python3"
  },
  "language_info": {
   "codemirror_mode": {
    "name": "ipython",
    "version": 3
   },
   "file_extension": ".py",
   "mimetype": "text/x-python",
   "name": "python",
   "nbconvert_exporter": "python",
   "pygments_lexer": "ipython3",
   "version": "3.9.7"
  }
 },
 "nbformat": 4,
 "nbformat_minor": 5
}
