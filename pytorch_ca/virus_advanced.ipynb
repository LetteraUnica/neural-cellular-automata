{
 "cells": [
  {
   "cell_type": "code",
   "execution_count": 1,
   "source": [
    "import torch\n",
    "from torchvision.io import read_image, ImageReadMode, write_video\n",
    "import torchvision.transforms as T\n",
    "from random import randint\n",
    "from IPython.display import clear_output\n",
    "import numpy as np\n",
    "import pylab as pl\n",
    "\n",
    "from src import *\n",
    "\n",
    "N_CHANNELS = 15        # Number of CA state channels\n",
    "TARGET_PADDING = 8     # Number of pixels used to pad the target image border\n",
    "TARGET_SIZE = 40       # Size of the target emoji\n",
    "IMAGE_SIZE = TARGET_PADDING+TARGET_SIZE\n",
    "BATCH_SIZE = 16        # can be much bigger\n",
    "POOL_SIZE = 512\n",
    "CELL_FIRE_RATE = 0.5\n",
    "N_EPOCHS = 100\n",
    "\n",
    "torch.backends.cudnn.benchmark = True # Speeds up things\n",
    "\n",
    "device = torch.device(\"cuda\" if torch.cuda.is_available() else \"cpu\")"
   ],
   "outputs": [],
   "metadata": {}
  },
  {
   "cell_type": "code",
   "execution_count": null,
   "source": [
    "# Imports the target emoji\n",
    "target = read_image(\"images/firework.png\", ImageReadMode.RGB_ALPHA).float()\n",
    "target = T.Resize((TARGET_SIZE, TARGET_SIZE))(target)\n",
    "target = RGBAtoFloat(target)\n",
    "imshow(target)\n",
    "target = target.to(device)"
   ],
   "outputs": [],
   "metadata": {}
  },
  {
   "cell_type": "code",
   "execution_count": 3,
   "source": [
    "#import the models\n",
    "growing=NeuralCA(N_CHANNELS)\n",
    "regenerating=NeuralCA(N_CHANNELS)\n",
    "\n",
    "#TODO: INSERT PRETAINED MODELS\n",
    "growing.load_state_dict(torch.load('Pretrained_models/firework_growing.pt', map_location=device))\n",
    "regenerating.load_state_dict(torch.load('Pretrained_models/firework_regenerating.pt', map_location=device))\n",
    "\n",
    "growing.to(device)\n",
    "regenerating.to(device)"
   ],
   "outputs": [
    {
     "output_type": "execute_result",
     "data": {
      "text/plain": [
       "NeuralCA(\n",
       "  (layers): Sequential(\n",
       "    (0): Conv2d(48, 128, kernel_size=(1, 1), stride=(1, 1))\n",
       "    (1): ReLU()\n",
       "    (2): Conv2d(128, 16, kernel_size=(1, 1), stride=(1, 1))\n",
       "  )\n",
       ")"
      ]
     },
     "metadata": {},
     "execution_count": 3
    }
   ],
   "metadata": {}
  },
  {
   "cell_type": "code",
   "execution_count": null,
   "source": [
    "#create the sample pool\n",
    "\n",
    "def distribution(avg,min,max):\n",
    "  x=np.random.exponential(avg)\n",
    "  if x>=max or x<=min: return min\n",
    "  return int(x)\n",
    "\n",
    "def apply_virus(image:torch.Tensor, probabiblity=0.1) -> torch.Tensor:\n",
    "    filt=torch.rand_like(image[0])<probability\n",
    "    image[-1]=image[-2]*filt\n",
    "    image[-2]=image[-2]*(~filt)\n",
    "    return image\n",
    "\n",
    "def virus_generator(n_images:int , nsteps=50,probability=0.1) -> torch.Tensor:\n",
    "  out=torch.zeros(n_images,N_CHANNELS,IMAGE_SIZE,IMAGE_SIZE)\n",
    "  for i in range(n_images):\n",
    "      grow=growing.evolve(make_seed(1,N_CHANNELS,IMAGE_SIZE,cuda),nsteps)[0].detach()\n",
    "      grow=apply_virus(grow,probability)\n",
    "      out[i]=grow\n",
    "  return out.detach()\n",
    "\n",
    "def generator(n_images):\n",
    "  return virus_generator(n_images,distrubution(30,5,60),probability=0.1)\n",
    "\n",
    "pool=SamplePool(POOL_SIZE,transform=None,device='cuda', generator=generator)\n",
    "\n",
    "imshow(pool[10])"
   ],
   "outputs": [],
   "metadata": {}
  },
  {
   "cell_type": "code",
   "execution_count": null,
   "source": [
    "# Imports the target emoji\n",
    "target = read_image(\"images/firework.png\", ImageReadMode.RGB_ALPHA).float()\n",
    "target = T.Resize((TARGET_SIZE, TARGET_SIZE))(target)\n",
    "target = RGBAtoFloat(target)\n",
    "target = target.to(cuda)\n",
    "\n",
    "#torch.backends.cudnn.benchmark = True # Speeds up training\n",
    "optimizer = torch.optim.Adam(regenerating.parameters(), lr=2e-3)\n",
    "criterion = CustomLoss(pad(target, TARGET_PADDING), torch.nn.MSELoss, 16)\n",
    "scheduler = torch.optim.lr_scheduler.MultiStepLR(optimizer, milestones=[40,80], gamma=0.3)"
   ],
   "outputs": [],
   "metadata": {}
  },
  {
   "cell_type": "code",
   "execution_count": null,
   "source": [
    "#The actual training part\n",
    "regenerating.train_CA(\n",
    "    optimizer,\n",
    "    criterion,\n",
    "    pool,\n",
    "    batch_size=BATCH_SIZE,\n",
    "    n_epochs=N_EPOCHS,\n",
    "    scheduler=scheduler,\n",
    "    skip_update=1,\n",
    "    kind=\"regenerating\",\n",
    "    n_max_losses=BATCH_SIZE // 4)"
   ],
   "outputs": [],
   "metadata": {}
  },
  {
   "cell_type": "code",
   "execution_count": null,
   "source": [
    "#plot the training graph\n",
    "pl.plot(regenerating.losses)\n",
    "pl.xlabel(\"Epochs\")\n",
    "pl.ylabel(\"Loss\")\n",
    "pl.show()"
   ],
   "outputs": [],
   "metadata": {}
  },
  {
   "cell_type": "code",
   "execution_count": null,
   "source": [
    "#Output the video\n",
    "switch=3 #the amount of steps before switching from growing to regenerating\n",
    "video, initial_state=make_video(growing,switch)\n",
    "_=make_video(regenerating,200,initial_state,fname='switch'+str(switch)+'.mkv', initial_video=video)"
   ],
   "outputs": [],
   "metadata": {}
  }
 ],
 "metadata": {
  "orig_nbformat": 4,
  "language_info": {
   "name": "python",
   "version": "3.7.4",
   "mimetype": "text/x-python",
   "codemirror_mode": {
    "name": "ipython",
    "version": 3
   },
   "pygments_lexer": "ipython3",
   "nbconvert_exporter": "python",
   "file_extension": ".py"
  },
  "kernelspec": {
   "name": "python3",
   "display_name": "Python 3.7.4 64-bit ('base': conda)"
  },
  "interpreter": {
   "hash": "dca0ade3e726a953b501b15e8e990130d2b7799f14cfd9f4271676035ebe5511"
  }
 },
 "nbformat": 4,
 "nbformat_minor": 2
}