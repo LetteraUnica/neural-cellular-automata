{
 "cells": [
  {
   "cell_type": "code",
   "execution_count": null,
   "source": [
    "import torch\n",
    "from torchvision.io import read_image, ImageReadMode, write_video\n",
    "import torchvision.transforms as T\n",
    "from random import randint\n",
    "from IPython.display import clear_output\n",
    "import numpy as np\n",
    "import pylab as pl\n",
    "\n",
    "from src import *"
   ],
   "outputs": [],
   "metadata": {}
  },
  {
   "cell_type": "code",
   "execution_count": null,
   "source": [
    "growing=NeuralCA(N_CHANNELS)\n",
    "regenerating=NeuralCA(N_CHANNELS)\n",
    "regenerating.device\n",
    "\n",
    "growing.load_state_dict(torch.load('Pretrained_models/firework_growing.pt', map_location=torch.device('cuda')))\n",
    "regenerating.load_state_dict(torch.load('Pretrained_models/firework_regenerating.pt', map_location=torch.device('cuda')))\n",
    "\n",
    "growing.to(cuda)\n",
    "regenerating.to(cuda)"
   ],
   "outputs": [],
   "metadata": {}
  },
  {
   "cell_type": "code",
   "execution_count": null,
   "source": [
    "seed=make_seed(1,N_CHANNELS,IMAGE_SIZE,device=cuda)\n",
    "print(seed.shape)\n",
    "imshow(seed[0])"
   ],
   "outputs": [],
   "metadata": {}
  },
  {
   "cell_type": "code",
   "execution_count": null,
   "source": [
    "switch=2 #the amount of steps before switching from growing to regenerating\n",
    "_=make_video(growing,seed,switch,fname='switch/grow'+str(switch)+'.mkv')\n",
    "out_grow=growing.evolve(seed,switch)\n",
    "_=make_video(regenerating,out_grow,300,fname='switch/reg'+str(switch)+'.mkv')"
   ],
   "outputs": [],
   "metadata": {}
  }
 ],
 "metadata": {
  "orig_nbformat": 4,
  "language_info": {
   "name": "python",
   "version": "3.7.4"
  },
  "kernelspec": {
   "name": "python3",
   "display_name": "Python 3.7.4 64-bit ('base': conda)"
  },
  "interpreter": {
   "hash": "dca0ade3e726a953b501b15e8e990130d2b7799f14cfd9f4271676035ebe5511"
  }
 },
 "nbformat": 4,
 "nbformat_minor": 2
}