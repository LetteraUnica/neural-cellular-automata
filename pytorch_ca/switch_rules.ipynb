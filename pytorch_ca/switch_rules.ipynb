{
 "cells": [
  {
   "cell_type": "code",
   "execution_count": null,
   "source": [
    "import torch\n",
    "from torchvision.io import read_image, ImageReadMode, write_video\n",
    "import torchvision.transforms as T\n",
    "from random import randint\n",
    "from IPython.display import clear_output\n",
    "import numpy as np\n",
    "import pylab as pl\n",
    "\n",
    "from src import *\n",
    "\n",
    "N_CHANNELS = 16        # Number of CA state channels\n",
    "TARGET_PADDING = 16    # Number of pixels used to pad the target image border\n",
    "TARGET_SIZE = 40       # Size of the target emoji\n",
    "IMAGE_SIZE = TARGET_PADDING+TARGET_SIZE\n",
    "cuda=torch.device('cuda')"
   ],
   "outputs": [],
   "metadata": {}
  },
  {
   "cell_type": "code",
   "execution_count": null,
   "source": [
    "growing=NeuralCA(N_CHANNELS)\n",
    "regenerating=NeuralCA(N_CHANNELS)\n",
    "regenerating.device\n",
    "\n",
    "growing.load_state_dict(torch.load('Pretrained_models/firework_growing.pt', map_location=cuda))\n",
    "regenerating.load_state_dict(torch.load('Pretrained_models/firework_regenerating.pt', map_location=cuda))\n",
    "\n",
    "growing.to(cuda)\n",
    "regenerating.to(cuda)"
   ],
   "outputs": [],
   "metadata": {}
  },
  {
   "cell_type": "markdown",
   "source": [
    "# Without training the regenerating part"
   ],
   "metadata": {}
  },
  {
   "cell_type": "code",
   "execution_count": null,
   "source": [
    "switch=5 #the amount of steps before switching from growing to regenerating\n",
    "video, initial_state=make_video(growing,switch)\n",
    "_=make_video(regenerating,200,initial_state,fname='switch'+str(switch)+'.mkv', initial_video=video)"
   ],
   "outputs": [],
   "metadata": {}
  }
 ],
 "metadata": {
  "orig_nbformat": 4,
  "language_info": {
   "name": "python",
   "version": "3.7.4",
   "mimetype": "text/x-python",
   "codemirror_mode": {
    "name": "ipython",
    "version": 3
   },
   "pygments_lexer": "ipython3",
   "nbconvert_exporter": "python",
   "file_extension": ".py"
  },
  "kernelspec": {
   "name": "python3",
   "display_name": "Python 3.7.4 64-bit ('base': conda)"
  },
  "interpreter": {
   "hash": "dca0ade3e726a953b501b15e8e990130d2b7799f14cfd9f4271676035ebe5511"
  }
 },
 "nbformat": 4,
 "nbformat_minor": 2
}