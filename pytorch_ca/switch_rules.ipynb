{
 "cells": [
  {
   "cell_type": "code",
   "execution_count": null,
   "source": [
    "import torch\n",
    "from torchvision.io import read_image, ImageReadMode, write_video\n",
    "import torchvision.transforms as T\n",
    "from random import randint\n",
    "from IPython.display import clear_output\n",
    "import numpy as np\n",
    "import pylab as pl\n",
    "\n",
    "from src import *\n",
    "\n",
    "N_CHANNELS = 16        # Number of CA state channels\n",
    "TARGET_PADDING = 16    # Number of pixels used to pad the target image border\n",
    "TARGET_SIZE = 40       # Size of the target emoji\n",
    "IMAGE_SIZE = TARGET_PADDING+TARGET_SIZE\n",
    "cuda=torch.device('cuda')"
   ],
   "outputs": [],
   "metadata": {}
  },
  {
   "cell_type": "code",
   "execution_count": null,
   "source": [
    "growing=NeuralCA(N_CHANNELS)\n",
    "regenerating=NeuralCA(N_CHANNELS)\n",
    "regenerating.device\n",
    "\n",
    "growing.load_state_dict(torch.load('Pretrained_models/firework_growing.pt', map_location=cuda))\n",
    "regenerating.load_state_dict(torch.load('Pretrained_models/firework_regenerating.pt', map_location=cuda))\n",
    "\n",
    "growing.to(cuda)\n",
    "regenerating.to(cuda)"
   ],
   "outputs": [],
   "metadata": {}
  },
  {
   "cell_type": "markdown",
   "source": [
    "# Without training the regenerating part\n",
    "Without any training on the regenerating part the image fails to converge and persist to the final form"
   ],
   "metadata": {}
  },
  {
   "cell_type": "code",
   "execution_count": null,
   "source": [
    "switch=5 #the amount of steps before switching from growing to regenerating\n",
    "video, initial_state=make_video(growing,switch)\n",
    "_=make_video(regenerating,200,initial_state,fname='switch'+str(switch)+'.mkv', initial_video=video)"
   ],
   "outputs": [],
   "metadata": {}
  },
  {
   "cell_type": "markdown",
   "source": [
    "# Training the regenerating part\n",
    "Even training on the regenerating part the image fails to converge and persist to the final form"
   ],
   "metadata": {}
  },
  {
   "cell_type": "code",
   "execution_count": null,
   "source": [
    "def distribution(avg,maximum,minimum=0):\n",
    "  x=np.random.exponential(avg)\n",
    "  if x>=maximum or x<=minimum: return minimum\n",
    "  return int(x)\n",
    "\n",
    "def growing_generator(n_images):\n",
    "  #seed=make_seed(1,N_CHANNELS,IMAGE_SIZE,cuda).detach()\n",
    "  out=[growing.evolve(make_seed(1,N_CHANNELS,IMAGE_SIZE,cuda).detach(),distribution(25,60,5))[0].detach() for _ in range(n_images)]\n",
    "  return torch.stack(out).detach()\n",
    "\n",
    "#qua succedono cose strane\n",
    "pool=SamplePool(512,transform=None,device='cuda', generator=growing_generator)"
   ],
   "outputs": [],
   "metadata": {}
  },
  {
   "cell_type": "code",
   "execution_count": null,
   "source": [
    "imshow(pool[10])"
   ],
   "outputs": [],
   "metadata": {}
  },
  {
   "cell_type": "code",
   "execution_count": null,
   "source": [
    "# Imports the target emoji\n",
    "target = read_image(\"images/firework.png\", ImageReadMode.RGB_ALPHA).float()\n",
    "target = T.Resize((TARGET_SIZE, TARGET_SIZE))(target)\n",
    "target = RGBAtoFloat(target)\n",
    "target = target.to(cuda)\n",
    "\n",
    "torch.backends.cudnn.benchmark = True # Speeds up training\n",
    "optimizer = torch.optim.Adam(regenerating.parameters(), lr=2e-3)\n",
    "criterion = CustomLoss(pad(target, TARGET_PADDING), torch.nn.MSELoss, 16)\n",
    "scheduler = torch.optim.lr_scheduler.MultiStepLR(optimizer, milestones=[40,80], gamma=0.3)"
   ],
   "outputs": [],
   "metadata": {}
  },
  {
   "cell_type": "code",
   "execution_count": null,
   "source": [
    "#The actual training part\n",
    "regenerating.train_CA(optimizer, criterion, pool, batch_size=8, n_epochs=50, scheduler=scheduler,skip_update=1, kind=\"regenerating\")"
   ],
   "outputs": [],
   "metadata": {}
  },
  {
   "cell_type": "code",
   "execution_count": null,
   "source": [
    "#plot the training graph\n",
    "pl.plot(regenerating.losses)\n",
    "pl.xlabel(\"Epochs\")\n",
    "pl.ylabel(\"Loss\")\n",
    "pl.show()"
   ],
   "outputs": [],
   "metadata": {}
  },
  {
   "cell_type": "code",
   "execution_count": null,
   "source": [
    "#Output the video\n",
    "switch=3 #the amount of steps before switching from growing to regenerating\n",
    "video, initial_state=make_video(growing,switch)\n",
    "_=make_video(regenerating,200,initial_state,fname='switch'+str(switch)+'.mkv', initial_video=video)"
   ],
   "outputs": [],
   "metadata": {}
  }
 ],
 "metadata": {
  "orig_nbformat": 4,
  "language_info": {
   "name": "python",
   "version": "3.7.4",
   "mimetype": "text/x-python",
   "codemirror_mode": {
    "name": "ipython",
    "version": 3
   },
   "pygments_lexer": "ipython3",
   "nbconvert_exporter": "python",
   "file_extension": ".py"
  },
  "kernelspec": {
   "name": "python3",
   "display_name": "Python 3.7.4 64-bit ('base': conda)"
  },
  "interpreter": {
   "hash": "dca0ade3e726a953b501b15e8e990130d2b7799f14cfd9f4271676035ebe5511"
  }
 },
 "nbformat": 4,
 "nbformat_minor": 2
}