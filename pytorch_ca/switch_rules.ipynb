{
 "cells": [
  {
   "cell_type": "code",
   "execution_count": 1,
   "source": [
    "import torch\n",
    "from torchvision.io import read_image, ImageReadMode, write_video\n",
    "import torchvision.transforms as T\n",
    "from random import randint\n",
    "from IPython.display import clear_output\n",
    "import numpy as np\n",
    "import pylab as pl\n",
    "\n",
    "from src import *\n",
    "\n",
    "N_CHANNELS = 16        # Number of CA state channels\n",
    "TARGET_PADDING = 8     # Number of pixels used to pad the target image border\n",
    "TARGET_SIZE = 40       # Size of the target emoji\n",
    "IMAGE_SIZE = TARGET_PADDING+TARGET_SIZE\n",
    "BATCH_SIZE = 4\n",
    "POOL_SIZE = 512\n",
    "CELL_FIRE_RATE = 0.5\n",
    "cuda=torch.device('cuda')"
   ],
   "outputs": [],
   "metadata": {}
  },
  {
   "cell_type": "code",
   "execution_count": 2,
   "source": [
    "from scipy.stats import truncexpon\n",
    "\n",
    "\n",
    "def train_CA(CA: NeuralCA,\n",
    "             growing: NeuralCA,\n",
    "             optimizer: torch.optim.Optimizer,\n",
    "             criterion: Callable[[torch.Tensor], Tuple[torch.Tensor, torch.Tensor]],\n",
    "             pool: SamplePool,\n",
    "             n_epochs: int,\n",
    "             scheduler: torch.optim.lr_scheduler._LRScheduler = None,\n",
    "             batch_size: int = 4,\n",
    "             skip_update: int = 2,\n",
    "             evolution_iters: Tuple[int, int] = (50, 60),\n",
    "             kind: str = \"growing\",\n",
    "             **kwargs):\n",
    "\n",
    "    CA.train()\n",
    "    growing.eval()\n",
    "\n",
    "    for i in range(n_epochs):\n",
    "        epoch_losses = []  # array that stores the loss history\n",
    "\n",
    "        # take the data\n",
    "        for j in range(pool.size // batch_size):\n",
    "            inputs, indexes = pool.sample(batch_size)  # sample the inputs\n",
    "            inputs = inputs.to(CA.device)  # put them in the current device\n",
    "            optimizer.zero_grad()  # reinitialize the gradient to zero\n",
    "\n",
    "            # Evolve the growing\n",
    "            total_iters = randint(*evolution_iters)\n",
    "            growing_iters = (truncexpon.rvs(2)*25).astype(int)\n",
    "\n",
    "            inputs = growing.evolve(inputs, growing_iters)\n",
    "\n",
    "            # recursive forward-pass\n",
    "            for k in range(randint(*evolution_iters)):\n",
    "                inputs = CA.forward(inputs)\n",
    "\n",
    "            # calculate the loss of the inputs and return the one with the biggest loss\n",
    "            loss, idx_max_loss = criterion(inputs)\n",
    "            # add current loss to the loss history\n",
    "            epoch_losses.append(loss.item())\n",
    "\n",
    "            # look a definition of skip_update\n",
    "            if j % skip_update != 0:\n",
    "                idx_max_loss = None\n",
    "\n",
    "            # backward-pass\n",
    "            loss.backward()\n",
    "            optimizer.step()\n",
    "\n",
    "            # customization of training for the three processes of growing.\n",
    "            # persisting and regenerating\n",
    "            # if regenerating, then damage inputs\n",
    "            if kind == \"regenerating\":\n",
    "                inputs = inputs.detach()\n",
    "                try:\n",
    "                    target_size = kwargs['target_size']\n",
    "                except KeyError:\n",
    "                    target_size = None\n",
    "                    print('missing argument \"target_size\" in the kwargs')\n",
    "                try:\n",
    "                    constant_side = kwargs['constant_side']\n",
    "                except KeyError:\n",
    "                    constant_side = None\n",
    "                    print('missing argument \"constant_side\" in the kwargs')\n",
    "                # damages the inputs by removing square portions\n",
    "                inputs = make_squares(\n",
    "                    inputs, target_size=target_size, constant_side=constant_side)\n",
    "\n",
    "            # if training is not for growing proccess then re-insert\n",
    "            # trained/damaged samples into the pool\n",
    "            if kind != \"growing\":\n",
    "                pool.update(inputs, indexes, idx_max_loss)\n",
    "\n",
    "        # update the scheduler if there is one at all\n",
    "        if scheduler is not None:\n",
    "            scheduler.step()\n",
    "\n",
    "        regenerating.losses.append(np.mean(epoch_losses))\n",
    "        print(f\"epoch: {i+1}\\navg loss: {np.mean(epoch_losses)}\")\n",
    "        clear_output(wait=True)\n"
   ],
   "outputs": [],
   "metadata": {}
  },
  {
   "cell_type": "code",
   "execution_count": 3,
   "source": [
    "growing=NeuralCA(N_CHANNELS)\n",
    "regenerating=NeuralCA(N_CHANNELS)\n",
    "regenerating.device\n",
    "\n",
    "growing.load_state_dict(torch.load('Pretrained_models/firework_growing.pt', map_location=cuda))\n",
    "# regenerating.load_state_dict(torch.load('Pretrained_models/firework_regenerating.pt', map_location=cuda))\n",
    "\n",
    "growing.to(cuda)\n",
    "regenerating.to(cuda)"
   ],
   "outputs": [
    {
     "output_type": "execute_result",
     "data": {
      "text/plain": [
       "NeuralCA(\n",
       "  (layers): Sequential(\n",
       "    (0): Conv2d(48, 128, kernel_size=(1, 1), stride=(1, 1))\n",
       "    (1): ReLU()\n",
       "    (2): Conv2d(128, 16, kernel_size=(1, 1), stride=(1, 1))\n",
       "  )\n",
       ")"
      ]
     },
     "metadata": {},
     "execution_count": 3
    }
   ],
   "metadata": {}
  },
  {
   "cell_type": "markdown",
   "source": [
    "# Without training the regenerating part\n",
    "Without any training on the regenerating part the image fails to converge and persist to the final form"
   ],
   "metadata": {}
  },
  {
   "cell_type": "code",
   "execution_count": 4,
   "source": [
    "target = read_image(\"images/firework.png\", ImageReadMode.RGB_ALPHA).float()\n",
    "target = T.Resize((TARGET_SIZE, TARGET_SIZE))(target)\n",
    "target = RGBAtoFloat(target)\n",
    "\n",
    "imshow(target)\n",
    "\n",
    "target = target.to(cuda)"
   ],
   "outputs": [
    {
     "output_type": "display_data",
     "data": {
      "text/plain": [
       "<Figure size 432x288 with 1 Axes>"
      ],
      "image/svg+xml": "<?xml version=\"1.0\" encoding=\"utf-8\" standalone=\"no\"?>\n<!DOCTYPE svg PUBLIC \"-//W3C//DTD SVG 1.1//EN\"\n  \"http://www.w3.org/Graphics/SVG/1.1/DTD/svg11.dtd\">\n<svg height=\"249.599344pt\" version=\"1.1\" viewBox=\"0 0 251.565 249.599344\" width=\"251.565pt\" xmlns=\"http://www.w3.org/2000/svg\" xmlns:xlink=\"http://www.w3.org/1999/xlink\">\n <metadata>\n  <rdf:RDF xmlns:cc=\"http://creativecommons.org/ns#\" xmlns:dc=\"http://purl.org/dc/elements/1.1/\" xmlns:rdf=\"http://www.w3.org/1999/02/22-rdf-syntax-ns#\">\n   <cc:Work>\n    <dc:type rdf:resource=\"http://purl.org/dc/dcmitype/StillImage\"/>\n    <dc:date>2021-09-01T18:27:01.277311</dc:date>\n    <dc:format>image/svg+xml</dc:format>\n    <dc:creator>\n     <cc:Agent>\n      <dc:title>Matplotlib v3.4.2, https://matplotlib.org/</dc:title>\n     </cc:Agent>\n    </dc:creator>\n   </cc:Work>\n  </rdf:RDF>\n </metadata>\n <defs>\n  <style type=\"text/css\">*{stroke-linecap:butt;stroke-linejoin:round;}</style>\n </defs>\n <g id=\"figure_1\">\n  <g id=\"patch_1\">\n   <path d=\"M 0 249.599344 \nL 251.565 249.599344 \nL 251.565 0 \nL 0 0 \nz\n\" style=\"fill:none;\"/>\n  </g>\n  <g id=\"axes_1\">\n   <g id=\"patch_2\">\n    <path d=\"M 26.925 225.721219 \nL 244.365 225.721219 \nL 244.365 8.281219 \nL 26.925 8.281219 \nz\n\" style=\"fill:#ffffff;\"/>\n   </g>\n   <g clip-path=\"url(#p244da467f1)\">\n    <image height=\"218\" id=\"image02b89d6d05\" transform=\"scale(1 -1)translate(0 -218)\" width=\"218\" x=\"26.925\" xlink:href=\"data:image/png;base64,\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\" y=\"-7.721219\"/>\n   </g>\n   <g id=\"matplotlib.axis_1\">\n    <g id=\"xtick_1\">\n     <g id=\"line2d_1\">\n      <defs>\n       <path d=\"M 0 0 \nL 0 3.5 \n\" id=\"mb6da2903a7\" style=\"stroke:#000000;stroke-width:0.8;\"/>\n      </defs>\n      <g>\n       <use style=\"stroke:#000000;stroke-width:0.8;\" x=\"29.643\" xlink:href=\"#mb6da2903a7\" y=\"225.721219\"/>\n      </g>\n     </g>\n     <g id=\"text_1\">\n      <!-- 0 -->\n      <g transform=\"translate(26.46175 240.319656)scale(0.1 -0.1)\">\n       <defs>\n        <path d=\"M 2034 4250 \nQ 1547 4250 1301 3770 \nQ 1056 3291 1056 2328 \nQ 1056 1369 1301 889 \nQ 1547 409 2034 409 \nQ 2525 409 2770 889 \nQ 3016 1369 3016 2328 \nQ 3016 3291 2770 3770 \nQ 2525 4250 2034 4250 \nz\nM 2034 4750 \nQ 2819 4750 3233 4129 \nQ 3647 3509 3647 2328 \nQ 3647 1150 3233 529 \nQ 2819 -91 2034 -91 \nQ 1250 -91 836 529 \nQ 422 1150 422 2328 \nQ 422 3509 836 4129 \nQ 1250 4750 2034 4750 \nz\n\" id=\"DejaVuSans-30\" transform=\"scale(0.015625)\"/>\n       </defs>\n       <use xlink:href=\"#DejaVuSans-30\"/>\n      </g>\n     </g>\n    </g>\n    <g id=\"xtick_2\">\n     <g id=\"line2d_2\">\n      <g>\n       <use style=\"stroke:#000000;stroke-width:0.8;\" x=\"84.003\" xlink:href=\"#mb6da2903a7\" y=\"225.721219\"/>\n      </g>\n     </g>\n     <g id=\"text_2\">\n      <!-- 10 -->\n      <g transform=\"translate(77.6405 240.319656)scale(0.1 -0.1)\">\n       <defs>\n        <path d=\"M 794 531 \nL 1825 531 \nL 1825 4091 \nL 703 3866 \nL 703 4441 \nL 1819 4666 \nL 2450 4666 \nL 2450 531 \nL 3481 531 \nL 3481 0 \nL 794 0 \nL 794 531 \nz\n\" id=\"DejaVuSans-31\" transform=\"scale(0.015625)\"/>\n       </defs>\n       <use xlink:href=\"#DejaVuSans-31\"/>\n       <use x=\"63.623047\" xlink:href=\"#DejaVuSans-30\"/>\n      </g>\n     </g>\n    </g>\n    <g id=\"xtick_3\">\n     <g id=\"line2d_3\">\n      <g>\n       <use style=\"stroke:#000000;stroke-width:0.8;\" x=\"138.363\" xlink:href=\"#mb6da2903a7\" y=\"225.721219\"/>\n      </g>\n     </g>\n     <g id=\"text_3\">\n      <!-- 20 -->\n      <g transform=\"translate(132.0005 240.319656)scale(0.1 -0.1)\">\n       <defs>\n        <path d=\"M 1228 531 \nL 3431 531 \nL 3431 0 \nL 469 0 \nL 469 531 \nQ 828 903 1448 1529 \nQ 2069 2156 2228 2338 \nQ 2531 2678 2651 2914 \nQ 2772 3150 2772 3378 \nQ 2772 3750 2511 3984 \nQ 2250 4219 1831 4219 \nQ 1534 4219 1204 4116 \nQ 875 4013 500 3803 \nL 500 4441 \nQ 881 4594 1212 4672 \nQ 1544 4750 1819 4750 \nQ 2544 4750 2975 4387 \nQ 3406 4025 3406 3419 \nQ 3406 3131 3298 2873 \nQ 3191 2616 2906 2266 \nQ 2828 2175 2409 1742 \nQ 1991 1309 1228 531 \nz\n\" id=\"DejaVuSans-32\" transform=\"scale(0.015625)\"/>\n       </defs>\n       <use xlink:href=\"#DejaVuSans-32\"/>\n       <use x=\"63.623047\" xlink:href=\"#DejaVuSans-30\"/>\n      </g>\n     </g>\n    </g>\n    <g id=\"xtick_4\">\n     <g id=\"line2d_4\">\n      <g>\n       <use style=\"stroke:#000000;stroke-width:0.8;\" x=\"192.723\" xlink:href=\"#mb6da2903a7\" y=\"225.721219\"/>\n      </g>\n     </g>\n     <g id=\"text_4\">\n      <!-- 30 -->\n      <g transform=\"translate(186.3605 240.319656)scale(0.1 -0.1)\">\n       <defs>\n        <path d=\"M 2597 2516 \nQ 3050 2419 3304 2112 \nQ 3559 1806 3559 1356 \nQ 3559 666 3084 287 \nQ 2609 -91 1734 -91 \nQ 1441 -91 1130 -33 \nQ 819 25 488 141 \nL 488 750 \nQ 750 597 1062 519 \nQ 1375 441 1716 441 \nQ 2309 441 2620 675 \nQ 2931 909 2931 1356 \nQ 2931 1769 2642 2001 \nQ 2353 2234 1838 2234 \nL 1294 2234 \nL 1294 2753 \nL 1863 2753 \nQ 2328 2753 2575 2939 \nQ 2822 3125 2822 3475 \nQ 2822 3834 2567 4026 \nQ 2313 4219 1838 4219 \nQ 1578 4219 1281 4162 \nQ 984 4106 628 3988 \nL 628 4550 \nQ 988 4650 1302 4700 \nQ 1616 4750 1894 4750 \nQ 2613 4750 3031 4423 \nQ 3450 4097 3450 3541 \nQ 3450 3153 3228 2886 \nQ 3006 2619 2597 2516 \nz\n\" id=\"DejaVuSans-33\" transform=\"scale(0.015625)\"/>\n       </defs>\n       <use xlink:href=\"#DejaVuSans-33\"/>\n       <use x=\"63.623047\" xlink:href=\"#DejaVuSans-30\"/>\n      </g>\n     </g>\n    </g>\n   </g>\n   <g id=\"matplotlib.axis_2\">\n    <g id=\"ytick_1\">\n     <g id=\"line2d_5\">\n      <defs>\n       <path d=\"M 0 0 \nL -3.5 0 \n\" id=\"m3219ab183b\" style=\"stroke:#000000;stroke-width:0.8;\"/>\n      </defs>\n      <g>\n       <use style=\"stroke:#000000;stroke-width:0.8;\" x=\"26.925\" xlink:href=\"#m3219ab183b\" y=\"10.999219\"/>\n      </g>\n     </g>\n     <g id=\"text_5\">\n      <!-- 0 -->\n      <g transform=\"translate(13.5625 14.798437)scale(0.1 -0.1)\">\n       <use xlink:href=\"#DejaVuSans-30\"/>\n      </g>\n     </g>\n    </g>\n    <g id=\"ytick_2\">\n     <g id=\"line2d_6\">\n      <g>\n       <use style=\"stroke:#000000;stroke-width:0.8;\" x=\"26.925\" xlink:href=\"#m3219ab183b\" y=\"38.179219\"/>\n      </g>\n     </g>\n     <g id=\"text_6\">\n      <!-- 5 -->\n      <g transform=\"translate(13.5625 41.978437)scale(0.1 -0.1)\">\n       <defs>\n        <path d=\"M 691 4666 \nL 3169 4666 \nL 3169 4134 \nL 1269 4134 \nL 1269 2991 \nQ 1406 3038 1543 3061 \nQ 1681 3084 1819 3084 \nQ 2600 3084 3056 2656 \nQ 3513 2228 3513 1497 \nQ 3513 744 3044 326 \nQ 2575 -91 1722 -91 \nQ 1428 -91 1123 -41 \nQ 819 9 494 109 \nL 494 744 \nQ 775 591 1075 516 \nQ 1375 441 1709 441 \nQ 2250 441 2565 725 \nQ 2881 1009 2881 1497 \nQ 2881 1984 2565 2268 \nQ 2250 2553 1709 2553 \nQ 1456 2553 1204 2497 \nQ 953 2441 691 2322 \nL 691 4666 \nz\n\" id=\"DejaVuSans-35\" transform=\"scale(0.015625)\"/>\n       </defs>\n       <use xlink:href=\"#DejaVuSans-35\"/>\n      </g>\n     </g>\n    </g>\n    <g id=\"ytick_3\">\n     <g id=\"line2d_7\">\n      <g>\n       <use style=\"stroke:#000000;stroke-width:0.8;\" x=\"26.925\" xlink:href=\"#m3219ab183b\" y=\"65.359219\"/>\n      </g>\n     </g>\n     <g id=\"text_7\">\n      <!-- 10 -->\n      <g transform=\"translate(7.2 69.158437)scale(0.1 -0.1)\">\n       <use xlink:href=\"#DejaVuSans-31\"/>\n       <use x=\"63.623047\" xlink:href=\"#DejaVuSans-30\"/>\n      </g>\n     </g>\n    </g>\n    <g id=\"ytick_4\">\n     <g id=\"line2d_8\">\n      <g>\n       <use style=\"stroke:#000000;stroke-width:0.8;\" x=\"26.925\" xlink:href=\"#m3219ab183b\" y=\"92.539219\"/>\n      </g>\n     </g>\n     <g id=\"text_8\">\n      <!-- 15 -->\n      <g transform=\"translate(7.2 96.338437)scale(0.1 -0.1)\">\n       <use xlink:href=\"#DejaVuSans-31\"/>\n       <use x=\"63.623047\" xlink:href=\"#DejaVuSans-35\"/>\n      </g>\n     </g>\n    </g>\n    <g id=\"ytick_5\">\n     <g id=\"line2d_9\">\n      <g>\n       <use style=\"stroke:#000000;stroke-width:0.8;\" x=\"26.925\" xlink:href=\"#m3219ab183b\" y=\"119.719219\"/>\n      </g>\n     </g>\n     <g id=\"text_9\">\n      <!-- 20 -->\n      <g transform=\"translate(7.2 123.518437)scale(0.1 -0.1)\">\n       <use xlink:href=\"#DejaVuSans-32\"/>\n       <use x=\"63.623047\" xlink:href=\"#DejaVuSans-30\"/>\n      </g>\n     </g>\n    </g>\n    <g id=\"ytick_6\">\n     <g id=\"line2d_10\">\n      <g>\n       <use style=\"stroke:#000000;stroke-width:0.8;\" x=\"26.925\" xlink:href=\"#m3219ab183b\" y=\"146.899219\"/>\n      </g>\n     </g>\n     <g id=\"text_10\">\n      <!-- 25 -->\n      <g transform=\"translate(7.2 150.698437)scale(0.1 -0.1)\">\n       <use xlink:href=\"#DejaVuSans-32\"/>\n       <use x=\"63.623047\" xlink:href=\"#DejaVuSans-35\"/>\n      </g>\n     </g>\n    </g>\n    <g id=\"ytick_7\">\n     <g id=\"line2d_11\">\n      <g>\n       <use style=\"stroke:#000000;stroke-width:0.8;\" x=\"26.925\" xlink:href=\"#m3219ab183b\" y=\"174.079219\"/>\n      </g>\n     </g>\n     <g id=\"text_11\">\n      <!-- 30 -->\n      <g transform=\"translate(7.2 177.878437)scale(0.1 -0.1)\">\n       <use xlink:href=\"#DejaVuSans-33\"/>\n       <use x=\"63.623047\" xlink:href=\"#DejaVuSans-30\"/>\n      </g>\n     </g>\n    </g>\n    <g id=\"ytick_8\">\n     <g id=\"line2d_12\">\n      <g>\n       <use style=\"stroke:#000000;stroke-width:0.8;\" x=\"26.925\" xlink:href=\"#m3219ab183b\" y=\"201.259219\"/>\n      </g>\n     </g>\n     <g id=\"text_12\">\n      <!-- 35 -->\n      <g transform=\"translate(7.2 205.058437)scale(0.1 -0.1)\">\n       <use xlink:href=\"#DejaVuSans-33\"/>\n       <use x=\"63.623047\" xlink:href=\"#DejaVuSans-35\"/>\n      </g>\n     </g>\n    </g>\n   </g>\n   <g id=\"patch_3\">\n    <path d=\"M 26.925 225.721219 \nL 26.925 8.281219 \n\" style=\"fill:none;stroke:#000000;stroke-linecap:square;stroke-linejoin:miter;stroke-width:0.8;\"/>\n   </g>\n   <g id=\"patch_4\">\n    <path d=\"M 244.365 225.721219 \nL 244.365 8.281219 \n\" style=\"fill:none;stroke:#000000;stroke-linecap:square;stroke-linejoin:miter;stroke-width:0.8;\"/>\n   </g>\n   <g id=\"patch_5\">\n    <path d=\"M 26.925 225.721219 \nL 244.365 225.721219 \n\" style=\"fill:none;stroke:#000000;stroke-linecap:square;stroke-linejoin:miter;stroke-width:0.8;\"/>\n   </g>\n   <g id=\"patch_6\">\n    <path d=\"M 26.925 8.281219 \nL 244.365 8.281219 \n\" style=\"fill:none;stroke:#000000;stroke-linecap:square;stroke-linejoin:miter;stroke-width:0.8;\"/>\n   </g>\n  </g>\n </g>\n <defs>\n  <clipPath id=\"p244da467f1\">\n   <rect height=\"217.44\" width=\"217.44\" x=\"26.925\" y=\"8.281219\"/>\n  </clipPath>\n </defs>\n</svg>\n",
      "image/png": "[encoded data removed]"
     },
     "metadata": {
      "needs_background": "light"
     }
    }
   ],
   "metadata": {}
  },
  {
   "cell_type": "code",
   "execution_count": 5,
   "source": [
    "pool = SamplePool(POOL_SIZE, N_CHANNELS, IMAGE_SIZE)\n",
    "imshow(pool[0])"
   ],
   "outputs": [
    {
     "output_type": "display_data",
     "data": {
      "text/plain": [
       "<Figure size 432x288 with 1 Axes>"
      ],
      "image/svg+xml": "<?xml version=\"1.0\" encoding=\"utf-8\" standalone=\"no\"?>\n<!DOCTYPE svg PUBLIC \"-//W3C//DTD SVG 1.1//EN\"\n  \"http://www.w3.org/Graphics/SVG/1.1/DTD/svg11.dtd\">\n<svg height=\"250.052344pt\" version=\"1.1\" viewBox=\"0 0 251.565 250.052344\" width=\"251.565pt\" xmlns=\"http://www.w3.org/2000/svg\" xmlns:xlink=\"http://www.w3.org/1999/xlink\">\n <metadata>\n  <rdf:RDF xmlns:cc=\"http://creativecommons.org/ns#\" xmlns:dc=\"http://purl.org/dc/elements/1.1/\" xmlns:rdf=\"http://www.w3.org/1999/02/22-rdf-syntax-ns#\">\n   <cc:Work>\n    <dc:type rdf:resource=\"http://purl.org/dc/dcmitype/StillImage\"/>\n    <dc:date>2021-09-01T18:27:01.462008</dc:date>\n    <dc:format>image/svg+xml</dc:format>\n    <dc:creator>\n     <cc:Agent>\n      <dc:title>Matplotlib v3.4.2, https://matplotlib.org/</dc:title>\n     </cc:Agent>\n    </dc:creator>\n   </cc:Work>\n  </rdf:RDF>\n </metadata>\n <defs>\n  <style type=\"text/css\">*{stroke-linecap:butt;stroke-linejoin:round;}</style>\n </defs>\n <g id=\"figure_1\">\n  <g id=\"patch_1\">\n   <path d=\"M 0 250.052344 \nL 251.565 250.052344 \nL 251.565 0 \nL 0 0 \nz\n\" style=\"fill:none;\"/>\n  </g>\n  <g id=\"axes_1\">\n   <g id=\"patch_2\">\n    <path d=\"M 26.925 226.174219 \nL 244.365 226.174219 \nL 244.365 8.734219 \nL 26.925 8.734219 \nz\n\" style=\"fill:#ffffff;\"/>\n   </g>\n   <g clip-path=\"url(#pface5fd106)\">\n    <image height=\"218\" id=\"image0684a3dee9\" transform=\"scale(1 -1)translate(0 -218)\" width=\"218\" x=\"26.925\" xlink:href=\"data:image/png;base64,\niVBORw0KGgoAAAANSUhEUgAAANoAAADaCAYAAADAHVzbAAAA60lEQVR4nO3TsQ0AIAhFQXT/nXUBKwow4a6k+gl5EQAAAAAAAAAAAAAAAAAAAAAAAAAAAAAAAAAAAAAAAAAAAAAAAAAAAAAAAAAAAAAAAAAAAAAAAAAAAAAAAAAAAAAAAAAAAAAAAAAAAAAAAAAAAAAAAAAAAMAUq3sAKedx88uP7e4BMIHQoIDQoIDQAAAAAAAAAAAAAAAAAAAAAAAAAAAAAAAAAAAAAAAAAAAAAAAAAAAAAAAAAAAAAAAAAAAAAAAAAAAAAAAAAAAAAAAAAAAAAAAAAAAAAAAAAAAAAAAAAAAAAAAAAACAnAtvkQEKH9vYPQAAAABJRU5ErkJggg==\" y=\"-8.174219\"/>\n   </g>\n   <g id=\"matplotlib.axis_1\">\n    <g id=\"xtick_1\">\n     <g id=\"line2d_1\">\n      <defs>\n       <path d=\"M 0 0 \nL 0 3.5 \n\" id=\"m2232aaa12c\" style=\"stroke:#000000;stroke-width:0.8;\"/>\n      </defs>\n      <g>\n       <use style=\"stroke:#000000;stroke-width:0.8;\" x=\"29.19\" xlink:href=\"#m2232aaa12c\" y=\"226.174219\"/>\n      </g>\n     </g>\n     <g id=\"text_1\">\n      <!-- 0 -->\n      <g transform=\"translate(26.00875 240.772656)scale(0.1 -0.1)\">\n       <defs>\n        <path d=\"M 2034 4250 \nQ 1547 4250 1301 3770 \nQ 1056 3291 1056 2328 \nQ 1056 1369 1301 889 \nQ 1547 409 2034 409 \nQ 2525 409 2770 889 \nQ 3016 1369 3016 2328 \nQ 3016 3291 2770 3770 \nQ 2525 4250 2034 4250 \nz\nM 2034 4750 \nQ 2819 4750 3233 4129 \nQ 3647 3509 3647 2328 \nQ 3647 1150 3233 529 \nQ 2819 -91 2034 -91 \nQ 1250 -91 836 529 \nQ 422 1150 422 2328 \nQ 422 3509 836 4129 \nQ 1250 4750 2034 4750 \nz\n\" id=\"DejaVuSans-30\" transform=\"scale(0.015625)\"/>\n       </defs>\n       <use xlink:href=\"#DejaVuSans-30\"/>\n      </g>\n     </g>\n    </g>\n    <g id=\"xtick_2\">\n     <g id=\"line2d_2\">\n      <g>\n       <use style=\"stroke:#000000;stroke-width:0.8;\" x=\"74.49\" xlink:href=\"#m2232aaa12c\" y=\"226.174219\"/>\n      </g>\n     </g>\n     <g id=\"text_2\">\n      <!-- 10 -->\n      <g transform=\"translate(68.1275 240.772656)scale(0.1 -0.1)\">\n       <defs>\n        <path d=\"M 794 531 \nL 1825 531 \nL 1825 4091 \nL 703 3866 \nL 703 4441 \nL 1819 4666 \nL 2450 4666 \nL 2450 531 \nL 3481 531 \nL 3481 0 \nL 794 0 \nL 794 531 \nz\n\" id=\"DejaVuSans-31\" transform=\"scale(0.015625)\"/>\n       </defs>\n       <use xlink:href=\"#DejaVuSans-31\"/>\n       <use x=\"63.623047\" xlink:href=\"#DejaVuSans-30\"/>\n      </g>\n     </g>\n    </g>\n    <g id=\"xtick_3\">\n     <g id=\"line2d_3\">\n      <g>\n       <use style=\"stroke:#000000;stroke-width:0.8;\" x=\"119.79\" xlink:href=\"#m2232aaa12c\" y=\"226.174219\"/>\n      </g>\n     </g>\n     <g id=\"text_3\">\n      <!-- 20 -->\n      <g transform=\"translate(113.4275 240.772656)scale(0.1 -0.1)\">\n       <defs>\n        <path d=\"M 1228 531 \nL 3431 531 \nL 3431 0 \nL 469 0 \nL 469 531 \nQ 828 903 1448 1529 \nQ 2069 2156 2228 2338 \nQ 2531 2678 2651 2914 \nQ 2772 3150 2772 3378 \nQ 2772 3750 2511 3984 \nQ 2250 4219 1831 4219 \nQ 1534 4219 1204 4116 \nQ 875 4013 500 3803 \nL 500 4441 \nQ 881 4594 1212 4672 \nQ 1544 4750 1819 4750 \nQ 2544 4750 2975 4387 \nQ 3406 4025 3406 3419 \nQ 3406 3131 3298 2873 \nQ 3191 2616 2906 2266 \nQ 2828 2175 2409 1742 \nQ 1991 1309 1228 531 \nz\n\" id=\"DejaVuSans-32\" transform=\"scale(0.015625)\"/>\n       </defs>\n       <use xlink:href=\"#DejaVuSans-32\"/>\n       <use x=\"63.623047\" xlink:href=\"#DejaVuSans-30\"/>\n      </g>\n     </g>\n    </g>\n    <g id=\"xtick_4\">\n     <g id=\"line2d_4\">\n      <g>\n       <use style=\"stroke:#000000;stroke-width:0.8;\" x=\"165.09\" xlink:href=\"#m2232aaa12c\" y=\"226.174219\"/>\n      </g>\n     </g>\n     <g id=\"text_4\">\n      <!-- 30 -->\n      <g transform=\"translate(158.7275 240.772656)scale(0.1 -0.1)\">\n       <defs>\n        <path d=\"M 2597 2516 \nQ 3050 2419 3304 2112 \nQ 3559 1806 3559 1356 \nQ 3559 666 3084 287 \nQ 2609 -91 1734 -91 \nQ 1441 -91 1130 -33 \nQ 819 25 488 141 \nL 488 750 \nQ 750 597 1062 519 \nQ 1375 441 1716 441 \nQ 2309 441 2620 675 \nQ 2931 909 2931 1356 \nQ 2931 1769 2642 2001 \nQ 2353 2234 1838 2234 \nL 1294 2234 \nL 1294 2753 \nL 1863 2753 \nQ 2328 2753 2575 2939 \nQ 2822 3125 2822 3475 \nQ 2822 3834 2567 4026 \nQ 2313 4219 1838 4219 \nQ 1578 4219 1281 4162 \nQ 984 4106 628 3988 \nL 628 4550 \nQ 988 4650 1302 4700 \nQ 1616 4750 1894 4750 \nQ 2613 4750 3031 4423 \nQ 3450 4097 3450 3541 \nQ 3450 3153 3228 2886 \nQ 3006 2619 2597 2516 \nz\n\" id=\"DejaVuSans-33\" transform=\"scale(0.015625)\"/>\n       </defs>\n       <use xlink:href=\"#DejaVuSans-33\"/>\n       <use x=\"63.623047\" xlink:href=\"#DejaVuSans-30\"/>\n      </g>\n     </g>\n    </g>\n    <g id=\"xtick_5\">\n     <g id=\"line2d_5\">\n      <g>\n       <use style=\"stroke:#000000;stroke-width:0.8;\" x=\"210.39\" xlink:href=\"#m2232aaa12c\" y=\"226.174219\"/>\n      </g>\n     </g>\n     <g id=\"text_5\">\n      <!-- 40 -->\n      <g transform=\"translate(204.0275 240.772656)scale(0.1 -0.1)\">\n       <defs>\n        <path d=\"M 2419 4116 \nL 825 1625 \nL 2419 1625 \nL 2419 4116 \nz\nM 2253 4666 \nL 3047 4666 \nL 3047 1625 \nL 3713 1625 \nL 3713 1100 \nL 3047 1100 \nL 3047 0 \nL 2419 0 \nL 2419 1100 \nL 313 1100 \nL 313 1709 \nL 2253 4666 \nz\n\" id=\"DejaVuSans-34\" transform=\"scale(0.015625)\"/>\n       </defs>\n       <use xlink:href=\"#DejaVuSans-34\"/>\n       <use x=\"63.623047\" xlink:href=\"#DejaVuSans-30\"/>\n      </g>\n     </g>\n    </g>\n   </g>\n   <g id=\"matplotlib.axis_2\">\n    <g id=\"ytick_1\">\n     <g id=\"line2d_6\">\n      <defs>\n       <path d=\"M 0 0 \nL -3.5 0 \n\" id=\"m34af97249e\" style=\"stroke:#000000;stroke-width:0.8;\"/>\n      </defs>\n      <g>\n       <use style=\"stroke:#000000;stroke-width:0.8;\" x=\"26.925\" xlink:href=\"#m34af97249e\" y=\"10.999219\"/>\n      </g>\n     </g>\n     <g id=\"text_6\">\n      <!-- 0 -->\n      <g transform=\"translate(13.5625 14.798437)scale(0.1 -0.1)\">\n       <use xlink:href=\"#DejaVuSans-30\"/>\n      </g>\n     </g>\n    </g>\n    <g id=\"ytick_2\">\n     <g id=\"line2d_7\">\n      <g>\n       <use style=\"stroke:#000000;stroke-width:0.8;\" x=\"26.925\" xlink:href=\"#m34af97249e\" y=\"56.299219\"/>\n      </g>\n     </g>\n     <g id=\"text_7\">\n      <!-- 10 -->\n      <g transform=\"translate(7.2 60.098437)scale(0.1 -0.1)\">\n       <use xlink:href=\"#DejaVuSans-31\"/>\n       <use x=\"63.623047\" xlink:href=\"#DejaVuSans-30\"/>\n      </g>\n     </g>\n    </g>\n    <g id=\"ytick_3\">\n     <g id=\"line2d_8\">\n      <g>\n       <use style=\"stroke:#000000;stroke-width:0.8;\" x=\"26.925\" xlink:href=\"#m34af97249e\" y=\"101.599219\"/>\n      </g>\n     </g>\n     <g id=\"text_8\">\n      <!-- 20 -->\n      <g transform=\"translate(7.2 105.398437)scale(0.1 -0.1)\">\n       <use xlink:href=\"#DejaVuSans-32\"/>\n       <use x=\"63.623047\" xlink:href=\"#DejaVuSans-30\"/>\n      </g>\n     </g>\n    </g>\n    <g id=\"ytick_4\">\n     <g id=\"line2d_9\">\n      <g>\n       <use style=\"stroke:#000000;stroke-width:0.8;\" x=\"26.925\" xlink:href=\"#m34af97249e\" y=\"146.899219\"/>\n      </g>\n     </g>\n     <g id=\"text_9\">\n      <!-- 30 -->\n      <g transform=\"translate(7.2 150.698437)scale(0.1 -0.1)\">\n       <use xlink:href=\"#DejaVuSans-33\"/>\n       <use x=\"63.623047\" xlink:href=\"#DejaVuSans-30\"/>\n      </g>\n     </g>\n    </g>\n    <g id=\"ytick_5\">\n     <g id=\"line2d_10\">\n      <g>\n       <use style=\"stroke:#000000;stroke-width:0.8;\" x=\"26.925\" xlink:href=\"#m34af97249e\" y=\"192.199219\"/>\n      </g>\n     </g>\n     <g id=\"text_10\">\n      <!-- 40 -->\n      <g transform=\"translate(7.2 195.998437)scale(0.1 -0.1)\">\n       <use xlink:href=\"#DejaVuSans-34\"/>\n       <use x=\"63.623047\" xlink:href=\"#DejaVuSans-30\"/>\n      </g>\n     </g>\n    </g>\n   </g>\n   <g id=\"patch_3\">\n    <path d=\"M 26.925 226.174219 \nL 26.925 8.734219 \n\" style=\"fill:none;stroke:#000000;stroke-linecap:square;stroke-linejoin:miter;stroke-width:0.8;\"/>\n   </g>\n   <g id=\"patch_4\">\n    <path d=\"M 244.365 226.174219 \nL 244.365 8.734219 \n\" style=\"fill:none;stroke:#000000;stroke-linecap:square;stroke-linejoin:miter;stroke-width:0.8;\"/>\n   </g>\n   <g id=\"patch_5\">\n    <path d=\"M 26.925 226.174219 \nL 244.365 226.174219 \n\" style=\"fill:none;stroke:#000000;stroke-linecap:square;stroke-linejoin:miter;stroke-width:0.8;\"/>\n   </g>\n   <g id=\"patch_6\">\n    <path d=\"M 26.925 8.734219 \nL 244.365 8.734219 \n\" style=\"fill:none;stroke:#000000;stroke-linecap:square;stroke-linejoin:miter;stroke-width:0.8;\"/>\n   </g>\n  </g>\n </g>\n <defs>\n  <clipPath id=\"pface5fd106\">\n   <rect height=\"217.44\" width=\"217.44\" x=\"26.925\" y=\"8.734219\"/>\n  </clipPath>\n </defs>\n</svg>\n",
      "image/png": "[encoded data removed]"
     },
     "metadata": {
      "needs_background": "light"
     }
    }
   ],
   "metadata": {}
  },
  {
   "cell_type": "code",
   "execution_count": 9,
   "source": [
    "regenerating.save(\"growing_part_2.pt\")"
   ],
   "outputs": [
    {
     "output_type": "stream",
     "name": "stdout",
     "text": [
      "Successfully saved model!\n"
     ]
    }
   ],
   "metadata": {}
  },
  {
   "cell_type": "code",
   "execution_count": 8,
   "source": [
    "# Train the model\n",
    "for param in growing.parameters():\n",
    "    param.requires_grad = False\n",
    "\n",
    "torch.backends.cudnn.benchmark = True # Speeds up training\n",
    "optimizer = torch.optim.Adam(regenerating.parameters(), lr=2e-3*0.3)\n",
    "criterion = NCALoss(pad(target, TARGET_PADDING), torch.nn.MSELoss)\n",
    "scheduler = torch.optim.lr_scheduler.MultiStepLR(optimizer, milestones=[40,80], gamma=0.3)\n",
    "train_CA(regenerating, growing, optimizer, criterion, pool, batch_size=4, n_epochs=300, scheduler=scheduler, kind=\"growing\")"
   ],
   "outputs": [
    {
     "output_type": "error",
     "ename": "KeyboardInterrupt",
     "evalue": "",
     "traceback": [
      "\u001b[0;31m---------------------------------------------------------------------------\u001b[0m",
      "\u001b[0;31mKeyboardInterrupt\u001b[0m                         Traceback (most recent call last)",
      "\u001b[0;32m/tmp/ipykernel_23975/3740203046.py\u001b[0m in \u001b[0;36m<module>\u001b[0;34m\u001b[0m\n\u001b[1;32m      7\u001b[0m \u001b[0mcriterion\u001b[0m \u001b[0;34m=\u001b[0m \u001b[0mNCALoss\u001b[0m\u001b[0;34m(\u001b[0m\u001b[0mpad\u001b[0m\u001b[0;34m(\u001b[0m\u001b[0mtarget\u001b[0m\u001b[0;34m,\u001b[0m \u001b[0mTARGET_PADDING\u001b[0m\u001b[0;34m)\u001b[0m\u001b[0;34m,\u001b[0m \u001b[0mtorch\u001b[0m\u001b[0;34m.\u001b[0m\u001b[0mnn\u001b[0m\u001b[0;34m.\u001b[0m\u001b[0mMSELoss\u001b[0m\u001b[0;34m)\u001b[0m\u001b[0;34m\u001b[0m\u001b[0;34m\u001b[0m\u001b[0m\n\u001b[1;32m      8\u001b[0m \u001b[0mscheduler\u001b[0m \u001b[0;34m=\u001b[0m \u001b[0mtorch\u001b[0m\u001b[0;34m.\u001b[0m\u001b[0moptim\u001b[0m\u001b[0;34m.\u001b[0m\u001b[0mlr_scheduler\u001b[0m\u001b[0;34m.\u001b[0m\u001b[0mMultiStepLR\u001b[0m\u001b[0;34m(\u001b[0m\u001b[0moptimizer\u001b[0m\u001b[0;34m,\u001b[0m \u001b[0mmilestones\u001b[0m\u001b[0;34m=\u001b[0m\u001b[0;34m[\u001b[0m\u001b[0;36m40\u001b[0m\u001b[0;34m,\u001b[0m\u001b[0;36m80\u001b[0m\u001b[0;34m]\u001b[0m\u001b[0;34m,\u001b[0m \u001b[0mgamma\u001b[0m\u001b[0;34m=\u001b[0m\u001b[0;36m0.3\u001b[0m\u001b[0;34m)\u001b[0m\u001b[0;34m\u001b[0m\u001b[0;34m\u001b[0m\u001b[0m\n\u001b[0;32m----> 9\u001b[0;31m \u001b[0mtrain_CA\u001b[0m\u001b[0;34m(\u001b[0m\u001b[0mregenerating\u001b[0m\u001b[0;34m,\u001b[0m \u001b[0mgrowing\u001b[0m\u001b[0;34m,\u001b[0m \u001b[0moptimizer\u001b[0m\u001b[0;34m,\u001b[0m \u001b[0mcriterion\u001b[0m\u001b[0;34m,\u001b[0m \u001b[0mpool\u001b[0m\u001b[0;34m,\u001b[0m \u001b[0mbatch_size\u001b[0m\u001b[0;34m=\u001b[0m\u001b[0;36m4\u001b[0m\u001b[0;34m,\u001b[0m \u001b[0mn_epochs\u001b[0m\u001b[0;34m=\u001b[0m\u001b[0;36m300\u001b[0m\u001b[0;34m,\u001b[0m \u001b[0mscheduler\u001b[0m\u001b[0;34m=\u001b[0m\u001b[0mscheduler\u001b[0m\u001b[0;34m,\u001b[0m \u001b[0mkind\u001b[0m\u001b[0;34m=\u001b[0m\u001b[0;34m\"growing\"\u001b[0m\u001b[0;34m)\u001b[0m\u001b[0;34m\u001b[0m\u001b[0;34m\u001b[0m\u001b[0m\n\u001b[0m",
      "\u001b[0;32m/tmp/ipykernel_23975/3762622457.py\u001b[0m in \u001b[0;36mtrain_CA\u001b[0;34m(CA, growing, optimizer, criterion, pool, n_epochs, scheduler, batch_size, skip_update, evolution_iters, kind, **kwargs)\u001b[0m\n\u001b[1;32m     47\u001b[0m \u001b[0;34m\u001b[0m\u001b[0m\n\u001b[1;32m     48\u001b[0m             \u001b[0;31m# backward-pass\u001b[0m\u001b[0;34m\u001b[0m\u001b[0;34m\u001b[0m\u001b[0;34m\u001b[0m\u001b[0m\n\u001b[0;32m---> 49\u001b[0;31m             \u001b[0mloss\u001b[0m\u001b[0;34m.\u001b[0m\u001b[0mbackward\u001b[0m\u001b[0;34m(\u001b[0m\u001b[0;34m)\u001b[0m\u001b[0;34m\u001b[0m\u001b[0;34m\u001b[0m\u001b[0m\n\u001b[0m\u001b[1;32m     50\u001b[0m             \u001b[0moptimizer\u001b[0m\u001b[0;34m.\u001b[0m\u001b[0mstep\u001b[0m\u001b[0;34m(\u001b[0m\u001b[0;34m)\u001b[0m\u001b[0;34m\u001b[0m\u001b[0;34m\u001b[0m\u001b[0m\n\u001b[1;32m     51\u001b[0m \u001b[0;34m\u001b[0m\u001b[0m\n",
      "\u001b[0;32m~/anaconda3/lib/python3.8/site-packages/torch/_tensor.py\u001b[0m in \u001b[0;36mbackward\u001b[0;34m(self, gradient, retain_graph, create_graph, inputs)\u001b[0m\n\u001b[1;32m    260\u001b[0m                 \u001b[0mcreate_graph\u001b[0m\u001b[0;34m=\u001b[0m\u001b[0mcreate_graph\u001b[0m\u001b[0;34m,\u001b[0m\u001b[0;34m\u001b[0m\u001b[0;34m\u001b[0m\u001b[0m\n\u001b[1;32m    261\u001b[0m                 inputs=inputs)\n\u001b[0;32m--> 262\u001b[0;31m         \u001b[0mtorch\u001b[0m\u001b[0;34m.\u001b[0m\u001b[0mautograd\u001b[0m\u001b[0;34m.\u001b[0m\u001b[0mbackward\u001b[0m\u001b[0;34m(\u001b[0m\u001b[0mself\u001b[0m\u001b[0;34m,\u001b[0m \u001b[0mgradient\u001b[0m\u001b[0;34m,\u001b[0m \u001b[0mretain_graph\u001b[0m\u001b[0;34m,\u001b[0m \u001b[0mcreate_graph\u001b[0m\u001b[0;34m,\u001b[0m \u001b[0minputs\u001b[0m\u001b[0;34m=\u001b[0m\u001b[0minputs\u001b[0m\u001b[0;34m)\u001b[0m\u001b[0;34m\u001b[0m\u001b[0;34m\u001b[0m\u001b[0m\n\u001b[0m\u001b[1;32m    263\u001b[0m \u001b[0;34m\u001b[0m\u001b[0m\n\u001b[1;32m    264\u001b[0m     \u001b[0;32mdef\u001b[0m \u001b[0mregister_hook\u001b[0m\u001b[0;34m(\u001b[0m\u001b[0mself\u001b[0m\u001b[0;34m,\u001b[0m \u001b[0mhook\u001b[0m\u001b[0;34m)\u001b[0m\u001b[0;34m:\u001b[0m\u001b[0;34m\u001b[0m\u001b[0;34m\u001b[0m\u001b[0m\n",
      "\u001b[0;32m~/anaconda3/lib/python3.8/site-packages/torch/autograd/__init__.py\u001b[0m in \u001b[0;36mbackward\u001b[0;34m(tensors, grad_tensors, retain_graph, create_graph, grad_variables, inputs)\u001b[0m\n\u001b[1;32m    151\u001b[0m         \u001b[0mretain_graph\u001b[0m \u001b[0;34m=\u001b[0m \u001b[0mcreate_graph\u001b[0m\u001b[0;34m\u001b[0m\u001b[0;34m\u001b[0m\u001b[0m\n\u001b[1;32m    152\u001b[0m \u001b[0;34m\u001b[0m\u001b[0m\n\u001b[0;32m--> 153\u001b[0;31m     Variable._execution_engine.run_backward(\n\u001b[0m\u001b[1;32m    154\u001b[0m         \u001b[0mtensors\u001b[0m\u001b[0;34m,\u001b[0m \u001b[0mgrad_tensors_\u001b[0m\u001b[0;34m,\u001b[0m \u001b[0mretain_graph\u001b[0m\u001b[0;34m,\u001b[0m \u001b[0mcreate_graph\u001b[0m\u001b[0;34m,\u001b[0m \u001b[0minputs\u001b[0m\u001b[0;34m,\u001b[0m\u001b[0;34m\u001b[0m\u001b[0;34m\u001b[0m\u001b[0m\n\u001b[1;32m    155\u001b[0m         allow_unreachable=True, accumulate_grad=True)  # allow_unreachable flag\n",
      "\u001b[0;31mKeyboardInterrupt\u001b[0m: "
     ]
    }
   ],
   "metadata": {}
  },
  {
   "cell_type": "code",
   "execution_count": null,
   "source": [
    "switch=5 #the amount of steps before switching from growing to regenerating\n",
    "video, initial_state=make_video(growing,switch)\n",
    "_=make_video(regenerating,200,initial_state,fname='switch'+str(switch)+'.mkv', initial_video=video)"
   ],
   "outputs": [],
   "metadata": {}
  }
 ],
 "metadata": {
  "orig_nbformat": 4,
  "language_info": {
   "name": "python",
   "version": "3.8.11",
   "mimetype": "text/x-python",
   "codemirror_mode": {
    "name": "ipython",
    "version": 3
   },
   "pygments_lexer": "ipython3",
   "nbconvert_exporter": "python",
   "file_extension": ".py"
  },
  "kernelspec": {
   "name": "python3",
   "display_name": "Python 3.8.11 64-bit ('base': conda)"
  },
  "interpreter": {
   "hash": "826ac774da20863171be87f505c983a23ca5099031a67b4f2c0e4fe6baa8958e"
  }
 },
 "nbformat": 4,
 "nbformat_minor": 2
}