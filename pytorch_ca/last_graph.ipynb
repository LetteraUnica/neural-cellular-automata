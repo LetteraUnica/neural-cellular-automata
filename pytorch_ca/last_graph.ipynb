{
 "cells": [
  {
   "cell_type": "code",
   "execution_count": 2,
   "metadata": {},
   "outputs": [],
   "source": [
    "import numpy as np\n",
    "import matplotlib.pyplot as plt"
   ]
  },
  {
   "cell_type": "code",
   "execution_count": 3,
   "metadata": {},
   "outputs": [],
   "source": [
    "percentages=[80,50,25,5]\n",
    "\n",
    "losses = [0.007,0.009, 0.008,0.001]\n",
    "delta = [0.044, 0.04, 0.06, 0.1]\n",
    "cosine = [0.97, 0.96, 0.93, 0.83]\n",
    "\n",
    "metrics_random_perturb=[delta,cosine,losses]\n",
    "\n",
    "\n",
    "losses = [0.004,0.0047, 0.009,0.009]\n",
    "delta = [0.05, 0.067, 0.074, 0.13]\n",
    "cosine = [0.96, 0.93, 0.92, 0.8]\n",
    "\n",
    "metrics_perturb=[delta,cosine,losses]\n",
    "\n",
    "\n",
    "#old version of the data\n",
    "losses = [0.003,0.005, 0.003,0.007]\n",
    "delta = [0.078, 0.091, 0.13, 0.17]\n",
    "cosine = [0.91, 0.880, 0.77, 0.68]\n",
    "\n",
    "metrics_same_initialization=[delta,cosine,losses]\n",
    "\n",
    "\n",
    "losses=[0.004,0.003,0.003,0.014]\n",
    "delta=[0.21,0.22,0.23,0.3]\n",
    "cosine=[0.002,0.014,0.008,0.009]\n",
    "\n",
    "metrics_no_perturb=[delta,cosine,losses]\n",
    "\n",
    "\n",
    "ind = np.arange(len(percentages)) \n"
   ]
  },
  {
   "cell_type": "code",
   "execution_count": 41,
   "metadata": {},
   "outputs": [
    {
     "data": {
      "image/png": "[encoded data removed]",
      "text/plain": [
       "<Figure size 360x504 with 2 Axes>"
      ]
     },
     "metadata": {
      "needs_background": "light"
     },
     "output_type": "display_data"
    }
   ],
   "source": [
    "\n",
    "  \n",
    "# Initialise the subplot function using number of rows and columns\n",
    "figure, axis = plt.subplots(2, 1, sharex=True, figsize=(5,7))\n",
    "plt.xticks(ind,[str(p)+'%' for p in percentages])\n",
    "\n",
    "#figure.suptitle('$|\\Delta w|/w_{old}$,  $\\cos(w_{new},w_{old})$  \\n for some percentages of cells substituted')\n",
    "  \n",
    "\n",
    "axis_labels = ['$|\\Delta w|$','$\\cos(w_{new},w_{old})$','Loss']\n",
    "width=0.2\n",
    "cmap=plt.get_cmap('plasma')\n",
    "colors=cmap(np.linspace(.93,0.,4))\n",
    "for i in range(len(metrics_perturb)-1):\n",
    "    axis[i].bar(ind-width*3/2,metrics_random_perturb[i],width=width,label='Random initialization, with perturbation',color=colors[0])\n",
    "    axis[i].bar(ind-width/2,metrics_perturb[i],width=width,label='Same initialization, with perturbation',color=colors[1])\n",
    "    axis[i].bar(ind+width/2,metrics_same_initialization[i],width=width,label='Same initialization, no perturbation',color=colors[2])\n",
    "    axis[i].bar(ind+width*3/2,metrics_no_perturb[i],width=width,label='Random initialization, no perturbation',color=colors[3])\n",
    "    axis[i].set_ylabel(axis_labels[i])\n",
    "    axis[i].yaxis.get_label().set_fontsize(15)\n",
    "\n",
    "axis[0].legend(loc='upper left', bbox_to_anchor=(0, 1.2), shadow=True)\n",
    "\n",
    "#for ax,title  in zip(axis,axis_titles): ax.ylabel(title)\n",
    "\n",
    "dt = 0.01\n",
    "t = np.arange(dt, 20.0, dt)\n",
    "\n",
    "#axis[0].semilogy([1e-3],[1e-3])\n",
    "  \n",
    "# Combine all the operations and display\n",
    "plt.savefig('loss_delta_cosine.svg',bbox_inches='tight', format='svg')\n",
    "plt.savefig('loss_delta_cosine.png',bbox_inches='tight')\n",
    "\n",
    "plt.show()\n"
   ]
  },
  {
   "cell_type": "code",
   "execution_count": null,
   "metadata": {},
   "outputs": [],
   "source": []
  },
  {
   "cell_type": "code",
   "execution_count": null,
   "metadata": {},
   "outputs": [],
   "source": []
  }
 ],
 "metadata": {
  "interpreter": {
   "hash": "40d3a090f54c6569ab1632332b64b2c03c39dcf918b08424e98f38b5ae0af88f"
  },
  "kernelspec": {
   "display_name": "Python 3.9.7 64-bit ('base': conda)",
   "language": "python",
   "name": "python3"
  },
  "language_info": {
   "codemirror_mode": {
    "name": "ipython",
    "version": 3
   },
   "file_extension": ".py",
   "mimetype": "text/x-python",
   "name": "python",
   "nbconvert_exporter": "python",
   "pygments_lexer": "ipython3",
   "version": "3.9.7"
  },
  "orig_nbformat": 4
 },
 "nbformat": 4,
 "nbformat_minor": 2
}
