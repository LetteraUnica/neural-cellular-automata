{
 "cells": [
  {
   "cell_type": "markdown",
   "id": "e181b276",
   "metadata": {},
   "source": [
    "# Neural CA\n",
    "\n",
    "In this notebook you can train a CA that converges to a given image, like in the Growing Neural Cellular Automata paper"
   ]
  },
  {
   "cell_type": "code",
   "execution_count": 1,
   "id": "59b64774",
   "metadata": {},
   "outputs": [],
   "source": [
    "import torch\n",
    "from torchvision.io import read_image, ImageReadMode\n",
    "import torchvision.transforms as T\n",
    "\n",
    "import pylab as pl\n",
    "\n",
    "from src import *"
   ]
  },
  {
   "cell_type": "code",
   "execution_count": 2,
   "id": "3a46b5d6",
   "metadata": {},
   "outputs": [],
   "source": [
    "config = {\n",
    "    'starting_file':'butterfly_persist.pt',\n",
    "    'image':'butterfly.png',\n",
    "\n",
    "    'target_size':40,\n",
    "    'target_padding':8,\n",
    "    'n_channels':16,\n",
    "\n",
    "    'pool_size': 512,\n",
    "\n",
    "    'start_appling_loss':64,\n",
    "    'end_appling_loss':np.inf,\n",
    "    'perturbation_file':'Pretrained_models/lizard/lizard_persist.pt',\n",
    "    'perturbation_multiplier':1e-3,\n",
    "\n",
    "    'lr':2e-3,\n",
    "    'batch_size':10,\n",
    "    'n_epochs':60,\n",
    "    'n_max_loss_ratio':8,\n",
    "    'evolution_iters':96,\n",
    "    'kind':'persistent',\n",
    "    'skip_update':1,\n",
    "    'skip_damage':1,\n",
    "    'reset_prob':0.,\n",
    "\n",
    "    'step_size':20,\n",
    "    'gamma':0.3,\n",
    "\n",
    "    'trained_model_name': 'bug_regenerating'\n",
    "    }\n",
    "\n",
    "config[\"n_max_losses\"] = max(1, config[\"batch_size\"] // config[\"n_max_loss_ratio\"])\n",
    "config[\"image_size\"] = config[\"target_size\"] + config[\"target_padding\"]\n",
    "\n",
    "torch.backends.cudnn.benchmark = True  # Speeds up training"
   ]
  },
  {
   "cell_type": "code",
   "execution_count": 3,
   "id": "c5bf9456",
   "metadata": {},
   "outputs": [
    {
     "data": {
      "image/png": "[encoded data removed]",
      "text/plain": [
       "<Figure size 432x288 with 1 Axes>"
      ]
     },
     "metadata": {
      "needs_background": "light"
     },
     "output_type": "display_data"
    },
    {
     "data": {
      "text/plain": [
       "<matplotlib.image.AxesImage at 0x7f3d7ffdf250>"
      ]
     },
     "execution_count": 3,
     "metadata": {},
     "output_type": "execute_result"
    }
   ],
   "source": [
    "# Starting state\n",
    "def generator(n, device):\n",
    "    return make_seed(n, config[\"n_channels\"]-1, config[\"image_size\"], alpha_channel=3, device=device)\n",
    "\n",
    "pool = SamplePool(config[\"pool_size\"], generator)\n",
    "imshow(pool[0])"
   ]
  },
  {
   "cell_type": "code",
   "execution_count": 8,
   "id": "de0f3861",
   "metadata": {
    "tags": []
   },
   "outputs": [
    {
     "data": {
      "image/png": "[encoded data removed]",
      "text/plain": [
       "<Figure size 432x288 with 1 Axes>"
      ]
     },
     "metadata": {
      "needs_background": "light"
     },
     "output_type": "display_data"
    },
    {
     "data": {
      "text/plain": [
       "<matplotlib.image.AxesImage at 0x7f3d7f264a30>"
      ]
     },
     "execution_count": 8,
     "metadata": {},
     "output_type": "execute_result"
    }
   ],
   "source": [
    "# Imports the target emoji\n",
    "target = read_image(\"images/\" + config[\"image\"], ImageReadMode.RGB_ALPHA).float()\n",
    "target = RGBAtoFloat(target)\n",
    "target = T.ToPILImage()(target)\n",
    "target = T.Resize((config[\"target_size\"], config[\"target_size\"]))(target)\n",
    "target = T.ToTensor()(target)\n",
    "\n",
    "imshow(target)"
   ]
  },
  {
   "cell_type": "code",
   "execution_count": 9,
   "id": "1707aa3b",
   "metadata": {},
   "outputs": [],
   "source": [
    "# Define the model\n",
    "device = torch.device(\"cuda\" if torch.cuda.is_available() else \"cpu\")\n",
    "\n",
    "model = NeuralCA(config[\"n_channels\"], device)"
   ]
  },
  {
   "cell_type": "code",
   "execution_count": 10,
   "id": "3a31457c",
   "metadata": {},
   "outputs": [
    {
     "name": "stdout",
     "output_type": "stream",
     "text": [
      "Successfully loaded model!\n"
     ]
    }
   ],
   "source": [
    "# Load a pretrained model\n",
    "model.load(config[\"starting_file\"])"
   ]
  },
  {
   "cell_type": "code",
   "execution_count": 11,
   "id": "4c571bca",
   "metadata": {},
   "outputs": [
    {
     "name": "stdout",
     "output_type": "stream",
     "text": [
      "Successfully loaded model!\n"
     ]
    }
   ],
   "source": [
    "growing = NeuralCA(config[\"n_channels\"], device)\n",
    "growing.load(config[\"perturbation_file\"])\n",
    "\n",
    "for param in growing.parameters():\n",
    "    param.requires_grad = False"
   ]
  },
  {
   "cell_type": "code",
   "execution_count": 12,
   "id": "1bca311e",
   "metadata": {},
   "outputs": [],
   "source": [
    "L_target = NCALoss(pad(target, config[\"target_padding\"]).to(device), alpha_channels=[3])\n",
    "\n",
    "criterion = CombinedLoss([L_target], [ConstantWeight(config[\"start_appling_loss\"], config[\"end_appling_loss\"])])\n",
    "\n",
    "model.end_step_loss = NCADistance(model, growing, config[\"perturbation_multiplier\"]*1e-4)"
   ]
  },
  {
   "cell_type": "markdown",
   "id": "18798414",
   "metadata": {},
   "source": [
    "## Train the model"
   ]
  },
  {
   "cell_type": "code",
   "execution_count": 13,
   "id": "af60f4e0",
   "metadata": {},
   "outputs": [
    {
     "data": {
      "text/plain": []
     },
     "execution_count": 13,
     "metadata": {},
     "output_type": "execute_result"
    }
   ],
   "source": [
    "wandb.init(mode=\"disabled\")"
   ]
  },
  {
   "cell_type": "code",
   "execution_count": 14,
   "id": "f38ce0e6",
   "metadata": {},
   "outputs": [
    {
     "name": "stdout",
     "output_type": "stream",
     "text": [
      "epoch: 60\n",
      "avg loss: 0.0013108889494712155\n"
     ]
    }
   ],
   "source": [
    "params = model.parameters()\n",
    "\n",
    "optimizer = torch.optim.Adam(params, lr=config[\"lr\"])\n",
    "scheduler = torch.optim.lr_scheduler.StepLR(optimizer, config[\"step_size\"], config[\"gamma\"])\n",
    "\n",
    "model.train_CA(optimizer, criterion, pool, scheduler=scheduler, **config)"
   ]
  },
  {
   "cell_type": "code",
   "execution_count": 15,
   "id": "bc4e479d",
   "metadata": {},
   "outputs": [
    {
     "data": {
      "image/png": "[encoded data removed]",
      "text/plain": [
       "<Figure size 432x288 with 1 Axes>"
      ]
     },
     "metadata": {
      "needs_background": "light"
     },
     "output_type": "display_data"
    }
   ],
   "source": [
    "# Plot the losses\n",
    "pl.plot(model.losses)\n",
    "pl.yscale(\"log\")"
   ]
  },
  {
   "cell_type": "code",
   "execution_count": 19,
   "id": "5dc5d0d7",
   "metadata": {},
   "outputs": [
    {
     "name": "stdout",
     "output_type": "stream",
     "text": [
      "Successfully saved model!\n"
     ]
    }
   ],
   "source": [
    "# Save a model\n",
    "model.save(config[\"trained_model_name\"] + \".pt\")"
   ]
  },
  {
   "cell_type": "code",
   "execution_count": 17,
   "id": "56e89915",
   "metadata": {},
   "outputs": [
    {
     "name": "stderr",
     "output_type": "stream",
     "text": [
      "Clipping input data to the valid range for imshow with RGB data ([0..1] for floats or [0..255] for integers).\n"
     ]
    },
    {
     "data": {
      "image/png": "[encoded data removed]",
      "text/plain": [
       "<Figure size 432x288 with 1 Axes>"
      ]
     },
     "metadata": {
      "needs_background": "light"
     },
     "output_type": "display_data"
    },
    {
     "data": {
      "text/plain": [
       "<matplotlib.image.AxesImage at 0x7f3d7cb4dd90>"
      ]
     },
     "execution_count": 17,
     "metadata": {},
     "output_type": "execute_result"
    }
   ],
   "source": [
    "# A pool sample\n",
    "image, idx = pool.sample(1)\n",
    "imshow(image[0])"
   ]
  },
  {
   "cell_type": "code",
   "execution_count": 18,
   "id": "81328aeb",
   "metadata": {},
   "outputs": [
    {
     "name": "stderr",
     "output_type": "stream",
     "text": [
      "Clipping input data to the valid range for imshow with RGB data ([0..1] for floats or [0..255] for integers).\n"
     ]
    },
    {
     "data": {
      "image/png": "[encoded data removed]",
      "text/plain": [
       "<Figure size 432x288 with 1 Axes>"
      ]
     },
     "metadata": {
      "needs_background": "light"
     },
     "output_type": "display_data"
    },
    {
     "data": {
      "text/plain": [
       "<matplotlib.image.AxesImage at 0x7f3d7cb30520>"
      ]
     },
     "execution_count": 18,
     "metadata": {},
     "output_type": "execute_result"
    }
   ],
   "source": [
    "# Evolve the sample\n",
    "x = model.evolve(image.cuda(), 500)\n",
    "imshow(x[0])"
   ]
  }
 ],
 "metadata": {
  "interpreter": {
   "hash": "826ac774da20863171be87f505c983a23ca5099031a67b4f2c0e4fe6baa8958e"
  },
  "kernelspec": {
   "display_name": "Python 3.8.11 64-bit ('base': conda)",
   "name": "python3"
  },
  "language_info": {
   "codemirror_mode": {
    "name": "ipython",
    "version": 3
   },
   "file_extension": ".py",
   "mimetype": "text/x-python",
   "name": "python",
   "nbconvert_exporter": "python",
   "pygments_lexer": "ipython3",
   "version": "3.9.7"
  }
 },
 "nbformat": 4,
 "nbformat_minor": 5
}
