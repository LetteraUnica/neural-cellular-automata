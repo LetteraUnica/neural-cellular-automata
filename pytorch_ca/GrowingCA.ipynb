{
 "cells": [
  {
   "cell_type": "code",
   "execution_count": 1,
   "id": "16ac16af-7553-4000-8f56-8cc05ce8a971",
   "metadata": {},
   "outputs": [],
   "source": [
    "import torch\n",
    "from torch import nn\n",
    "import torch.nn.functional as F\n",
    "from torchvision.io import read_image, ImageReadMode, write_video\n",
    "import torchvision.transforms as T\n",
    "\n",
    "import numpy as np\n",
    "import pylab as pl"
   ]
  },
  {
   "cell_type": "code",
   "execution_count": 2,
   "id": "d06172e8-0640-4a2b-b07b-98223465e707",
   "metadata": {},
   "outputs": [],
   "source": [
    "N_CHANNELS = 16        # Number of CA state channels\n",
    "TARGET_PADDING = 16    # Number of pixels used to pad the target image border\n",
    "TARGET_SIZE = 40       # Size of the target emoji\n",
    "BATCH_SIZE = 8\n",
    "N_ITERS = 60           # Iterations before applying the loss\n",
    "POOL_SIZE = 1024\n",
    "CELL_FIRE_RATE = 0.5"
   ]
  },
  {
   "cell_type": "code",
   "execution_count": 3,
   "id": "a3a6eba9-f090-41b3-8639-1904a9fcb207",
   "metadata": {},
   "outputs": [
    {
     "ename": "NameError",
     "evalue": "name 'device' is not defined",
     "output_type": "error",
     "traceback": [
      "\u001b[0;31m---------------------------------------------------------------------------\u001b[0m",
      "\u001b[0;31mNameError\u001b[0m                                 Traceback (most recent call last)",
      "\u001b[0;32m<ipython-input-3-dc8e433bef90>\u001b[0m in \u001b[0;36m<module>\u001b[0;34m\u001b[0m\n\u001b[1;32m     78\u001b[0m         \u001b[0;32mreturn\u001b[0m \u001b[0mx\u001b[0m\u001b[0;34m\u001b[0m\u001b[0;34m\u001b[0m\u001b[0m\n\u001b[1;32m     79\u001b[0m \u001b[0;34m\u001b[0m\u001b[0m\n\u001b[0;32m---> 80\u001b[0;31m \u001b[0mmodel\u001b[0m \u001b[0;34m=\u001b[0m \u001b[0mCAModel\u001b[0m\u001b[0;34m(\u001b[0m\u001b[0;34m)\u001b[0m\u001b[0;34m.\u001b[0m\u001b[0mto\u001b[0m\u001b[0;34m(\u001b[0m\u001b[0mdevice\u001b[0m\u001b[0;34m)\u001b[0m\u001b[0;34m\u001b[0m\u001b[0;34m\u001b[0m\u001b[0m\n\u001b[0m\u001b[1;32m     81\u001b[0m \u001b[0mmodel\u001b[0m\u001b[0;34m.\u001b[0m\u001b[0mload_state_dict\u001b[0m\u001b[0;34m(\u001b[0m\u001b[0mtorch\u001b[0m\u001b[0;34m.\u001b[0m\u001b[0mload\u001b[0m\u001b[0;34m(\u001b[0m\u001b[0;34m\"not_persistent.pt\"\u001b[0m\u001b[0;34m)\u001b[0m\u001b[0;34m)\u001b[0m\u001b[0;34m\u001b[0m\u001b[0;34m\u001b[0m\u001b[0m\n\u001b[1;32m     82\u001b[0m \u001b[0mmodel\u001b[0m\u001b[0;34m.\u001b[0m\u001b[0mMakeVideo\u001b[0m\u001b[0;34m(\u001b[0m\u001b[0;34m)\u001b[0m\u001b[0;34m\u001b[0m\u001b[0;34m\u001b[0m\u001b[0m\n",
      "\u001b[0;31mNameError\u001b[0m: name 'device' is not defined"
     ]
    }
   ],
   "source": [
    "class CAModel(nn.Module):\n",
    "    \"\"\"Neural cellular automata model\"\"\"\n",
    "    def __init__(self, n_channels=16, device=None, fire_rate=0.5):\n",
    "        super().__init__()\n",
    "        \n",
    "        if device is None:\n",
    "            self.device = torch.device(\"cuda\" if torch.cuda.is_available() else \"cpu\")\n",
    "        self.n_channels = n_channels\n",
    "        self.fire_rate = fire_rate\n",
    "        \n",
    "        self.layers = nn.Sequential(nn.Conv2d(n_channels*3, 128, 1),\n",
    "                                    nn.ReLU(),\n",
    "                                    nn.Conv2d(128, n_channels, 1))\n",
    "        \n",
    "    \n",
    "    def wrap_edges(self, x):\n",
    "        return F.pad(x, (1,1,1,1), 'circular', 0)\n",
    "\n",
    "    \n",
    "    def get_living_mask(self, x):\n",
    "        alpha = x[:, 3:4, :, :]\n",
    "        return F.max_pool2d(self.wrap_edges(alpha), 3, stride=1) > 0.1\n",
    "\n",
    "\n",
    "    def perceive(self, x, angle=0.):\n",
    "        identity = torch.tensor([[0.,0.,0.],\n",
    "                                 [0.,1.,0.],\n",
    "                                 [0.,0.,0.]])\n",
    "        dx = torch.tensor([[-0.125,0.,0.125],\n",
    "                           [-0.25 ,0.,0.25 ],\n",
    "                           [-0.125,0.,0.125]])\n",
    "        dy = dx.T\n",
    "        \n",
    "        angle = torch.tensor(angle)\n",
    "        c, s = torch.cos(angle), torch.sin(angle)\n",
    "        dx, dy = c*dx - s*dy, s*dx + c*dy\n",
    "        \n",
    "        \n",
    "        all_filters = torch.stack((identity, dx, dy))\n",
    "        all_filters_batch = all_filters.repeat(self.n_channels,1,1).unsqueeze(1)\n",
    "        all_filters_batch = all_filters_batch.to(self.device)\n",
    "        return F.conv2d(self.wrap_edges(x), all_filters_batch, groups=self.n_channels)\n",
    "    \n",
    "\n",
    "    def forward(self, x, angle=0., step_size=1.):\n",
    "        pre_life_mask = self.get_living_mask(x)\n",
    "        \n",
    "        dx = self.layers(self.perceive(x, angle)) * step_size\n",
    "        update_mask = torch.rand(x[:,:1,:,:].size(), device=self.device) < self.fire_rate\n",
    "        x += dx*update_mask.float()\n",
    "        \n",
    "        post_life_mask = self.get_living_mask(x)\n",
    "        life_mask = pre_life_mask & post_life_mask\n",
    "\n",
    "        return x * life_mask.float()\n",
    "    \n",
    "    \n",
    "    def MakeVideo(self, fname=\"video.mkv\", init_state=None, n_iters=N_ITERS):\n",
    "        image_size = TARGET_SIZE + TARGET_PADDING\n",
    "        if init_state is None:\n",
    "            init_state = MakeSeed(1)\n",
    "            \n",
    "        init_state = init_state.to(self.device)\n",
    "        \n",
    "        video = torch.empty((n_iters, image_size, image_size, 3), device=\"cpu\")\n",
    "        with torch.no_grad():\n",
    "            for i in range(n_iters):\n",
    "                video[i] = FloattoRGB(init_state[:, :4, :, :].cpu())[0].permute(1,2,0)\n",
    "                init_state = self.forward(init_state)\n",
    "        \n",
    "        write_video(fname, video, 10)\n",
    "        \n",
    "    \n",
    "    def evolve(self, x, iters, angle=0., step_size=1.):\n",
    "        for i in range(iters):\n",
    "            x = self.forward(x, angle=angle, step_size=step_size)\n",
    "        \n",
    "        return x\n",
    "\n",
    "model = CAModel().to(device)\n",
    "model.load_state_dict(torch.load(\"not_persistent.pt\"))\n",
    "model.MakeVideo()"
   ]
  },
  {
   "cell_type": "code",
   "execution_count": 4,
   "id": "c9f6587e-04cb-4c51-8f55-976f82203a4a",
   "metadata": {},
   "outputs": [],
   "source": [
    "def RGBAtoFloat(images):\n",
    "    \"\"\"Converts images in 0-1 range\"\"\"\n",
    "    return images.float() / 255\n",
    "\n",
    "def FloattoRGBA(images):\n",
    "    \"\"\"Converts images in 0-255 range\"\"\"\n",
    "    return (images * 255).type(torch.int8)\n",
    "\n",
    "def FloattoRGB(images):\n",
    "    return (images[:,:3,:,:] * images[:,3,:,:] + (1 - images[:,3,:,:]) * 255).type(torch.int8)\n",
    "\n",
    "def CenterCrop(images):\n",
    "    \"\"\"Center crops an image\"\"\"\n",
    "    return T.CenterCrop(TARGET_SIZE)(images)\n",
    "\n",
    "def imshow(image, center_crop=False):\n",
    "    \"\"\"Prints an image\"\"\"\n",
    "    if center_crop:\n",
    "        image = CenterCrop(image)\n",
    "    pl.imshow(np.asarray(image.cpu().permute(1,2,0)[:,:,:4]))\n",
    "    \n",
    "def MakeSeed(n_images):\n",
    "    \"\"\"Makes the seed to start the CA, i.e. a black dot\"\"\"\n",
    "    image_size = TARGET_SIZE + TARGET_PADDING\n",
    "    start_point = torch.zeros((n_images, N_CHANNELS, image_size, image_size))\n",
    "    start_point[:, 3, image_size//2, image_size//2] = 1.\n",
    "    return start_point\n",
    "    \n",
    "\n",
    "target = read_image(\"firework.png\", ImageReadMode.RGB_ALPHA)"
   ]
  },
  {
   "cell_type": "code",
   "execution_count": 5,
   "id": "19bacb2b-6ce0-405f-852f-96e5e48bc807",
   "metadata": {},
   "outputs": [
    {
     "data": {
      "image/png": "[encoded data removed]",
      "text/plain": [
       "<Figure size 432x288 with 1 Axes>"
      ]
     },
     "metadata": {
      "needs_background": "light"
     },
     "output_type": "display_data"
    }
   ],
   "source": [
    "class SamplePool:\n",
    "    \"\"\"Samples the training images\"\"\"\n",
    "    def __init__(self):\n",
    "        self.images = MakeSeed(POOL_SIZE)\n",
    "        self.size = POOL_SIZE\n",
    "        \n",
    "    def sample(self, batch_size):\n",
    "        idx = np.random.choice(self.size, batch_size, False)\n",
    "        return self.images[idx], idx\n",
    "    \n",
    "    def update(self, new_images, idx):\n",
    "        self.images[idx] = new_images\n",
    "\n",
    "\n",
    "pool = SamplePool()\n",
    "imshow(pool.sample(1)[0][0])"
   ]
  },
  {
   "cell_type": "code",
   "execution_count": 6,
   "id": "aab8cdf0-051a-4d61-ba8f-b80b65b77e4f",
   "metadata": {
    "tags": []
   },
   "outputs": [
    {
     "name": "stderr",
     "output_type": "stream",
     "text": [
      "Clipping input data to the valid range for imshow with RGB data ([0..1] for floats or [0..255] for integers).\n"
     ]
    },
    {
     "data": {
      "image/png": "[encoded data removed]",
      "text/plain": [
       "<Figure size 432x288 with 1 Axes>"
      ]
     },
     "metadata": {
      "needs_background": "light"
     },
     "output_type": "display_data"
    }
   ],
   "source": [
    "# Imports the target emoji\n",
    "target = read_image(\"firework.png\", ImageReadMode.RGB_ALPHA).float()\n",
    "target = T.Resize((TARGET_SIZE, TARGET_SIZE))(target)\n",
    "target = RGBAtoFloat(target)\n",
    "\n",
    "imshow(target)"
   ]
  },
  {
   "cell_type": "code",
   "execution_count": 7,
   "id": "e20b7bb5-b2d6-4125-8d49-2805c8650e99",
   "metadata": {},
   "outputs": [
    {
     "data": {
      "text/plain": [
       "tensor(0.5652)"
      ]
     },
     "execution_count": 7,
     "metadata": {},
     "output_type": "execute_result"
    }
   ],
   "source": [
    "class loss_fn:\n",
    "    \"\"\"Custom l2 or l1 loss function\"\"\"\n",
    "    def __init__(self, order=2):\n",
    "        self.order = order\n",
    "        \n",
    "    def __call__(self, x):\n",
    "        return torch.mean(torch.abs(CenterCrop(x)[:, :4, :, :] - target)**self.order)\n",
    "\n",
    "target = target.cpu()\n",
    "loss_fn(1)(pool.sample(16)[0])"
   ]
  },
  {
   "cell_type": "code",
   "execution_count": 8,
   "id": "41fe8b82-34f1-4f3c-8322-6ac1ccf7b5ae",
   "metadata": {},
   "outputs": [],
   "source": [
    "# Send data to device\n",
    "device = torch.device(\"cuda\" if torch.cuda.is_available() else \"cpu\")\n",
    "\n",
    "target = target.to(device)\n",
    "model = CAModel().to(device)\n",
    "pool = SamplePool()"
   ]
  },
  {
   "cell_type": "code",
   "execution_count": 9,
   "id": "3f90230a-b088-41d0-ab2f-cab625e4f444",
   "metadata": {},
   "outputs": [
    {
     "data": {
      "text/plain": [
       "<All keys matched successfully>"
      ]
     },
     "execution_count": 9,
     "metadata": {},
     "output_type": "execute_result"
    }
   ],
   "source": [
    "#torch.save(model.state_dict(), \"not_persistent.pt\")\n",
    "model.load_state_dict(torch.load(\"not_persistent.pt\"))"
   ]
  },
  {
   "cell_type": "code",
   "execution_count": 23,
   "id": "e36fd8c2-ad6f-435c-b6dd-6b86249ddcbe",
   "metadata": {},
   "outputs": [
    {
     "ename": "RuntimeError",
     "evalue": "The expanded size of the tensor (4) must match the existing size (56) at non-singleton dimension 2.  Target sizes: [56, 56, 4].  Tensor sizes: [56, 4, 56]",
     "output_type": "error",
     "traceback": [
      "\u001b[0;31m---------------------------------------------------------------------------\u001b[0m",
      "\u001b[0;31mRuntimeError\u001b[0m                              Traceback (most recent call last)",
      "\u001b[0;32m<ipython-input-23-2cb9e9a81f68>\u001b[0m in \u001b[0;36m<module>\u001b[0;34m\u001b[0m\n\u001b[0;32m----> 1\u001b[0;31m \u001b[0mmodel\u001b[0m\u001b[0;34m.\u001b[0m\u001b[0mMakeVideo\u001b[0m\u001b[0;34m(\u001b[0m\u001b[0;34m)\u001b[0m\u001b[0;34m\u001b[0m\u001b[0;34m\u001b[0m\u001b[0m\n\u001b[0m",
      "\u001b[0;32m<ipython-input-16-44360a14adcf>\u001b[0m in \u001b[0;36mMakeVideo\u001b[0;34m(self, fname, init_state, n_iters)\u001b[0m\n\u001b[1;32m     66\u001b[0m         \u001b[0;32mwith\u001b[0m \u001b[0mtorch\u001b[0m\u001b[0;34m.\u001b[0m\u001b[0mno_grad\u001b[0m\u001b[0;34m(\u001b[0m\u001b[0;34m)\u001b[0m\u001b[0;34m:\u001b[0m\u001b[0;34m\u001b[0m\u001b[0;34m\u001b[0m\u001b[0m\n\u001b[1;32m     67\u001b[0m             \u001b[0;32mfor\u001b[0m \u001b[0mi\u001b[0m \u001b[0;32min\u001b[0m \u001b[0mrange\u001b[0m\u001b[0;34m(\u001b[0m\u001b[0mn_iters\u001b[0m\u001b[0;34m)\u001b[0m\u001b[0;34m:\u001b[0m\u001b[0;34m\u001b[0m\u001b[0;34m\u001b[0m\u001b[0m\n\u001b[0;32m---> 68\u001b[0;31m                 \u001b[0mvideo\u001b[0m\u001b[0;34m[\u001b[0m\u001b[0mi\u001b[0m\u001b[0;34m]\u001b[0m \u001b[0;34m=\u001b[0m \u001b[0mFloattoRGBA\u001b[0m\u001b[0;34m(\u001b[0m\u001b[0minit_state\u001b[0m\u001b[0;34m[\u001b[0m\u001b[0;36m0\u001b[0m\u001b[0;34m,\u001b[0m \u001b[0;34m:\u001b[0m\u001b[0;36m4\u001b[0m\u001b[0;34m,\u001b[0m \u001b[0;34m:\u001b[0m\u001b[0;34m,\u001b[0m \u001b[0;34m:\u001b[0m\u001b[0;34m]\u001b[0m\u001b[0;34m.\u001b[0m\u001b[0mpermute\u001b[0m\u001b[0;34m(\u001b[0m\u001b[0;36m2\u001b[0m\u001b[0;34m,\u001b[0m\u001b[0;36m0\u001b[0m\u001b[0;34m,\u001b[0m\u001b[0;36m1\u001b[0m\u001b[0;34m)\u001b[0m\u001b[0;34m.\u001b[0m\u001b[0mcpu\u001b[0m\u001b[0;34m(\u001b[0m\u001b[0;34m)\u001b[0m\u001b[0;34m)\u001b[0m\u001b[0;34m\u001b[0m\u001b[0;34m\u001b[0m\u001b[0m\n\u001b[0m\u001b[1;32m     69\u001b[0m                 \u001b[0minit_state\u001b[0m \u001b[0;34m=\u001b[0m \u001b[0mself\u001b[0m\u001b[0;34m.\u001b[0m\u001b[0mforward\u001b[0m\u001b[0;34m(\u001b[0m\u001b[0minit_state\u001b[0m\u001b[0;34m)\u001b[0m\u001b[0;34m\u001b[0m\u001b[0;34m\u001b[0m\u001b[0m\n\u001b[1;32m     70\u001b[0m \u001b[0;34m\u001b[0m\u001b[0m\n",
      "\u001b[0;31mRuntimeError\u001b[0m: The expanded size of the tensor (4) must match the existing size (56) at non-singleton dimension 2.  Target sizes: [56, 56, 4].  Tensor sizes: [56, 4, 56]"
     ]
    }
   ],
   "source": [
    "model.MakeVideo()"
   ]
  },
  {
   "cell_type": "code",
   "execution_count": 23,
   "id": "52965608-1f9a-4028-adad-e3e6cf8679ca",
   "metadata": {},
   "outputs": [],
   "source": [
    "# Train the model\n",
    "optimizer = torch.optim.SGD(model.parameters(), lr=1e-2, momentum=0.9)\n",
    "\n",
    "model.train()\n",
    "scheduler = torch.optim.lr_scheduler.ExponentialLR(optimizer, 0.99)\n",
    "losses = []\n",
    "for i in range(2000):\n",
    "    inputs, indexes = pool.sample(BATCH_SIZE)\n",
    "    inputs = inputs.to(device)\n",
    "    optimizer.zero_grad()\n",
    "    \n",
    "    for j in range(N_ITERS):\n",
    "        inputs = model(inputs)\n",
    "    \n",
    "    loss = loss_fn(inputs)\n",
    "    loss.backward()\n",
    "    optimizer.step()\n",
    "    scheduler.step()\n",
    "    losses.append(loss.item())"
   ]
  },
  {
   "cell_type": "code",
   "execution_count": 24,
   "id": "5cb38c0f-0573-4528-83c8-d3898034315c",
   "metadata": {},
   "outputs": [
    {
     "data": {
      "text/plain": [
       "[<matplotlib.lines.Line2D at 0x7fe531361070>]"
      ]
     },
     "execution_count": 24,
     "metadata": {},
     "output_type": "execute_result"
    },
    {
     "data": {
      "image/png": "[encoded data removed]",
      "text/plain": [
       "<Figure size 432x288 with 1 Axes>"
      ]
     },
     "metadata": {
      "needs_background": "light"
     },
     "output_type": "display_data"
    }
   ],
   "source": [
    "pl.plot(losses)"
   ]
  },
  {
   "cell_type": "code",
   "execution_count": 10,
   "id": "315a832e-e976-4cb3-9dca-ea72162802a3",
   "metadata": {},
   "outputs": [
    {
     "name": "stderr",
     "output_type": "stream",
     "text": [
      "/home/lettera/anaconda3/lib/python3.8/site-packages/torch/nn/functional.py:718: UserWarning: Named tensors and all their associated APIs are an experimental feature and subject to change. Please do not use them for anything important until they are released as stable. (Triggered internally at  ../c10/core/TensorImpl.h:1301.)\n",
      "  return torch.max_pool2d(input, kernel_size, stride, padding, dilation, ceil_mode)\n",
      "Clipping input data to the valid range for imshow with RGB data ([0..1] for floats or [0..255] for integers).\n"
     ]
    },
    {
     "data": {
      "image/png": "[encoded data removed]",
      "text/plain": [
       "<Figure size 432x288 with 1 Axes>"
      ]
     },
     "metadata": {
      "needs_background": "light"
     },
     "output_type": "display_data"
    }
   ],
   "source": [
    "model.eval()\n",
    "\n",
    "with torch.no_grad():\n",
    "    x, _ = pool.sample(1)\n",
    "    x = x.to(device)\n",
    "    \n",
    "    for j in range(N_ITERS*2):\n",
    "        x = model(x)\n",
    "\n",
    "        \n",
    "imshow(x[0], center_crop=True)"
   ]
  },
  {
   "cell_type": "code",
   "execution_count": 13,
   "id": "e516136a-4532-4e03-952e-fcf340eba649",
   "metadata": {},
   "outputs": [
    {
     "name": "stderr",
     "output_type": "stream",
     "text": [
      "Clipping input data to the valid range for imshow with RGB data ([0..1] for floats or [0..255] for integers).\n"
     ]
    },
    {
     "data": {
      "image/png": "[encoded data removed]",
      "text/plain": [
       "<Figure size 432x288 with 1 Axes>"
      ]
     },
     "metadata": {
      "needs_background": "light"
     },
     "output_type": "display_data"
    }
   ],
   "source": [
    "imshow(target)"
   ]
  }
 ],
 "metadata": {
  "kernelspec": {
   "display_name": "Python 3.8.10 64-bit ('anaconda3': virtualenv)",
   "language": "python",
   "name": "python3810jvsc74a57bd0826ac774da20863171be87f505c983a23ca5099031a67b4f2c0e4fe6baa8958e"
  },
  "language_info": {
   "codemirror_mode": {
    "name": "ipython",
    "version": 3
   },
   "file_extension": ".py",
   "mimetype": "text/x-python",
   "name": "python",
   "nbconvert_exporter": "python",
   "pygments_lexer": "ipython3",
   "version": "3.8.10"
  }
 },
 "nbformat": 4,
 "nbformat_minor": 5
}
