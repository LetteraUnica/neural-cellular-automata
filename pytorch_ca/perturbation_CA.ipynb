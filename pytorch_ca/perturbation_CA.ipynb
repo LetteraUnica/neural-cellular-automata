{
 "cells": [
  {
   "cell_type": "code",
   "execution_count": 1,
   "id": "0203cf69",
   "metadata": {},
   "outputs": [],
   "source": [
    "import torch\n",
    "from torch import nn\n",
    "from torchvision.io import read_image, ImageReadMode\n",
    "import torchvision.transforms as T\n",
    "from random import randint\n",
    "from IPython.display import clear_output\n",
    "\n",
    "import numpy as np\n",
    "import pylab as pl\n",
    "\n",
    "from src import *"
   ]
  },
  {
   "cell_type": "code",
   "execution_count": 2,
   "id": "fcad006e",
   "metadata": {},
   "outputs": [],
   "source": [
    "N_CHANNELS = 16        # Number of CA state channels\n",
    "TARGET_PADDING = 8     # Number of pixels used to pad the target image border\n",
    "TARGET_SIZE = 40       # Size of the target emoji\n",
    "IMAGE_SIZE = TARGET_PADDING+TARGET_SIZE\n",
    "BATCH_SIZE = 4\n",
    "POOL_SIZE = 512\n",
    "CELL_FIRE_RATE = 0.5\n",
    "\n",
    "torch.backends.cudnn.benchmark = True # Speeds up things"
   ]
  },
  {
   "cell_type": "code",
   "execution_count": 3,
   "id": "d33ba3b3",
   "metadata": {},
   "outputs": [
    {
     "data": {
      "image/png": "[encoded data removed]",
      "text/plain": [
       "<Figure size 432x288 with 1 Axes>"
      ]
     },
     "metadata": {
      "needs_background": "light"
     },
     "output_type": "display_data"
    },
    {
     "data": {
      "text/plain": [
       "<matplotlib.image.AxesImage at 0x7f808a638880>"
      ]
     },
     "execution_count": 3,
     "metadata": {},
     "output_type": "execute_result"
    }
   ],
   "source": [
    "# Starting state\n",
    "def generator(n, device):\n",
    "    return make_seed(n, N_CHANNELS-1, IMAGE_SIZE, alpha_channel=3, device=device)\n",
    "\n",
    "pool = SamplePool(POOL_SIZE, generator)\n",
    "imshow(pool[0])"
   ]
  },
  {
   "cell_type": "code",
   "execution_count": 4,
   "id": "24483e10",
   "metadata": {
    "tags": []
   },
   "outputs": [
    {
     "data": {
      "image/png": "[encoded data removed]",
      "text/plain": [
       "<Figure size 432x288 with 1 Axes>"
      ]
     },
     "metadata": {
      "needs_background": "light"
     },
     "output_type": "display_data"
    },
    {
     "data": {
      "text/plain": [
       "<matplotlib.image.AxesImage at 0x7f808a531f70>"
      ]
     },
     "execution_count": 4,
     "metadata": {},
     "output_type": "execute_result"
    }
   ],
   "source": [
    "# Imports the target emoji\n",
    "target = read_image(\"images/firework.png\", ImageReadMode.RGB_ALPHA).float()\n",
    "target = T.Resize((TARGET_SIZE, TARGET_SIZE))(target)\n",
    "target = RGBAtoFloat(target)\n",
    "\n",
    "imshow(target)"
   ]
  },
  {
   "cell_type": "code",
   "execution_count": 5,
   "id": "0e73f3e9",
   "metadata": {},
   "outputs": [],
   "source": [
    "# Define the model\n",
    "device = torch.device(\"cuda\" if torch.cuda.is_available() else \"cpu\")\n",
    "target = target.to(device)"
   ]
  },
  {
   "cell_type": "code",
   "execution_count": 6,
   "id": "18e203cd",
   "metadata": {},
   "outputs": [
    {
     "name": "stdout",
     "output_type": "stream",
     "text": [
      "Successfully loaded model!\n"
     ]
    }
   ],
   "source": [
    "growing = NeuralCA().to(device)\n",
    "folder = \"Pretrained_models/firework/Classical_NCAs/\"\n",
    "growing.load(folder + \"firework_growing_64_96.pt\")"
   ]
  },
  {
   "cell_type": "code",
   "execution_count": 7,
   "id": "fcf8348a",
   "metadata": {},
   "outputs": [
    {
     "name": "stdout",
     "output_type": "stream",
     "text": [
      "Successfully loaded model!\n"
     ]
    }
   ],
   "source": [
    "new_CA = NeuralCA(device=device)\n",
    "new_CA.load(folder + \"firework_growing_64_96.pt\")\n",
    "\n",
    "L_perturbation = NCADistance(growing, new_CA)\n",
    "new_CA.end_step_loss = L_perturbation\n",
    "\n",
    "L_target = NCALoss(pad(target, TARGET_PADDING), alpha_channels=[3])\n",
    "\n",
    "criterion = CombinedLoss([L_target], [ConstantWeight(64)])"
   ]
  },
  {
   "cell_type": "code",
   "execution_count": null,
   "id": "8adff32e",
   "metadata": {},
   "outputs": [],
   "source": [
    "# Train the model\n",
    "for param in growing.parameters():\n",
    "    param.requires_grad = False\n",
    "\n",
    "wandb.init(mode=\"disabled\")\n",
    "optimizer = torch.optim.Adam(new_CA.parameters(), lr=2e-3)\n",
    "scheduler = torch.optim.lr_scheduler.MultiStepLR(optimizer, milestones=[40,80], gamma=0.3)\n",
    "\n",
    "new_CA.train_CA(optimizer, criterion, pool, n_epochs=120, skip_update=1,\n",
    "               scheduler=scheduler, kind=\"persist\", skip_damage=1, batch_size=10)"
   ]
  },
  {
   "cell_type": "code",
   "execution_count": 10,
   "id": "44d4f758",
   "metadata": {},
   "outputs": [
    {
     "data": {
      "image/png": "[encoded data removed]",
      "text/plain": [
       "<Figure size 432x288 with 1 Axes>"
      ]
     },
     "metadata": {
      "needs_background": "light"
     },
     "output_type": "display_data"
    }
   ],
   "source": [
    "pl.plot(new_CA.losses)\n",
    "pl.yscale(\"log\")"
   ]
  },
  {
   "cell_type": "code",
   "execution_count": 16,
   "id": "abcf8213",
   "metadata": {},
   "outputs": [
    {
     "data": {
      "text/plain": [
       "tensor(0.9587, device='cuda:0')"
      ]
     },
     "execution_count": 16,
     "metadata": {},
     "output_type": "execute_result"
    }
   ],
   "source": [
    "ruler.cosine_similarity(growing, new_CA)"
   ]
  },
  {
   "cell_type": "code",
   "execution_count": 26,
   "id": "feab94f9",
   "metadata": {},
   "outputs": [
    {
     "name": "stderr",
     "output_type": "stream",
     "text": [
      "Clipping input data to the valid range for imshow with RGB data ([0..1] for floats or [0..255] for integers).\n"
     ]
    },
    {
     "data": {
      "image/png": "[encoded data removed]",
      "text/plain": [
       "<Figure size 432x288 with 1 Axes>"
      ]
     },
     "metadata": {
      "needs_background": "light"
     },
     "output_type": "display_data"
    },
    {
     "name": "stderr",
     "output_type": "stream",
     "text": [
      "Clipping input data to the valid range for imshow with RGB data ([0..1] for floats or [0..255] for integers).\n"
     ]
    },
    {
     "data": {
      "image/png": "[encoded data removed]",
      "text/plain": [
       "<Figure size 432x288 with 1 Axes>"
      ]
     },
     "metadata": {
      "needs_background": "light"
     },
     "output_type": "display_data"
    },
    {
     "data": {
      "text/plain": [
       "<matplotlib.image.AxesImage at 0x7f8081625280>"
      ]
     },
     "execution_count": 26,
     "metadata": {},
     "output_type": "execute_result"
    }
   ],
   "source": [
    "x = make_seed(1, 15, 48, 1, 3)\n",
    "\n",
    "x = growing.evolve(x.cuda(), 10)\n",
    "\n",
    "imshow(x[0])\n",
    "\n",
    "imshow(new_CA.evolve(x.cuda(), 200)[0].cpu())"
   ]
  }
 ],
 "metadata": {
  "interpreter": {
   "hash": "f38bca3c9600444284abf86780be38c386e032d708dbe2e8970d98e9b2d0aa36"
  },
  "kernelspec": {
   "display_name": "Python 3.8.11 64-bit ('base': conda)",
   "name": "python3"
  },
  "language_info": {
   "codemirror_mode": {
    "name": "ipython",
    "version": 3
   },
   "file_extension": ".py",
   "mimetype": "text/x-python",
   "name": "python",
   "nbconvert_exporter": "python",
   "pygments_lexer": "ipython3",
   "version": "3.9.7"
  }
 },
 "nbformat": 4,
 "nbformat_minor": 5
}
