{
 "cells": [
  {
   "cell_type": "code",
   "execution_count": 1,
   "id": "6f3b7ab3",
   "metadata": {},
   "outputs": [],
   "source": [
    "import torch\n",
    "from torchvision.io import read_image, ImageReadMode, write_video\n",
    "import torchvision.transforms as T\n",
    "from random import randint\n",
    "from IPython.display import clear_output\n",
    "import numpy as np\n",
    "import pylab as pl\n",
    "import wandb\n",
    "\n",
    "from src import *"
   ]
  },
  {
   "cell_type": "code",
   "execution_count": 2,
   "id": "d52bdf95",
   "metadata": {},
   "outputs": [],
   "source": [
    "config = {\n",
    "    'image':'adversarial_images/lizard_red.png',\n",
    "    'growing_file':'Pretrained_models/lizard/lizard_persist.pt',\n",
    "    'virus_file':'Pretrained_models/lizard/lizard_persist.pt',\n",
    "\n",
    "    'target_size':40,\n",
    "    'target_padding':8,\n",
    "    'n_channels':15,\n",
    "    'original_channel':-2,\n",
    "    'virus_channel':-1,\n",
    "\n",
    "    'pool_size': 512,\n",
    "    'generator_iters_min':64,\n",
    "    'generator_iters_max':96,\n",
    "    'virus_rate':0.8,\n",
    "\n",
    "    'start_appling_loss':64,\n",
    "    'perturbation_multiplier':1e-3,\n",
    "\n",
    "    'lr':1e-3,\n",
    "    'batch_size':5,\n",
    "    'n_epochs':40,\n",
    "    'n_max_loss_ratio':8,\n",
    "    'evolution_iters':96,\n",
    "    'kind':'persist',\n",
    "    'skip_update':1,\n",
    "    'skip_damage':1,\n",
    "    'reset_prob':0,\n",
    "\n",
    "    'step_size':20,\n",
    "    'gamma':0.3,\n",
    "\n",
    "    'trained_model_name': 'lizard_green_to_red'\n",
    "    }\n",
    "\n",
    "config[\"n_max_losses\"] = max(1, config[\"batch_size\"] // config[\"n_max_loss_ratio\"])\n",
    "config[\"image_size\"] = config[\"target_size\"] + config[\"target_padding\"]"
   ]
  },
  {
   "cell_type": "code",
   "execution_count": 3,
   "id": "f3f75db3",
   "metadata": {},
   "outputs": [],
   "source": [
    "device = torch.device(\"cuda\" if torch.cuda.is_available() else \"cpu\")"
   ]
  },
  {
   "cell_type": "code",
   "execution_count": 4,
   "id": "20b50eb7",
   "metadata": {},
   "outputs": [
    {
     "name": "stdout",
     "output_type": "stream",
     "text": [
      "Successfully loaded model!\n"
     ]
    }
   ],
   "source": [
    "# Load the growing CA part\n",
    "old_CA = NeuralCA(device=device)\n",
    "old_CA.load(config[\"growing_file\"])\n",
    "\n",
    "for param in old_CA.parameters():\n",
    "   param.requires_grad = False"
   ]
  },
  {
   "cell_type": "code",
   "execution_count": 7,
   "id": "449ad918",
   "metadata": {},
   "outputs": [
    {
     "name": "stdout",
     "output_type": "stream",
     "text": [
      "512 cpu\n"
     ]
    },
    {
     "name": "stderr",
     "output_type": "stream",
     "text": [
      "Clipping input data to the valid range for imshow with RGB data ([0..1] for floats or [0..255] for integers).\n"
     ]
    },
    {
     "data": {
      "image/png": "[encoded data removed]",
      "text/plain": [
       "<Figure size 432x288 with 1 Axes>"
      ]
     },
     "metadata": {
      "needs_background": "light"
     },
     "output_type": "display_data"
    }
   ],
   "source": [
    "# Starting state\n",
    "class Generator:\n",
    "    def __init__(self, n_channels, image_size, CA, iter_func=ExponentialSampler(min=40, max=64)):\n",
    "        self.n_channels = n_channels\n",
    "        self.image_size = image_size\n",
    "        self.CA = CA\n",
    "        self.iter_func = iter_func\n",
    "\n",
    "    def __call__(self, n_images, device):\n",
    "        images = make_seed(n_images, self.n_channels, self.image_size, n_CAs=1, alpha_channel=3, device=device)\n",
    "        print(n_images, device)\n",
    "        batch_size = 32\n",
    "        for i in range(0, n_images, batch_size):\n",
    "            images[i:i+batch_size] = self.CA.evolve(images[i:i+batch_size], self.iter_func()[0])\n",
    "\n",
    "        return images.to(device)\n",
    "\n",
    "generator = Generator(config[\"n_channels\"], config[\"image_size\"], old_CA)\n",
    "pool = SamplePool(config[\"pool_size\"], generator)"
   ]
  },
  {
   "cell_type": "code",
   "execution_count": 20,
   "id": "502aa530",
   "metadata": {},
   "outputs": [
    {
     "name": "stderr",
     "output_type": "stream",
     "text": [
      "Clipping input data to the valid range for imshow with RGB data ([0..1] for floats or [0..255] for integers).\n"
     ]
    },
    {
     "name": "stdout",
     "output_type": "stream",
     "text": [
      "1 cpu\n"
     ]
    },
    {
     "data": {
      "image/png": "[encoded data removed]",
      "text/plain": [
       "<Figure size 432x288 with 1 Axes>"
      ]
     },
     "metadata": {
      "needs_background": "light"
     },
     "output_type": "display_data"
    },
    {
     "data": {
      "text/plain": [
       "<matplotlib.image.AxesImage at 0x7f3b5c2b0160>"
      ]
     },
     "execution_count": 20,
     "metadata": {},
     "output_type": "execute_result"
    }
   ],
   "source": [
    "imshow(generator(1, \"cpu\")[0])"
   ]
  },
  {
   "cell_type": "code",
   "execution_count": 46,
   "id": "86a7438d",
   "metadata": {},
   "outputs": [
    {
     "name": "stderr",
     "output_type": "stream",
     "text": [
      "Clipping input data to the valid range for imshow with RGB data ([0..1] for floats or [0..255] for integers).\n"
     ]
    },
    {
     "data": {
      "image/png": "[encoded data removed]",
      "text/plain": [
       "<Figure size 432x288 with 1 Axes>"
      ]
     },
     "metadata": {
      "needs_background": "light"
     },
     "output_type": "display_data"
    },
    {
     "data": {
      "text/plain": [
       "<matplotlib.image.AxesImage at 0x7f388080a970>"
      ]
     },
     "execution_count": 46,
     "metadata": {},
     "output_type": "execute_result"
    }
   ],
   "source": [
    "imshow(pool.sample(1)[0][0])"
   ]
  },
  {
   "cell_type": "code",
   "execution_count": 32,
   "id": "f36b4d29",
   "metadata": {
    "tags": []
   },
   "outputs": [
    {
     "data": {
      "image/png": "[encoded data removed]",
      "text/plain": [
       "<Figure size 432x288 with 1 Axes>"
      ]
     },
     "metadata": {
      "needs_background": "light"
     },
     "output_type": "display_data"
    },
    {
     "data": {
      "text/plain": [
       "<matplotlib.image.AxesImage at 0x7f388890a2e0>"
      ]
     },
     "execution_count": 32,
     "metadata": {},
     "output_type": "execute_result"
    }
   ],
   "source": [
    "# Imports the target emoji\n",
    "target = read_image(\"images/\" + config[\"image\"], ImageReadMode.RGB_ALPHA).float()\n",
    "target = T.Resize((config[\"target_size\"], config[\"target_size\"]))(target)\n",
    "target = RGBAtoFloat(target)\n",
    "\n",
    "imshow(target)"
   ]
  },
  {
   "cell_type": "code",
   "execution_count": 33,
   "id": "d08d538d",
   "metadata": {},
   "outputs": [],
   "source": [
    "# Send target to device\n",
    "target = target.to(device)"
   ]
  },
  {
   "cell_type": "code",
   "execution_count": 34,
   "id": "186e15c2",
   "metadata": {},
   "outputs": [
    {
     "name": "stdout",
     "output_type": "stream",
     "text": [
      "Successfully loaded model!\n"
     ]
    }
   ],
   "source": [
    "# Load the virus CA part\n",
    "new_CA = NeuralCA(device=device)\n",
    "new_CA.load(config[\"virus_file\"])\n",
    "model = VirusCA(old_CA, new_CA, mutation_probability=config[\"virus_rate\"])\n",
    "model.initialized = False"
   ]
  },
  {
   "cell_type": "code",
   "execution_count": 35,
   "id": "f1e14574",
   "metadata": {},
   "outputs": [
    {
     "data": {
      "text/plain": []
     },
     "execution_count": 35,
     "metadata": {},
     "output_type": "execute_result"
    }
   ],
   "source": [
    "wandb.init(mode=\"disabled\")"
   ]
  },
  {
   "cell_type": "code",
   "execution_count": null,
   "id": "4fc8df8a",
   "metadata": {},
   "outputs": [],
   "source": [
    "losses = [NCALoss(pad(target, config[\"target_padding\"]), alpha_channels=[3])]\n",
    "weights = [ConstantWeight(config[\"start_appling_loss\"])]\n",
    "\n",
    "criterion = CombinedLoss(losses, weights)\n",
    "\n",
    "model.end_step_loss = NCADistance(old_CA, new_CA, config[\"perturbation_multiplier\"])"
   ]
  },
  {
   "cell_type": "code",
   "execution_count": null,
   "id": "0ca8aed3",
   "metadata": {},
   "outputs": [],
   "source": [
    "# Train the model\n",
    "# wandb.watch(model, log_freq=64)\n",
    "\n",
    "params = model.CAs[1].parameters()\n",
    "\n",
    "optimizer = torch.optim.Adam(params, lr=config[\"lr\"])\n",
    "scheduler = torch.optim.lr_scheduler.StepLR(optimizer, config[\"step_size\"], config[\"gamma\"])\n",
    "\n",
    "model.train_CA(optimizer, criterion, pool, scheduler=scheduler, **config)"
   ]
  },
  {
   "cell_type": "code",
   "execution_count": null,
   "id": "01a964e5",
   "metadata": {},
   "outputs": [],
   "source": [
    "# Show losses\n",
    "model.plot_losses()"
   ]
  },
  {
   "cell_type": "code",
   "execution_count": null,
   "id": "f4f86004",
   "metadata": {},
   "outputs": [],
   "source": [
    "# Show a sample from the pool images\n",
    "imshow(pool.sample(1)[0][0])"
   ]
  },
  {
   "cell_type": "code",
   "execution_count": 13,
   "id": "c79e3afe",
   "metadata": {},
   "outputs": [
    {
     "name": "stdout",
     "output_type": "stream",
     "text": [
      "Successfully saved model!\n"
     ]
    },
    {
     "data": {
      "text/plain": [
       "['/home/lettera/Desktop/neural_cellular_automata/pytorch_ca/wandb/run-20211026_171534-30ewk9yt/files/Pretrained_models/mask/mask 95.0% persist.pt']"
      ]
     },
     "execution_count": 13,
     "metadata": {},
     "output_type": "execute_result"
    }
   ],
   "source": [
    "# Save the model and upload it to wandb\n",
    "model.new_CA.save(f\"Pretrained_models/mask/mask {mask_percentage*100}% persist.pt\")\n",
    "\n",
    "wandb.log({\"state_dict\": model.new_CA.state_dict()})\n",
    "wandb.save(f\"Pretrained_models/mask/mask {mask_percentage*100}% persist.pt\")"
   ]
  },
  {
   "cell_type": "code",
   "execution_count": null,
   "id": "92d3061a",
   "metadata": {},
   "outputs": [],
   "source": [
    "# Upload pool images to wandb\n",
    "imgs = []\n",
    "\n",
    "for i in range(12):\n",
    "    img = np.asarray(pool.sample(1)[0][0].cpu().permute(1, 2, 0)[:, :, :4])\n",
    "    img = wandb.Image(img)\n",
    "    imgs.append(img)\n",
    "\n",
    "wandb.log({\"pool samples\": imgs})"
   ]
  },
  {
   "cell_type": "code",
   "execution_count": null,
   "id": "bde88478",
   "metadata": {},
   "outputs": [],
   "source": [
    "# Show the virus cell mask\n",
    "pl.matshow(model.new_cells.cpu()[0,0])"
   ]
  },
  {
   "cell_type": "code",
   "execution_count": null,
   "id": "10ad6242",
   "metadata": {},
   "outputs": [],
   "source": [
    "# Upload mask to wandb\n",
    "wandb.log({\"mask\": wandb.Image(model.new_cells.cpu()[0,0])})"
   ]
  },
  {
   "cell_type": "code",
   "execution_count": 21,
   "id": "52165acb",
   "metadata": {},
   "outputs": [],
   "source": [
    "# Make a switch video\n",
    "_ , _ = switch_video(old_CA, model, fname=\"mask 70%.mp4\")"
   ]
  },
  {
   "cell_type": "code",
   "execution_count": null,
   "id": "32d5d738",
   "metadata": {},
   "outputs": [],
   "source": [
    "# Upload the evolution video to wandb\n",
    "wandb.log({\"video\": wandb.Video(\"prova.mp4\", \"video\", fps=10, format=\"mp4\")})"
   ]
  },
  {
   "cell_type": "code",
   "execution_count": 92,
   "id": "ea0217bd",
   "metadata": {},
   "outputs": [
    {
     "name": "stderr",
     "output_type": "stream",
     "text": [
      "Clipping input data to the valid range for imshow with RGB data ([0..1] for floats or [0..255] for integers).\n"
     ]
    },
    {
     "data": {
      "image/png": "[encoded data removed]",
      "text/plain": [
       "<Figure size 432x288 with 1 Axes>"
      ]
     },
     "metadata": {},
     "output_type": "display_data"
    },
    {
     "name": "stderr",
     "output_type": "stream",
     "text": [
      "Clipping input data to the valid range for imshow with RGB data ([0..1] for floats or [0..255] for integers).\n"
     ]
    },
    {
     "data": {
      "image/png": "[encoded data removed]",
      "text/plain": [
       "<Figure size 432x288 with 1 Axes>"
      ]
     },
     "metadata": {},
     "output_type": "display_data"
    }
   ],
   "source": [
    "# Evolve the CA for 200 iters and plot it\n",
    "x, _ = pool.sample(1)\n",
    "imshow(x[0])\n",
    "x = x.to(device)\n",
    "model.update_cell_mask(x)\n",
    "\n",
    "with torch.no_grad():\n",
    "    x = model.evolve(x, 30)\n",
    "\n",
    "imshow(x[0].cpu())"
   ]
  },
  {
   "cell_type": "code",
   "execution_count": null,
   "id": "c0a8c1fd",
   "metadata": {},
   "outputs": [],
   "source": [
    "def plot_test(results: dict, fname=None):\n",
    "\n",
    "    fig, ax = plt.subplots()\n",
    "\n",
    "    ax.loglog(results[0.], label=\"Growing\", color=\"orange\")\n",
    "\n",
    "    for k, v in sorted(results.items()):\n",
    "        if k < 0.6: continue\n",
    "        colormap = pl.cm.get_cmap(\"viridis\")\n",
    "        ax.loglog(v, label=f\"{k*100:.0f}%\", color=colormap(2.2*(1-k)))\n",
    "\n",
    "    pl.xlabel(\"Iterations\")\n",
    "    pl.ylabel(\"Loss\")\n",
    "    pl.legend(frameon=False)\n",
    "    ax.spines['top'].set_visible(False)\n",
    "    ax.spines['right'].set_visible(False)\n",
    "\n",
    "    if fname is not None:\n",
    "        pl.savefig(fname, dpi=300)\n",
    "    pl.show()"
   ]
  }
 ],
 "metadata": {
  "interpreter": {
   "hash": "f38bca3c9600444284abf86780be38c386e032d708dbe2e8970d98e9b2d0aa36"
  },
  "kernelspec": {
   "display_name": "Python 3.8.11 64-bit ('base': conda)",
   "name": "python3"
  },
  "language_info": {
   "codemirror_mode": {
    "name": "ipython",
    "version": 3
   },
   "file_extension": ".py",
   "mimetype": "text/x-python",
   "name": "python",
   "nbconvert_exporter": "python",
   "pygments_lexer": "ipython3",
   "version": "3.9.7"
  }
 },
 "nbformat": 4,
 "nbformat_minor": 5
}
