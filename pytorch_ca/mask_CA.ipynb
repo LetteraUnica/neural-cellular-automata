{
 "cells": [
  {
   "cell_type": "code",
   "execution_count": 2,
   "id": "6f3b7ab3",
   "metadata": {},
   "outputs": [],
   "source": [
    "import torch\n",
    "from torchvision.io import read_image, ImageReadMode, write_video\n",
    "import torchvision.transforms as T\n",
    "from random import randint\n",
    "from IPython.display import clear_output\n",
    "import numpy as np\n",
    "import pylab as pl\n",
    "import wandb\n",
    "\n",
    "from src import *"
   ]
  },
  {
   "cell_type": "code",
   "execution_count": 3,
   "id": "d52bdf95",
   "metadata": {},
   "outputs": [],
   "source": [
    "N_CHANNELS = 15        # Number of CA state channels\n",
    "TARGET_PADDING = 8    # Number of pixels used to pad the target image border\n",
    "TARGET_SIZE = 40       # Size of the target emoji\n",
    "IMAGE_SIZE = TARGET_PADDING+TARGET_SIZE\n",
    "BATCH_SIZE = 4\n",
    "N_ITERS = 45           # Iterations before applying the loss\n",
    "POOL_SIZE = 512\n",
    "CELL_FIRE_RATE = 0.5\n",
    "VIRUS_PROPORTION = 0.1"
   ]
  },
  {
   "cell_type": "code",
   "execution_count": 4,
   "id": "f3f75db3",
   "metadata": {},
   "outputs": [],
   "source": [
    "device = torch.device(\"cuda\" if torch.cuda.is_available() else \"cpu\")"
   ]
  },
  {
   "cell_type": "code",
   "execution_count": 5,
   "id": "20b50eb7",
   "metadata": {},
   "outputs": [
    {
     "name": "stdout",
     "output_type": "stream",
     "text": [
      "Successfully loaded model!\n"
     ]
    }
   ],
   "source": [
    "# Load the growing CA part\n",
    "old_CA = NeuralCA(device=device)\n",
    "old_CA.load(\"Pretrained_models/firework_growing.pt\")\n",
    "\n",
    "for param in old_CA.parameters():\n",
    "   param.requires_grad = False"
   ]
  },
  {
   "cell_type": "code",
   "execution_count": 6,
   "id": "449ad918",
   "metadata": {},
   "outputs": [
    {
     "name": "stderr",
     "output_type": "stream",
     "text": [
      "Clipping input data to the valid range for imshow with RGB data ([0..1] for floats or [0..255] for integers).\n"
     ]
    },
    {
     "data": {
      "image/png": "[encoded data removed]",
      "text/plain": [
       "<Figure size 432x288 with 1 Axes>"
      ]
     },
     "metadata": {
      "needs_background": "light"
     },
     "output_type": "display_data"
    },
    {
     "data": {
      "text/plain": [
       "<matplotlib.image.AxesImage at 0x7fa004222070>"
      ]
     },
     "execution_count": 6,
     "metadata": {},
     "output_type": "execute_result"
    }
   ],
   "source": [
    "# Starting state\n",
    "def generator(n, device):\n",
    "    return make_seed(n, N_CHANNELS-1, IMAGE_SIZE, alpha_channel=3, device=device)\n",
    "\n",
    "generator = VirusGenerator(N_CHANNELS, IMAGE_SIZE, 1, old_CA, iter_func=ExponentialSampler(max=50))\n",
    "pool = SamplePool(POOL_SIZE, generator)\n",
    "imshow(pool[0])"
   ]
  },
  {
   "cell_type": "code",
   "execution_count": 7,
   "id": "f36b4d29",
   "metadata": {
    "tags": []
   },
   "outputs": [
    {
     "data": {
      "image/png": "[encoded data removed]",
      "text/plain": [
       "<Figure size 432x288 with 1 Axes>"
      ]
     },
     "metadata": {
      "needs_background": "light"
     },
     "output_type": "display_data"
    },
    {
     "data": {
      "text/plain": [
       "<matplotlib.image.AxesImage at 0x7fa00e491a00>"
      ]
     },
     "execution_count": 7,
     "metadata": {},
     "output_type": "execute_result"
    }
   ],
   "source": [
    "# Imports the target emoji\n",
    "target = read_image(\"images/firework.png\", ImageReadMode.RGB_ALPHA).float()\n",
    "target = T.Resize((TARGET_SIZE, TARGET_SIZE))(target)\n",
    "target = RGBAtoFloat(target)\n",
    "\n",
    "imshow(target)"
   ]
  },
  {
   "cell_type": "code",
   "execution_count": 8,
   "id": "d08d538d",
   "metadata": {},
   "outputs": [],
   "source": [
    "# Send target to device\n",
    "target = target.to(device)"
   ]
  },
  {
   "cell_type": "code",
   "execution_count": 9,
   "id": "186e15c2",
   "metadata": {},
   "outputs": [
    {
     "name": "stdout",
     "output_type": "stream",
     "text": [
      "Successfully loaded model!\n"
     ]
    }
   ],
   "source": [
    "# Load the virus CA part\n",
    "new_CA = NeuralCA(device=device)\n",
    "new_CA.load(\"Pretrained_models/mask/mask 80.0% persist.pt\")\n",
    "model = VirusCA(old_CA, new_CA, mutation_probability=0.8)\n",
    "model.initialized = False"
   ]
  },
  {
   "cell_type": "code",
   "execution_count": null,
   "id": "ba86d3d8",
   "metadata": {},
   "outputs": [],
   "source": [
    "def plot_test(results: dict, fname=None):\n",
    "\n",
    "    fig, ax = plt.subplots()\n",
    "\n",
    "    ax.loglog(results[0.], label=\"Growing\", color=\"orange\")\n",
    "\n",
    "    for k, v in sorted(results.items()):\n",
    "        if k < 0.6: continue\n",
    "        colormap = pl.cm.get_cmap(\"viridis\")\n",
    "        ax.loglog(v, label=f\"{k*100:.0f}%\", color=colormap(2.2*(1-k)))\n",
    "\n",
    "    pl.xlabel(\"Iterations\")\n",
    "    pl.ylabel(\"Loss\")\n",
    "    pl.legend(frameon=False)\n",
    "    ax.spines['top'].set_visible(False)\n",
    "    ax.spines['right'].set_visible(False)\n",
    "\n",
    "    if fname is not None:\n",
    "        pl.savefig(fname, dpi=300)\n",
    "    pl.show()"
   ]
  },
  {
   "cell_type": "code",
   "execution_count": 30,
   "id": "69f3c359",
   "metadata": {},
   "outputs": [],
   "source": [
    "model = VirusCA(old_CA, new_CA, mutation_probability=0.9)"
   ]
  },
  {
   "cell_type": "code",
   "execution_count": 9,
   "id": "5146a7c8",
   "metadata": {},
   "outputs": [
    {
     "name": "stderr",
     "output_type": "stream",
     "text": [
      "Clipping input data to the valid range for imshow with RGB data ([0..1] for floats or [0..255] for integers).\n"
     ]
    },
    {
     "data": {
      "image/png": "[encoded data removed]",
      "text/plain": [
       "<Figure size 432x288 with 1 Axes>"
      ]
     },
     "metadata": {
      "needs_background": "light"
     },
     "output_type": "display_data"
    },
    {
     "data": {
      "text/plain": [
       "<matplotlib.image.AxesImage at 0x7fb45ed0b100>"
      ]
     },
     "execution_count": 9,
     "metadata": {},
     "output_type": "execute_result"
    }
   ],
   "source": [
    "# Starting state\n",
    "def generator(n, device):\n",
    "    return make_seed(n, N_CHANNELS-1, IMAGE_SIZE, alpha_channel=3, device=device)\n",
    "\n",
    "generator = VirusGenerator(N_CHANNELS, IMAGE_SIZE, 1, old_CA, iter_func=ExponentialSampler(max=50))\n",
    "pool = SamplePool(POOL_SIZE, generator)\n",
    "imshow(pool[0])"
   ]
  },
  {
   "cell_type": "code",
   "execution_count": null,
   "id": "0ca8aed3",
   "metadata": {},
   "outputs": [],
   "source": [
    "# Train the model\n",
    "wandb.watch(model, log_freq=64)\n",
    "\n",
    "optimizer = torch.optim.Adam(model.new_CA.parameters(), lr=1e-3)\n",
    "criterion = NCALoss(pad(target, TARGET_PADDING))\n",
    "scheduler = torch.optim.lr_scheduler.MultiStepLR(optimizer, milestones=[20,40], gamma=0.3)\n",
    "model.train_CA(optimizer, criterion, pool, n_epochs=50, scheduler=scheduler, kind=\"persist\", batch_size=4, skip_update=2, skip_damage=2)"
   ]
  },
  {
   "cell_type": "code",
   "execution_count": null,
   "id": "01a964e5",
   "metadata": {},
   "outputs": [],
   "source": [
    "# Show losses\n",
    "model.plot_losses()"
   ]
  },
  {
   "cell_type": "code",
   "execution_count": null,
   "id": "f4f86004",
   "metadata": {},
   "outputs": [],
   "source": [
    "# Show a sample from the pool images\n",
    "imshow(pool.sample(1)[0][0])"
   ]
  },
  {
   "cell_type": "code",
   "execution_count": 13,
   "id": "c79e3afe",
   "metadata": {},
   "outputs": [
    {
     "name": "stdout",
     "output_type": "stream",
     "text": [
      "Successfully saved model!\n"
     ]
    },
    {
     "data": {
      "text/plain": [
       "['/home/lettera/Desktop/neural_cellular_automata/pytorch_ca/wandb/run-20211026_171534-30ewk9yt/files/Pretrained_models/mask/mask 95.0% persist.pt']"
      ]
     },
     "execution_count": 13,
     "metadata": {},
     "output_type": "execute_result"
    }
   ],
   "source": [
    "# Save the model and upload it to wandb\n",
    "model.new_CA.save(f\"Pretrained_models/mask/mask {mask_percentage*100}% persist.pt\")\n",
    "\n",
    "wandb.log({\"state_dict\": model.new_CA.state_dict()})\n",
    "wandb.save(f\"Pretrained_models/mask/mask {mask_percentage*100}% persist.pt\")"
   ]
  },
  {
   "cell_type": "code",
   "execution_count": null,
   "id": "92d3061a",
   "metadata": {},
   "outputs": [],
   "source": [
    "# Upload pool images to wandb\n",
    "imgs = []\n",
    "\n",
    "for i in range(12):\n",
    "    img = np.asarray(pool.sample(1)[0][0].cpu().permute(1, 2, 0)[:, :, :4])\n",
    "    img = wandb.Image(img)\n",
    "    imgs.append(img)\n",
    "\n",
    "wandb.log({\"pool samples\": imgs})"
   ]
  },
  {
   "cell_type": "code",
   "execution_count": null,
   "id": "bde88478",
   "metadata": {},
   "outputs": [],
   "source": [
    "# Show the virus cell mask\n",
    "pl.matshow(model.new_cells.cpu()[0,0])"
   ]
  },
  {
   "cell_type": "code",
   "execution_count": null,
   "id": "10ad6242",
   "metadata": {},
   "outputs": [],
   "source": [
    "# Upload mask to wandb\n",
    "wandb.log({\"mask\": wandb.Image(model.new_cells.cpu()[0,0])})"
   ]
  },
  {
   "cell_type": "code",
   "execution_count": 21,
   "id": "52165acb",
   "metadata": {},
   "outputs": [],
   "source": [
    "# Make a switch video\n",
    "_ , _ = switch_video(old_CA, model, fname=\"mask 70%.mp4\")"
   ]
  },
  {
   "cell_type": "code",
   "execution_count": null,
   "id": "32d5d738",
   "metadata": {},
   "outputs": [],
   "source": [
    "# Upload the evolution video to wandb\n",
    "wandb.log({\"video\": wandb.Video(\"prova.mp4\", \"video\", fps=10, format=\"mp4\")})"
   ]
  },
  {
   "cell_type": "code",
   "execution_count": 92,
   "id": "ea0217bd",
   "metadata": {},
   "outputs": [
    {
     "name": "stderr",
     "output_type": "stream",
     "text": [
      "Clipping input data to the valid range for imshow with RGB data ([0..1] for floats or [0..255] for integers).\n"
     ]
    },
    {
     "data": {
      "image/png": "[encoded data removed]",
      "text/plain": [
       "<Figure size 432x288 with 1 Axes>"
      ]
     },
     "metadata": {},
     "output_type": "display_data"
    },
    {
     "name": "stderr",
     "output_type": "stream",
     "text": [
      "Clipping input data to the valid range for imshow with RGB data ([0..1] for floats or [0..255] for integers).\n"
     ]
    },
    {
     "data": {
      "image/png": "[encoded data removed]",
      "text/plain": [
       "<Figure size 432x288 with 1 Axes>"
      ]
     },
     "metadata": {},
     "output_type": "display_data"
    }
   ],
   "source": [
    "# Evolve the CA for 200 iters and plot it\n",
    "x, _ = pool.sample(1)\n",
    "imshow(x[0])\n",
    "x = x.to(device)\n",
    "model.update_cell_mask(x)\n",
    "\n",
    "with torch.no_grad():\n",
    "    x = model.evolve(x, 30)\n",
    "\n",
    "imshow(x[0].cpu())"
   ]
  }
 ],
 "metadata": {
  "interpreter": {
   "hash": "f38bca3c9600444284abf86780be38c386e032d708dbe2e8970d98e9b2d0aa36"
  },
  "kernelspec": {
   "display_name": "Python 3.8.11 64-bit ('base': conda)",
   "name": "python3"
  },
  "language_info": {
   "codemirror_mode": {
    "name": "ipython",
    "version": 3
   },
   "file_extension": ".py",
   "mimetype": "text/x-python",
   "name": "python",
   "nbconvert_exporter": "python",
   "pygments_lexer": "ipython3",
   "version": "3.8.11"
  }
 },
 "nbformat": 4,
 "nbformat_minor": 5
}
